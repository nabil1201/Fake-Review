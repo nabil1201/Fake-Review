{
 "cells": [
  {
   "cell_type": "code",
   "execution_count": 1,
   "id": "83aa512c",
   "metadata": {
    "execution": {
     "iopub.execute_input": "2023-03-27T15:55:41.430774Z",
     "iopub.status.busy": "2023-03-27T15:55:41.429899Z",
     "iopub.status.idle": "2023-03-27T15:55:43.319911Z",
     "shell.execute_reply": "2023-03-27T15:55:43.318851Z"
    },
    "papermill": {
     "duration": 1.913523,
     "end_time": "2023-03-27T15:55:43.322825",
     "exception": false,
     "start_time": "2023-03-27T15:55:41.409302",
     "status": "completed"
    },
    "tags": []
   },
   "outputs": [],
   "source": [
    "import pandas as pd\n",
    "import re,string\n",
    "import numpy as np\n",
    "import seaborn as sns\n",
    "import matplotlib.pyplot as plt\n",
    "import nltk\n",
    "from nltk.corpus import stopwords\n",
    "from sklearn.metrics import classification_report,confusion_matrix,accuracy_score,f1_score\n",
    "from sklearn.model_selection import train_test_split\n",
    "from sklearn.linear_model import LogisticRegression\n",
    "from sklearn.feature_extraction.text import TfidfVectorizer\n",
    "from sklearn.feature_extraction.text import CountVectorizer\n",
    "from xgboost.sklearn import XGBClassifier"
   ]
  },
  {
   "cell_type": "code",
   "execution_count": 2,
   "id": "af3de958",
   "metadata": {
    "execution": {
     "iopub.execute_input": "2023-03-27T15:55:43.359091Z",
     "iopub.status.busy": "2023-03-27T15:55:43.358762Z",
     "iopub.status.idle": "2023-03-27T15:55:43.367883Z",
     "shell.execute_reply": "2023-03-27T15:55:43.367049Z"
    },
    "papermill": {
     "duration": 0.029434,
     "end_time": "2023-03-27T15:55:43.370099",
     "exception": false,
     "start_time": "2023-03-27T15:55:43.340665",
     "status": "completed"
    },
    "tags": []
   },
   "outputs": [],
   "source": [
    "from nltk.corpus import stopwords\n",
    "stop_words = set(stopwords.words('english'))"
   ]
  },
  {
   "cell_type": "code",
   "execution_count": 3,
   "id": "097ddd32",
   "metadata": {
    "execution": {
     "iopub.execute_input": "2023-03-27T15:55:43.406324Z",
     "iopub.status.busy": "2023-03-27T15:55:43.406001Z",
     "iopub.status.idle": "2023-03-27T15:55:43.410664Z",
     "shell.execute_reply": "2023-03-27T15:55:43.409642Z"
    },
    "papermill": {
     "duration": 0.025186,
     "end_time": "2023-03-27T15:55:43.413037",
     "exception": false,
     "start_time": "2023-03-27T15:55:43.387851",
     "status": "completed"
    },
    "tags": []
   },
   "outputs": [],
   "source": [
    "from nltk.corpus import wordnet"
   ]
  },
  {
   "cell_type": "code",
   "execution_count": 4,
   "id": "7c4c8b87",
   "metadata": {
    "_cell_guid": "b1076dfc-b9ad-4769-8c92-a6c4dae69d19",
    "_uuid": "8f2839f25d086af736a60e9eeb907d3b93b6e0e5",
    "execution": {
     "iopub.execute_input": "2023-03-27T15:55:43.448341Z",
     "iopub.status.busy": "2023-03-27T15:55:43.448038Z",
     "iopub.status.idle": "2023-03-27T15:55:43.883229Z",
     "shell.execute_reply": "2023-03-27T15:55:43.882209Z"
    },
    "papermill": {
     "duration": 0.455634,
     "end_time": "2023-03-27T15:55:43.886115",
     "exception": false,
     "start_time": "2023-03-27T15:55:43.430481",
     "status": "completed"
    },
    "tags": []
   },
   "outputs": [],
   "source": [
    "data = pd.read_csv('/kaggle/input/fake-reviews/fake reviews dataset.csv')"
   ]
  },
  {
   "cell_type": "code",
   "execution_count": 5,
   "id": "7fae0300",
   "metadata": {
    "execution": {
     "iopub.execute_input": "2023-03-27T15:55:43.924216Z",
     "iopub.status.busy": "2023-03-27T15:55:43.923843Z",
     "iopub.status.idle": "2023-03-27T15:55:43.943011Z",
     "shell.execute_reply": "2023-03-27T15:55:43.941769Z"
    },
    "papermill": {
     "duration": 0.040708,
     "end_time": "2023-03-27T15:55:43.945420",
     "exception": false,
     "start_time": "2023-03-27T15:55:43.904712",
     "status": "completed"
    },
    "tags": []
   },
   "outputs": [],
   "source": [
    "data.drop('category', inplace=True, axis=1)"
   ]
  },
  {
   "cell_type": "code",
   "execution_count": 6,
   "id": "5ede238b",
   "metadata": {
    "execution": {
     "iopub.execute_input": "2023-03-27T15:55:43.984046Z",
     "iopub.status.busy": "2023-03-27T15:55:43.983676Z",
     "iopub.status.idle": "2023-03-27T15:55:44.020483Z",
     "shell.execute_reply": "2023-03-27T15:55:44.019257Z"
    },
    "papermill": {
     "duration": 0.060282,
     "end_time": "2023-03-27T15:55:44.024420",
     "exception": false,
     "start_time": "2023-03-27T15:55:43.964138",
     "status": "completed"
    },
    "tags": []
   },
   "outputs": [
    {
     "data": {
      "text/html": [
       "<div>\n",
       "<style scoped>\n",
       "    .dataframe tbody tr th:only-of-type {\n",
       "        vertical-align: middle;\n",
       "    }\n",
       "\n",
       "    .dataframe tbody tr th {\n",
       "        vertical-align: top;\n",
       "    }\n",
       "\n",
       "    .dataframe thead th {\n",
       "        text-align: right;\n",
       "    }\n",
       "</style>\n",
       "<table border=\"1\" class=\"dataframe\">\n",
       "  <thead>\n",
       "    <tr style=\"text-align: right;\">\n",
       "      <th></th>\n",
       "      <th>rating</th>\n",
       "      <th>label</th>\n",
       "      <th>text_</th>\n",
       "    </tr>\n",
       "  </thead>\n",
       "  <tbody>\n",
       "    <tr>\n",
       "      <th>0</th>\n",
       "      <td>5.0</td>\n",
       "      <td>0</td>\n",
       "      <td>Love this!  Well made, sturdy, and very comfor...</td>\n",
       "    </tr>\n",
       "    <tr>\n",
       "      <th>1</th>\n",
       "      <td>5.0</td>\n",
       "      <td>0</td>\n",
       "      <td>love it, a great upgrade from the original.  I...</td>\n",
       "    </tr>\n",
       "    <tr>\n",
       "      <th>2</th>\n",
       "      <td>5.0</td>\n",
       "      <td>0</td>\n",
       "      <td>This pillow saved my back. I love the look and...</td>\n",
       "    </tr>\n",
       "    <tr>\n",
       "      <th>3</th>\n",
       "      <td>1.0</td>\n",
       "      <td>0</td>\n",
       "      <td>Missing information on how to use it, but it i...</td>\n",
       "    </tr>\n",
       "    <tr>\n",
       "      <th>4</th>\n",
       "      <td>5.0</td>\n",
       "      <td>0</td>\n",
       "      <td>Very nice set. Good quality. We have had the s...</td>\n",
       "    </tr>\n",
       "  </tbody>\n",
       "</table>\n",
       "</div>"
      ],
      "text/plain": [
       "   rating  label                                              text_\n",
       "0     5.0      0  Love this!  Well made, sturdy, and very comfor...\n",
       "1     5.0      0  love it, a great upgrade from the original.  I...\n",
       "2     5.0      0  This pillow saved my back. I love the look and...\n",
       "3     1.0      0  Missing information on how to use it, but it i...\n",
       "4     5.0      0  Very nice set. Good quality. We have had the s..."
      ]
     },
     "execution_count": 6,
     "metadata": {},
     "output_type": "execute_result"
    }
   ],
   "source": [
    "data.label=data.label.apply(lambda x: 0 if x=='CG' else 1)\n",
    "\n",
    "data.head()"
   ]
  },
  {
   "cell_type": "code",
   "execution_count": 7,
   "id": "eea40efb",
   "metadata": {
    "execution": {
     "iopub.execute_input": "2023-03-27T15:55:44.062592Z",
     "iopub.status.busy": "2023-03-27T15:55:44.062207Z",
     "iopub.status.idle": "2023-03-27T15:55:47.836884Z",
     "shell.execute_reply": "2023-03-27T15:55:47.835851Z"
    },
    "papermill": {
     "duration": 3.796523,
     "end_time": "2023-03-27T15:55:47.839239",
     "exception": false,
     "start_time": "2023-03-27T15:55:44.042716",
     "status": "completed"
    },
    "tags": []
   },
   "outputs": [
    {
     "data": {
      "text/html": [
       "<div>\n",
       "<style scoped>\n",
       "    .dataframe tbody tr th:only-of-type {\n",
       "        vertical-align: middle;\n",
       "    }\n",
       "\n",
       "    .dataframe tbody tr th {\n",
       "        vertical-align: top;\n",
       "    }\n",
       "\n",
       "    .dataframe thead th {\n",
       "        text-align: right;\n",
       "    }\n",
       "</style>\n",
       "<table border=\"1\" class=\"dataframe\">\n",
       "  <thead>\n",
       "    <tr style=\"text-align: right;\">\n",
       "      <th></th>\n",
       "      <th>text_</th>\n",
       "      <th>count_sent</th>\n",
       "      <th>count_word</th>\n",
       "      <th>count_unique_word</th>\n",
       "      <th>count_letters</th>\n",
       "      <th>count_punctuations</th>\n",
       "      <th>count_words_upper</th>\n",
       "      <th>count_words_title</th>\n",
       "      <th>count_stopwords</th>\n",
       "      <th>mean_word_len</th>\n",
       "      <th>word_unique_percent</th>\n",
       "      <th>punct_percent</th>\n",
       "      <th>label</th>\n",
       "    </tr>\n",
       "  </thead>\n",
       "  <tbody>\n",
       "    <tr>\n",
       "      <th>0</th>\n",
       "      <td>Love this!  Well made, sturdy, and very comfor...</td>\n",
       "      <td>1</td>\n",
       "      <td>12</td>\n",
       "      <td>12</td>\n",
       "      <td>75</td>\n",
       "      <td>5</td>\n",
       "      <td>1</td>\n",
       "      <td>3</td>\n",
       "      <td>3</td>\n",
       "      <td>5.166667</td>\n",
       "      <td>100.000000</td>\n",
       "      <td>41.666667</td>\n",
       "      <td>0</td>\n",
       "    </tr>\n",
       "    <tr>\n",
       "      <th>1</th>\n",
       "      <td>love it, a great upgrade from the original.  I...</td>\n",
       "      <td>1</td>\n",
       "      <td>16</td>\n",
       "      <td>15</td>\n",
       "      <td>80</td>\n",
       "      <td>3</td>\n",
       "      <td>0</td>\n",
       "      <td>0</td>\n",
       "      <td>7</td>\n",
       "      <td>4.000000</td>\n",
       "      <td>93.750000</td>\n",
       "      <td>18.750000</td>\n",
       "      <td>0</td>\n",
       "    </tr>\n",
       "    <tr>\n",
       "      <th>2</th>\n",
       "      <td>This pillow saved my back. I love the look and...</td>\n",
       "      <td>1</td>\n",
       "      <td>14</td>\n",
       "      <td>14</td>\n",
       "      <td>67</td>\n",
       "      <td>2</td>\n",
       "      <td>1</td>\n",
       "      <td>2</td>\n",
       "      <td>7</td>\n",
       "      <td>3.857143</td>\n",
       "      <td>100.000000</td>\n",
       "      <td>14.285714</td>\n",
       "      <td>0</td>\n",
       "    </tr>\n",
       "    <tr>\n",
       "      <th>3</th>\n",
       "      <td>Missing information on how to use it, but it i...</td>\n",
       "      <td>1</td>\n",
       "      <td>17</td>\n",
       "      <td>17</td>\n",
       "      <td>81</td>\n",
       "      <td>2</td>\n",
       "      <td>1</td>\n",
       "      <td>2</td>\n",
       "      <td>10</td>\n",
       "      <td>3.764706</td>\n",
       "      <td>100.000000</td>\n",
       "      <td>11.764706</td>\n",
       "      <td>0</td>\n",
       "    </tr>\n",
       "    <tr>\n",
       "      <th>4</th>\n",
       "      <td>Very nice set. Good quality. We have had the s...</td>\n",
       "      <td>1</td>\n",
       "      <td>18</td>\n",
       "      <td>17</td>\n",
       "      <td>85</td>\n",
       "      <td>2</td>\n",
       "      <td>0</td>\n",
       "      <td>3</td>\n",
       "      <td>11</td>\n",
       "      <td>3.777778</td>\n",
       "      <td>94.444444</td>\n",
       "      <td>11.111111</td>\n",
       "      <td>0</td>\n",
       "    </tr>\n",
       "  </tbody>\n",
       "</table>\n",
       "</div>"
      ],
      "text/plain": [
       "                                               text_  count_sent  count_word  \\\n",
       "0  Love this!  Well made, sturdy, and very comfor...           1          12   \n",
       "1  love it, a great upgrade from the original.  I...           1          16   \n",
       "2  This pillow saved my back. I love the look and...           1          14   \n",
       "3  Missing information on how to use it, but it i...           1          17   \n",
       "4  Very nice set. Good quality. We have had the s...           1          18   \n",
       "\n",
       "   count_unique_word  count_letters  count_punctuations  count_words_upper  \\\n",
       "0                 12             75                   5                  1   \n",
       "1                 15             80                   3                  0   \n",
       "2                 14             67                   2                  1   \n",
       "3                 17             81                   2                  1   \n",
       "4                 17             85                   2                  0   \n",
       "\n",
       "   count_words_title  count_stopwords  mean_word_len  word_unique_percent  \\\n",
       "0                  3                3       5.166667           100.000000   \n",
       "1                  0                7       4.000000            93.750000   \n",
       "2                  2                7       3.857143           100.000000   \n",
       "3                  2               10       3.764706           100.000000   \n",
       "4                  3               11       3.777778            94.444444   \n",
       "\n",
       "   punct_percent  label  \n",
       "0      41.666667      0  \n",
       "1      18.750000      0  \n",
       "2      14.285714      0  \n",
       "3      11.764706      0  \n",
       "4      11.111111      0  "
      ]
     },
     "execution_count": 7,
     "metadata": {},
     "output_type": "execute_result"
    }
   ],
   "source": [
    "eng_stopwords = set(stopwords.words(\"english\"))\n",
    "\n",
    "data['count_sent']=data[\"text_\"].apply(lambda x: len(re.findall(\"\\n\",str(x)))+1)\n",
    "\n",
    "data['count_word']=data[\"text_\"].apply(lambda x: len(str(x).split()))\n",
    "\n",
    "data['count_unique_word']=data[\"text_\"].apply(lambda x: len(set(str(x).split())))\n",
    "\n",
    "data['count_letters']=data[\"text_\"].apply(lambda x: len(str(x)))\n",
    "\n",
    "data[\"count_punctuations\"] =data[\"text_\"].apply(lambda x: len([c for c in str(x) if c in string.punctuation]))\n",
    "\n",
    "data[\"count_words_upper\"] = data[\"text_\"].apply(lambda x: len([w for w in str(x).split() if w.isupper()]))\n",
    "\n",
    "data[\"count_words_title\"] = data[\"text_\"].apply(lambda x: len([w for w in str(x).split() if w.istitle()]))\n",
    "\n",
    "data[\"count_stopwords\"] = data[\"text_\"].apply(lambda x: len([w for w in str(x).lower().split() if w in eng_stopwords]))\n",
    "\n",
    "data[\"mean_word_len\"] = data[\"text_\"].apply(lambda x: np.mean([len(w) for w in str(x).split()]))\n",
    "\n",
    "data['word_unique_percent']=data['count_unique_word']*100/data['count_word']\n",
    "\n",
    "data['punct_percent']=data['count_punctuations']*100/data['count_word']\n",
    "\n",
    "data['word_unique_percent']=data['count_unique_word']*100/data['count_word']\n",
    "\n",
    "data['punct_percent']=data['count_punctuations']*100/data['count_word']\n",
    "\n",
    "data = data[['text_', 'count_sent', 'count_word', 'count_unique_word',\n",
    "       'count_letters', 'count_punctuations', 'count_words_upper',\n",
    "       'count_words_title', 'count_stopwords', 'mean_word_len',\n",
    "       'word_unique_percent', 'punct_percent','label']]\n",
    "\n",
    "data.head()"
   ]
  },
  {
   "cell_type": "code",
   "execution_count": 8,
   "id": "69c98f17",
   "metadata": {
    "execution": {
     "iopub.execute_input": "2023-03-27T15:55:47.877986Z",
     "iopub.status.busy": "2023-03-27T15:55:47.877104Z",
     "iopub.status.idle": "2023-03-27T15:55:48.340546Z",
     "shell.execute_reply": "2023-03-27T15:55:48.339484Z"
    },
    "papermill": {
     "duration": 0.484986,
     "end_time": "2023-03-27T15:55:48.343180",
     "exception": false,
     "start_time": "2023-03-27T15:55:47.858194",
     "status": "completed"
    },
    "tags": []
   },
   "outputs": [
    {
     "data": {
      "image/png": "[encoded data removed]",
      "text/plain": [
       "<Figure size 432x288 with 1 Axes>"
      ]
     },
     "metadata": {
      "needs_background": "light"
     },
     "output_type": "display_data"
    },
    {
     "data": {
      "image/png": "[encoded data removed]",
      "text/plain": [
       "<Figure size 432x288 with 1 Axes>"
      ]
     },
     "metadata": {
      "needs_background": "light"
     },
     "output_type": "display_data"
    }
   ],
   "source": [
    "plt.hist(data[data['label']==0]['count_word'],range=(0,1500),color='SkyBlue')\n",
    "plt.title('ComputerGenerated Reviews')\n",
    "plt.show()\n",
    "\n",
    "plt.hist(data[data['label']==1]['count_word'],range=(0,1500),color='PeachPuff')\n",
    "plt.title('Original  Reviews')\n",
    "plt.show()"
   ]
  },
  {
   "cell_type": "code",
   "execution_count": 9,
   "id": "a605f5a9",
   "metadata": {
    "execution": {
     "iopub.execute_input": "2023-03-27T15:55:48.386244Z",
     "iopub.status.busy": "2023-03-27T15:55:48.385108Z",
     "iopub.status.idle": "2023-03-27T15:55:48.414628Z",
     "shell.execute_reply": "2023-03-27T15:55:48.413266Z"
    },
    "papermill": {
     "duration": 0.053476,
     "end_time": "2023-03-27T15:55:48.417133",
     "exception": false,
     "start_time": "2023-03-27T15:55:48.363657",
     "status": "completed"
    },
    "tags": []
   },
   "outputs": [
    {
     "data": {
      "text/html": [
       "<div>\n",
       "<style scoped>\n",
       "    .dataframe tbody tr th:only-of-type {\n",
       "        vertical-align: middle;\n",
       "    }\n",
       "\n",
       "    .dataframe tbody tr th {\n",
       "        vertical-align: top;\n",
       "    }\n",
       "\n",
       "    .dataframe thead th {\n",
       "        text-align: right;\n",
       "    }\n",
       "</style>\n",
       "<table border=\"1\" class=\"dataframe\">\n",
       "  <thead>\n",
       "    <tr style=\"text-align: right;\">\n",
       "      <th></th>\n",
       "      <th>label</th>\n",
       "      <th>count_sent</th>\n",
       "      <th>count_word</th>\n",
       "      <th>count_unique_word</th>\n",
       "      <th>count_letters</th>\n",
       "      <th>count_punctuations</th>\n",
       "      <th>count_words_upper</th>\n",
       "      <th>count_words_title</th>\n",
       "      <th>count_stopwords</th>\n",
       "      <th>mean_word_len</th>\n",
       "      <th>word_unique_percent</th>\n",
       "      <th>punct_percent</th>\n",
       "    </tr>\n",
       "  </thead>\n",
       "  <tbody>\n",
       "    <tr>\n",
       "      <th>0</th>\n",
       "      <td>0</td>\n",
       "      <td>1.626237</td>\n",
       "      <td>61.288237</td>\n",
       "      <td>38.424763</td>\n",
       "      <td>305.573506</td>\n",
       "      <td>8.625594</td>\n",
       "      <td>3.138702</td>\n",
       "      <td>6.591710</td>\n",
       "      <td>33.769490</td>\n",
       "      <td>4.046509</td>\n",
       "      <td>76.927998</td>\n",
       "      <td>15.341096</td>\n",
       "    </tr>\n",
       "    <tr>\n",
       "      <th>1</th>\n",
       "      <td>1</td>\n",
       "      <td>1.946280</td>\n",
       "      <td>73.642610</td>\n",
       "      <td>54.416799</td>\n",
       "      <td>396.970419</td>\n",
       "      <td>11.811436</td>\n",
       "      <td>2.683914</td>\n",
       "      <td>7.717649</td>\n",
       "      <td>35.220024</td>\n",
       "      <td>4.358762</td>\n",
       "      <td>84.008864</td>\n",
       "      <td>16.276065</td>\n",
       "    </tr>\n",
       "  </tbody>\n",
       "</table>\n",
       "</div>"
      ],
      "text/plain": [
       "   label  count_sent  count_word  count_unique_word  count_letters  \\\n",
       "0      0    1.626237   61.288237          38.424763     305.573506   \n",
       "1      1    1.946280   73.642610          54.416799     396.970419   \n",
       "\n",
       "   count_punctuations  count_words_upper  count_words_title  count_stopwords  \\\n",
       "0            8.625594           3.138702           6.591710        33.769490   \n",
       "1           11.811436           2.683914           7.717649        35.220024   \n",
       "\n",
       "   mean_word_len  word_unique_percent  punct_percent  \n",
       "0       4.046509            76.927998      15.341096  \n",
       "1       4.358762            84.008864      16.276065  "
      ]
     },
     "execution_count": 9,
     "metadata": {},
     "output_type": "execute_result"
    }
   ],
   "source": [
    "data.groupby(['label'],as_index=False).mean()"
   ]
  },
  {
   "cell_type": "code",
   "execution_count": 10,
   "id": "149b01e2",
   "metadata": {
    "execution": {
     "iopub.execute_input": "2023-03-27T15:55:48.462620Z",
     "iopub.status.busy": "2023-03-27T15:55:48.461739Z",
     "iopub.status.idle": "2023-03-27T15:55:48.483660Z",
     "shell.execute_reply": "2023-03-27T15:55:48.482675Z"
    },
    "papermill": {
     "duration": 0.046795,
     "end_time": "2023-03-27T15:55:48.486133",
     "exception": false,
     "start_time": "2023-03-27T15:55:48.439338",
     "status": "completed"
    },
    "tags": []
   },
   "outputs": [],
   "source": [
    "# Removing all punctuations from review\n",
    "mapping = {\"ain't\": \"is not\", \"aren't\": \"are not\",\"can't\": \"cannot\", \"'cause\": \"because\", \"could've\": \"could have\", \"couldn't\": \"could not\", \"didn't\": \"did not\",  \"doesn't\": \"does not\", \"don't\": \"do not\", \"hadn't\": \"had not\", \"hasn't\": \"has not\", \"haven't\": \"have not\", \"he'd\": \"he would\",\"he'll\": \"he will\", \"he's\": \"he is\", \"how'd\": \"how did\", \"how'd'y\": \"how do you\", \"how'll\": \"how will\", \"how's\": \"how is\",  \"I'd\": \"I would\", \"I'd've\": \"I would have\", \"I'll\": \"I will\", \"I'll've\": \"I will have\",\"I'm\": \"I am\", \"I've\": \"I have\", \"i'd\": \"i would\", \"i'd've\": \"i would have\", \"i'll\": \"i will\",  \"i'll've\": \"i will have\",\"i'm\": \"i am\", \"i've\": \"i have\", \"isn't\": \"is not\", \"it'd\": \"it would\", \"it'd've\": \"it would have\", \"it'll\": \"it will\", \"it'll've\": \"it will have\",\"it's\": \"it is\", \"let's\": \"let us\", \"ma'am\": \"madam\", \"mayn't\": \"may not\", \"might've\": \"might have\",\"mightn't\": \"might not\",\"mightn't've\": \"might not have\", \"must've\": \"must have\", \"mustn't\": \"must not\", \"mustn't've\": \"must not have\", \"needn't\": \"need not\", \"needn't've\": \"need not have\",\"o'clock\": \"of the clock\", \"oughtn't\": \"ought not\", \"oughtn't've\": \"ought not have\", \"shan't\": \"shall not\", \"sha'n't\": \"shall not\", \"shan't've\": \"shall not have\", \"she'd\": \"she would\", \"she'd've\": \"she would have\", \"she'll\": \"she will\", \"she'll've\": \"she will have\", \"she's\": \"she is\", \"should've\": \"should have\", \"shouldn't\": \"should not\", \"shouldn't've\": \"should not have\", \"so've\": \"so have\",\"so's\": \"so as\", \"this's\": \"this is\",\"that'd\": \"that would\", \"that'd've\": \"that would have\", \"that's\": \"that is\", \"there'd\": \"there would\", \"there'd've\": \"there would have\", \"there's\": \"there is\", \"here's\": \"here is\",\"they'd\": \"they would\", \"they'd've\": \"they would have\", \"they'll\": \"they will\", \"they'll've\": \"they will have\", \"they're\": \"they are\", \"they've\": \"they have\", \"to've\": \"to have\", \"wasn't\": \"was not\", \"we'd\": \"we would\", \"we'd've\": \"we would have\", \"we'll\": \"we will\", \"we'll've\": \"we will have\", \"we're\": \"we are\", \"we've\": \"we have\", \"weren't\": \"were not\", \"what'll\": \"what will\", \"what'll've\": \"what will have\", \"what're\": \"what are\",  \"what's\": \"what is\", \"what've\": \"what have\", \"when's\": \"when is\", \"when've\": \"when have\", \"where'd\": \"where did\", \"where's\": \"where is\", \"where've\": \"where have\", \"who'll\": \"who will\", \"who'll've\": \"who will have\", \"who's\": \"who is\", \"who've\": \"who have\", \"why's\": \"why is\", \"why've\": \"why have\", \"will've\": \"will have\", \"won't\": \"will not\", \"won't've\": \"will not have\", \"would've\": \"would have\", \"wouldn't\": \"would not\", \"wouldn't've\": \"would not have\", \"y'all\": \"you all\", \"y'all'd\": \"you all would\",\"y'all'd've\": \"you all would have\",\"y'all're\": \"you all are\",\"y'all've\": \"you all have\",\"you'd\": \"you would\", \"you'd've\": \"you would have\", \"you'll\": \"you will\", \"you'll've\": \"you will have\", \"you're\": \"you are\", \"you've\": \"you have\", \"don't\" : \"do not\"}\n",
    "\n",
    "PUNCT_TO_REMOVE = string.punctuation\n",
    "def remove_punctuation(text_):\n",
    "    return text_.translate(str.maketrans('', '', PUNCT_TO_REMOVE))\n",
    "\n",
    "def clean_contractions(text_, mapping):\n",
    "    specials = [\"’\", \"‘\", \"´\", \"`\", \"_\"]\n",
    "    for s in specials:\n",
    "        if s == \"_\":\n",
    "          text_ = text_.replace(s, \" \")\n",
    "        else:\n",
    "          text_ = text_.replace(s, \"'\")\n",
    "    text_ = ' '.join([mapping[t] if t in mapping else t for t in text_.split(\" \")])\n",
    "    return text_\n",
    "\n",
    "\n",
    "from nltk.corpus import stopwords\n",
    "STOPWORDS = set(stopwords.words('english'))\n",
    "def remove_stopwords(text_):\n",
    "    return \" \".join([word for word in str(text_).split() if word not in STOPWORDS])\n",
    "\n",
    "def word_replace(text_):\n",
    "    return text_.replace('<br />','')\n",
    "\n",
    "\n",
    "from nltk.stem.porter import PorterStemmer\n",
    "stemmer = PorterStemmer()\n",
    "def stem_words(text_):\n",
    "    return \" \".join([stemmer.stem(word) for word in text_.split()])\n",
    "\n",
    "\n",
    "from nltk.stem import WordNetLemmatizer\n",
    "lemmatizer = WordNetLemmatizer()\n",
    "def lemmatize_words(text_):\n",
    "    return \" \".join([lemmatizer.lemmatize(word) for word in text_.split()])\n",
    "\n",
    "\n",
    "def remove_urls(text_):\n",
    "    url_pattern = re.compile(r'https?://\\S+|www\\.\\S+')\n",
    "    return url_pattern.sub(r'', text_)\n",
    "\n",
    "\n",
    "def remove_html(text_):\n",
    "    html_pattern = re.compile('<.*?>')\n",
    "    return html_pattern.sub(r'', text_)\n",
    "\n",
    "\n",
    "def preprocess(text_):\n",
    "    text_=clean_contractions(text_,mapping)\n",
    "    text_=text_.lower()\n",
    "    text_=word_replace(text_)\n",
    "    text_=remove_urls(text_)\n",
    "    text_=remove_html(text_)\n",
    "    text_=remove_stopwords(text_)\n",
    "    text_=remove_punctuation(text_)\n",
    "    # review=stem_words(review)\n",
    "    text_=lemmatize_words(text_)\n",
    "    \n",
    "    return text_"
   ]
  },
  {
   "cell_type": "code",
   "execution_count": 11,
   "id": "de5ea8a1",
   "metadata": {
    "execution": {
     "iopub.execute_input": "2023-03-27T15:55:48.528173Z",
     "iopub.status.busy": "2023-03-27T15:55:48.527820Z",
     "iopub.status.idle": "2023-03-27T15:55:57.604109Z",
     "shell.execute_reply": "2023-03-27T15:55:57.603128Z"
    },
    "papermill": {
     "duration": 9.10022,
     "end_time": "2023-03-27T15:55:57.606740",
     "exception": false,
     "start_time": "2023-03-27T15:55:48.506520",
     "status": "completed"
    },
    "tags": []
   },
   "outputs": [],
   "source": [
    "data[\"text_p\"] = data[\"text_\"].apply(lambda text_: preprocess(text_))"
   ]
  },
  {
   "cell_type": "code",
   "execution_count": 12,
   "id": "74c42e85",
   "metadata": {
    "execution": {
     "iopub.execute_input": "2023-03-27T15:55:57.645974Z",
     "iopub.status.busy": "2023-03-27T15:55:57.645636Z",
     "iopub.status.idle": "2023-03-27T15:55:57.660359Z",
     "shell.execute_reply": "2023-03-27T15:55:57.658394Z"
    },
    "papermill": {
     "duration": 0.037348,
     "end_time": "2023-03-27T15:55:57.662986",
     "exception": false,
     "start_time": "2023-03-27T15:55:57.625638",
     "status": "completed"
    },
    "tags": []
   },
   "outputs": [
    {
     "name": "stdout",
     "output_type": "stream",
     "text": [
      "                                                   text_  \\\n",
      "0      Love this!  Well made, sturdy, and very comfor...   \n",
      "1      love it, a great upgrade from the original.  I...   \n",
      "2      This pillow saved my back. I love the look and...   \n",
      "3      Missing information on how to use it, but it i...   \n",
      "4      Very nice set. Good quality. We have had the s...   \n",
      "...                                                  ...   \n",
      "40427  I had read some reviews saying that this bra r...   \n",
      "40428  I wasn't sure exactly what it would be. It is ...   \n",
      "40429  You can wear the hood by itself, wear it with ...   \n",
      "40430  I liked nothing about this dress. The only rea...   \n",
      "40431  I work in the wedding industry and have to wor...   \n",
      "\n",
      "                                                  text_p  \n",
      "0      love this well made sturdy comfortable love it...  \n",
      "1        love it great upgrade original mine couple year  \n",
      "2                pillow saved back love look feel pillow  \n",
      "3         missing information use it great product price  \n",
      "4                    nice set good quality set two month  \n",
      "...                                                  ...  \n",
      "40427  read review saying bra ran small ordered two b...  \n",
      "40428  sure exactly would be little large small size ...  \n",
      "40429  wear hood itself wear hood wear jacket without...  \n",
      "40430  liked nothing dress reason gave 4 star ordered...  \n",
      "40431  work wedding industry work long day foot outsi...  \n",
      "\n",
      "[40432 rows x 2 columns]\n"
     ]
    }
   ],
   "source": [
    "print(data[['text_', 'text_p']])"
   ]
  },
  {
   "cell_type": "code",
   "execution_count": 13,
   "id": "66c97037",
   "metadata": {
    "execution": {
     "iopub.execute_input": "2023-03-27T15:55:57.703220Z",
     "iopub.status.busy": "2023-03-27T15:55:57.702247Z",
     "iopub.status.idle": "2023-03-27T15:55:57.707502Z",
     "shell.execute_reply": "2023-03-27T15:55:57.706622Z"
    },
    "papermill": {
     "duration": 0.027039,
     "end_time": "2023-03-27T15:55:57.709554",
     "exception": false,
     "start_time": "2023-03-27T15:55:57.682515",
     "status": "completed"
    },
    "tags": []
   },
   "outputs": [],
   "source": [
    "text_s = data['text_p']"
   ]
  },
  {
   "cell_type": "code",
   "execution_count": 14,
   "id": "95c44d37",
   "metadata": {
    "execution": {
     "iopub.execute_input": "2023-03-27T15:55:57.749030Z",
     "iopub.status.busy": "2023-03-27T15:55:57.748061Z",
     "iopub.status.idle": "2023-03-27T15:55:57.755811Z",
     "shell.execute_reply": "2023-03-27T15:55:57.754871Z"
    },
    "papermill": {
     "duration": 0.02933,
     "end_time": "2023-03-27T15:55:57.757776",
     "exception": false,
     "start_time": "2023-03-27T15:55:57.728446",
     "status": "completed"
    },
    "tags": []
   },
   "outputs": [
    {
     "data": {
      "text/plain": [
       "0        love this well made sturdy comfortable love it...\n",
       "1          love it great upgrade original mine couple year\n",
       "2                  pillow saved back love look feel pillow\n",
       "3           missing information use it great product price\n",
       "4                      nice set good quality set two month\n",
       "                               ...                        \n",
       "40427    read review saying bra ran small ordered two b...\n",
       "40428    sure exactly would be little large small size ...\n",
       "40429    wear hood itself wear hood wear jacket without...\n",
       "40430    liked nothing dress reason gave 4 star ordered...\n",
       "40431    work wedding industry work long day foot outsi...\n",
       "Name: text_p, Length: 40432, dtype: object"
      ]
     },
     "execution_count": 14,
     "metadata": {},
     "output_type": "execute_result"
    }
   ],
   "source": [
    "text_s"
   ]
  },
  {
   "cell_type": "code",
   "execution_count": 15,
   "id": "8f9c0964",
   "metadata": {
    "execution": {
     "iopub.execute_input": "2023-03-27T15:55:57.796468Z",
     "iopub.status.busy": "2023-03-27T15:55:57.795610Z",
     "iopub.status.idle": "2023-03-27T15:55:58.063594Z",
     "shell.execute_reply": "2023-03-27T15:55:58.061913Z"
    },
    "papermill": {
     "duration": 0.29006,
     "end_time": "2023-03-27T15:55:58.066208",
     "exception": false,
     "start_time": "2023-03-27T15:55:57.776148",
     "status": "completed"
    },
    "tags": []
   },
   "outputs": [],
   "source": [
    "array = np.load('/kaggle/input/label-encoded-value/my_array.npy', allow_pickle=True)\n"
   ]
  },
  {
   "cell_type": "code",
   "execution_count": 16,
   "id": "f34a871e",
   "metadata": {
    "execution": {
     "iopub.execute_input": "2023-03-27T15:55:58.109031Z",
     "iopub.status.busy": "2023-03-27T15:55:58.106952Z",
     "iopub.status.idle": "2023-03-27T15:55:58.113122Z",
     "shell.execute_reply": "2023-03-27T15:55:58.112216Z"
    },
    "papermill": {
     "duration": 0.029155,
     "end_time": "2023-03-27T15:55:58.115350",
     "exception": false,
     "start_time": "2023-03-27T15:55:58.086195",
     "status": "completed"
    },
    "tags": []
   },
   "outputs": [],
   "source": [
    "# Create a pandas Series with the text\n",
    "\n",
    "# Split the text into words\n",
    "#word_lists = text_s.str.split().apply(lambda x: [word for word in x])\n",
    "\n",
    "#print(word_lists)"
   ]
  },
  {
   "cell_type": "code",
   "execution_count": 17,
   "id": "e3c82602",
   "metadata": {
    "execution": {
     "iopub.execute_input": "2023-03-27T15:55:58.155613Z",
     "iopub.status.busy": "2023-03-27T15:55:58.155268Z",
     "iopub.status.idle": "2023-03-27T15:55:58.159796Z",
     "shell.execute_reply": "2023-03-27T15:55:58.158778Z"
    },
    "papermill": {
     "duration": 0.027533,
     "end_time": "2023-03-27T15:55:58.161989",
     "exception": false,
     "start_time": "2023-03-27T15:55:58.134456",
     "status": "completed"
    },
    "tags": []
   },
   "outputs": [],
   "source": [
    "#from sklearn.preprocessing import LabelEncoder\n",
    "\n",
    "# Initialize the LabelEncoder\n",
    "#le = LabelEncoder()\n",
    "\n",
    "# Fit the LabelEncoder on all the words\n",
    "#all_words = [word for word_list in word_lists for word in word_list]\n",
    "#le.fit(all_words)\n",
    "\n",
    "# Transform each list of words into a list of labels\n",
    "#labelled_lists = [le.transform(word_list) for word_list in word_lists]"
   ]
  },
  {
   "cell_type": "code",
   "execution_count": 18,
   "id": "54633f3a",
   "metadata": {
    "execution": {
     "iopub.execute_input": "2023-03-27T15:55:58.202745Z",
     "iopub.status.busy": "2023-03-27T15:55:58.201720Z",
     "iopub.status.idle": "2023-03-27T15:55:58.206557Z",
     "shell.execute_reply": "2023-03-27T15:55:58.205450Z"
    },
    "papermill": {
     "duration": 0.026996,
     "end_time": "2023-03-27T15:55:58.208609",
     "exception": false,
     "start_time": "2023-03-27T15:55:58.181613",
     "status": "completed"
    },
    "tags": []
   },
   "outputs": [],
   "source": [
    "#labelled_lists"
   ]
  },
  {
   "cell_type": "code",
   "execution_count": 19,
   "id": "d1b28743",
   "metadata": {
    "execution": {
     "iopub.execute_input": "2023-03-27T15:55:58.249535Z",
     "iopub.status.busy": "2023-03-27T15:55:58.248559Z",
     "iopub.status.idle": "2023-03-27T15:55:58.253247Z",
     "shell.execute_reply": "2023-03-27T15:55:58.252380Z"
    },
    "papermill": {
     "duration": 0.027255,
     "end_time": "2023-03-27T15:55:58.255289",
     "exception": false,
     "start_time": "2023-03-27T15:55:58.228034",
     "status": "completed"
    },
    "tags": []
   },
   "outputs": [],
   "source": [
    "#lists = [array.tolist() for array in labelled_lists]\n",
    "#lists"
   ]
  },
  {
   "cell_type": "code",
   "execution_count": 20,
   "id": "bf514f2b",
   "metadata": {
    "execution": {
     "iopub.execute_input": "2023-03-27T15:55:58.294552Z",
     "iopub.status.busy": "2023-03-27T15:55:58.293660Z",
     "iopub.status.idle": "2023-03-27T15:55:58.298406Z",
     "shell.execute_reply": "2023-03-27T15:55:58.297472Z"
    },
    "papermill": {
     "duration": 0.026419,
     "end_time": "2023-03-27T15:55:58.300547",
     "exception": false,
     "start_time": "2023-03-27T15:55:58.274128",
     "status": "completed"
    },
    "tags": []
   },
   "outputs": [],
   "source": [
    "#len(lists)"
   ]
  },
  {
   "cell_type": "code",
   "execution_count": 21,
   "id": "3e62d25b",
   "metadata": {
    "execution": {
     "iopub.execute_input": "2023-03-27T15:55:58.341438Z",
     "iopub.status.busy": "2023-03-27T15:55:58.339512Z",
     "iopub.status.idle": "2023-03-27T15:55:58.344570Z",
     "shell.execute_reply": "2023-03-27T15:55:58.343697Z"
    },
    "papermill": {
     "duration": 0.027074,
     "end_time": "2023-03-27T15:55:58.346613",
     "exception": false,
     "start_time": "2023-03-27T15:55:58.319539",
     "status": "completed"
    },
    "tags": []
   },
   "outputs": [],
   "source": [
    "#array = np.array(lists)\n",
    "#print(array)"
   ]
  },
  {
   "cell_type": "code",
   "execution_count": 22,
   "id": "cb3cf3e3",
   "metadata": {
    "execution": {
     "iopub.execute_input": "2023-03-27T15:55:58.386986Z",
     "iopub.status.busy": "2023-03-27T15:55:58.386015Z",
     "iopub.status.idle": "2023-03-27T15:55:58.393555Z",
     "shell.execute_reply": "2023-03-27T15:55:58.392701Z"
    },
    "papermill": {
     "duration": 0.029797,
     "end_time": "2023-03-27T15:55:58.395518",
     "exception": false,
     "start_time": "2023-03-27T15:55:58.365721",
     "status": "completed"
    },
    "tags": []
   },
   "outputs": [],
   "source": [
    "def metrics(model,x,y):\n",
    "    y_pred = model.predict(x)\n",
    "    acc = accuracy_score(y, y_pred)\n",
    "    f1=f1_score(y, y_pred)\n",
    "    cm=confusion_matrix(y, y_pred)\n",
    "    report=classification_report(y,y_pred)\n",
    "    plt.figure(figsize=(4,4))\n",
    "    sns.heatmap(cm,annot=True,cmap='coolwarm',xticklabels=[0,1],fmt='d',annot_kws={\"fontsize\":19})\n",
    "    plt.xlabel(\"Predicted\",fontsize=16)\n",
    "    plt.ylabel(\"Actual\",fontsize=16)\n",
    "    plt.show()\n",
    "    print(\"\\nAccuracy: \",round(acc,2))\n",
    "    print(\"\\nF1 Score: \",round(f1,2))\n",
    "#     print(\"\\nConfusion Matrix: \\n\",cm)\n",
    "    print(\"\\nReport:\",report)\n",
    "    "
   ]
  },
  {
   "cell_type": "code",
   "execution_count": 23,
   "id": "2f544c49",
   "metadata": {
    "execution": {
     "iopub.execute_input": "2023-03-27T15:55:58.436756Z",
     "iopub.status.busy": "2023-03-27T15:55:58.435881Z",
     "iopub.status.idle": "2023-03-27T15:55:58.443994Z",
     "shell.execute_reply": "2023-03-27T15:55:58.443144Z"
    },
    "papermill": {
     "duration": 0.030966,
     "end_time": "2023-03-27T15:55:58.445982",
     "exception": false,
     "start_time": "2023-03-27T15:55:58.415016",
     "status": "completed"
    },
    "tags": []
   },
   "outputs": [],
   "source": [
    "X=data[['count_sent', 'count_word', 'count_unique_word',\n",
    "       'count_letters', 'count_punctuations', 'count_words_upper',\n",
    "       'count_words_title', 'count_stopwords', 'mean_word_len',\n",
    "       'word_unique_percent', 'punct_percent']]\n",
    "#X = data[['text_p','rating']]\n",
    "y=data['label']"
   ]
  },
  {
   "cell_type": "code",
   "execution_count": 24,
   "id": "b1a67d58",
   "metadata": {
    "execution": {
     "iopub.execute_input": "2023-03-27T15:55:58.487661Z",
     "iopub.status.busy": "2023-03-27T15:55:58.486772Z",
     "iopub.status.idle": "2023-03-27T15:55:58.499570Z",
     "shell.execute_reply": "2023-03-27T15:55:58.498625Z"
    },
    "papermill": {
     "duration": 0.035127,
     "end_time": "2023-03-27T15:55:58.501685",
     "exception": false,
     "start_time": "2023-03-27T15:55:58.466558",
     "status": "completed"
    },
    "tags": []
   },
   "outputs": [],
   "source": [
    "X_train, X_test, y_train, y_test = train_test_split(X,y, test_size=0.2,random_state=42)"
   ]
  },
  {
   "cell_type": "code",
   "execution_count": 25,
   "id": "51b563d3",
   "metadata": {
    "execution": {
     "iopub.execute_input": "2023-03-27T15:55:58.542428Z",
     "iopub.status.busy": "2023-03-27T15:55:58.541576Z",
     "iopub.status.idle": "2023-03-27T15:55:59.624361Z",
     "shell.execute_reply": "2023-03-27T15:55:59.623344Z"
    },
    "papermill": {
     "duration": 1.105906,
     "end_time": "2023-03-27T15:55:59.627160",
     "exception": false,
     "start_time": "2023-03-27T15:55:58.521254",
     "status": "completed"
    },
    "tags": []
   },
   "outputs": [
    {
     "name": "stderr",
     "output_type": "stream",
     "text": [
      "/opt/conda/lib/python3.7/site-packages/sklearn/linear_model/_sag.py:354: ConvergenceWarning: The max_iter was reached which means the coef_ did not converge\n",
      "  ConvergenceWarning,\n"
     ]
    },
    {
     "data": {
      "image/png": "[encoded data removed]",
      "text/plain": [
       "<Figure size 288x288 with 2 Axes>"
      ]
     },
     "metadata": {
      "needs_background": "light"
     },
     "output_type": "display_data"
    },
    {
     "name": "stdout",
     "output_type": "stream",
     "text": [
      "\n",
      "Accuracy:  0.77\n",
      "\n",
      "F1 Score:  0.76\n",
      "\n",
      "Report:               precision    recall  f1-score   support\n",
      "\n",
      "           0       0.75      0.81      0.78      4016\n",
      "           1       0.80      0.73      0.76      4071\n",
      "\n",
      "    accuracy                           0.77      8087\n",
      "   macro avg       0.77      0.77      0.77      8087\n",
      "weighted avg       0.77      0.77      0.77      8087\n",
      "\n"
     ]
    }
   ],
   "source": [
    "classifier = LogisticRegression(C=0.1, solver='sag')\n",
    "classifier.fit(X_train, y_train)\n",
    "metrics(classifier,X_test,y_test)"
   ]
  },
  {
   "cell_type": "code",
   "execution_count": 26,
   "id": "36df1d50",
   "metadata": {
    "execution": {
     "iopub.execute_input": "2023-03-27T15:55:59.671478Z",
     "iopub.status.busy": "2023-03-27T15:55:59.670003Z",
     "iopub.status.idle": "2023-03-27T15:55:59.785159Z",
     "shell.execute_reply": "2023-03-27T15:55:59.783970Z"
    },
    "papermill": {
     "duration": 0.139127,
     "end_time": "2023-03-27T15:55:59.787454",
     "exception": false,
     "start_time": "2023-03-27T15:55:59.648327",
     "status": "completed"
    },
    "tags": []
   },
   "outputs": [],
   "source": [
    "reviews = ' '.join(data['text_p'])\n",
    "string = reviews.split(\" \")"
   ]
  },
  {
   "cell_type": "code",
   "execution_count": 27,
   "id": "7f3e810a",
   "metadata": {
    "execution": {
     "iopub.execute_input": "2023-03-27T15:55:59.830353Z",
     "iopub.status.busy": "2023-03-27T15:55:59.829335Z",
     "iopub.status.idle": "2023-03-27T15:55:59.849360Z",
     "shell.execute_reply": "2023-03-27T15:55:59.848246Z"
    },
    "papermill": {
     "duration": 0.043889,
     "end_time": "2023-03-27T15:55:59.852034",
     "exception": false,
     "start_time": "2023-03-27T15:55:59.808145",
     "status": "completed"
    },
    "tags": []
   },
   "outputs": [
    {
     "data": {
      "text/plain": [
       "['love',\n",
       " 'this',\n",
       " 'well',\n",
       " 'made',\n",
       " 'sturdy',\n",
       " 'comfortable',\n",
       " 'love',\n",
       " 'itvery',\n",
       " 'pretty',\n",
       " 'love',\n",
       " 'it',\n",
       " 'great',\n",
       " 'upgrade',\n",
       " 'original',\n",
       " 'mine',\n",
       " 'couple',\n",
       " 'year',\n",
       " 'pillow',\n",
       " 'saved',\n",
       " 'back',\n",
       " 'love',\n",
       " 'look',\n",
       " 'feel',\n",
       " 'pillow',\n",
       " 'missing',\n",
       " 'information',\n",
       " 'use',\n",
       " 'it',\n",
       " 'great',\n",
       " 'product',\n",
       " 'price',\n",
       " 'nice',\n",
       " 'set',\n",
       " 'good',\n",
       " 'quality',\n",
       " 'set',\n",
       " 'two',\n",
       " 'month',\n",
       " 'wanted',\n",
       " 'different',\n",
       " 'flavor',\n",
       " 'not',\n",
       " 'perfect',\n",
       " 'touch',\n",
       " 'thing',\n",
       " 'wish',\n",
       " 'little',\n",
       " 'space',\n",
       " 'done',\n",
       " 'fit',\n",
       " 'well',\n",
       " 'look',\n",
       " 'great',\n",
       " 'love',\n",
       " 'smoothness',\n",
       " 'edge',\n",
       " 'extra',\n",
       " 'great',\n",
       " 'big',\n",
       " 'number',\n",
       " 'easy',\n",
       " 'read',\n",
       " 'thing',\n",
       " 'like',\n",
       " 'size',\n",
       " 'son',\n",
       " 'love',\n",
       " 'comforter',\n",
       " 'well',\n",
       " 'made',\n",
       " 'also',\n",
       " 'baby',\n",
       " 'advertised',\n",
       " '5th',\n",
       " 'one',\n",
       " 'had',\n",
       " 'problem',\n",
       " 'really',\n",
       " 'handy',\n",
       " 'one',\n",
       " 'kid',\n",
       " 'tool',\n",
       " 'included',\n",
       " 'package',\n",
       " 'one',\n",
       " 'someone',\n",
       " 'say',\n",
       " 'oriental',\n",
       " '60',\n",
       " 'great',\n",
       " 'product',\n",
       " 'flimsy',\n",
       " 'quality',\n",
       " 'would',\n",
       " 'expect',\n",
       " 'piece',\n",
       " 'furniture',\n",
       " 'make',\n",
       " 'may',\n",
       " 'tea',\n",
       " 'stirring',\n",
       " 'problem',\n",
       " 'kind',\n",
       " 'hard',\n",
       " 'put',\n",
       " 'absolutely',\n",
       " 'adorable',\n",
       " 'excellent',\n",
       " 'price',\n",
       " 'wooden',\n",
       " 'one',\n",
       " 'month',\n",
       " 'love',\n",
       " 'this',\n",
       " 'perfect',\n",
       " 'size',\n",
       " 'entire',\n",
       " 'familyvery',\n",
       " 'good',\n",
       " 'quality',\n",
       " 'look',\n",
       " 'beautiful',\n",
       " 'nice',\n",
       " 'problem',\n",
       " 'really',\n",
       " 'mesh',\n",
       " 'one',\n",
       " 'exactly',\n",
       " 'would',\n",
       " 'expect',\n",
       " 'love',\n",
       " 'look',\n",
       " 'feel',\n",
       " 'pillow',\n",
       " '10',\n",
       " 'star',\n",
       " 'would',\n",
       " 'highly',\n",
       " 'recommend',\n",
       " 'item',\n",
       " 'love',\n",
       " 'blanket',\n",
       " 'great',\n",
       " 'little',\n",
       " 'egg',\n",
       " 'masher',\n",
       " 'month',\n",
       " 'advertised',\n",
       " 'easy',\n",
       " 'use',\n",
       " 'love',\n",
       " 'color',\n",
       " 'also',\n",
       " 'dimension',\n",
       " 'exactly',\n",
       " 'pictured',\n",
       " 'love',\n",
       " 'look',\n",
       " 'feel',\n",
       " 'pillow',\n",
       " 'fantastic',\n",
       " 'wanted',\n",
       " 'love',\n",
       " 'look',\n",
       " 'feel',\n",
       " 'pillow',\n",
       " 'supposed',\n",
       " 'come',\n",
       " 'extra',\n",
       " 'hardware',\n",
       " 'problem',\n",
       " 'really',\n",
       " 'vacuum',\n",
       " 'easy',\n",
       " 'use',\n",
       " 'seems',\n",
       " 'easy',\n",
       " 'way',\n",
       " 'make',\n",
       " 'smoothie',\n",
       " 'small',\n",
       " 'person',\n",
       " 'accustomed',\n",
       " 'to',\n",
       " 'reason',\n",
       " 'gave',\n",
       " '4',\n",
       " 'star',\n",
       " 'nice',\n",
       " 'product',\n",
       " 'seller',\n",
       " 'yes',\n",
       " 'thin',\n",
       " 'plastic',\n",
       " 'piece',\n",
       " 'however',\n",
       " 'handle',\n",
       " 'good',\n",
       " 'bought',\n",
       " 'second',\n",
       " 'set',\n",
       " 'look',\n",
       " 'like',\n",
       " 'first',\n",
       " 'one',\n",
       " 'sure',\n",
       " 'wonderful',\n",
       " 'aroma',\n",
       " 'throughout',\n",
       " 'house',\n",
       " 'problem',\n",
       " 'kind',\n",
       " 'hard',\n",
       " 'put',\n",
       " 'received',\n",
       " 'time',\n",
       " 'flat',\n",
       " 'love',\n",
       " 'look',\n",
       " 'husband',\n",
       " 'like',\n",
       " 'too',\n",
       " 'okay',\n",
       " 'nice',\n",
       " 'one',\n",
       " 'got',\n",
       " 'local',\n",
       " 'store',\n",
       " 'gave',\n",
       " 'away',\n",
       " 'thought',\n",
       " 'would',\n",
       " 'good',\n",
       " 'addition',\n",
       " 'kitchen',\n",
       " 'product',\n",
       " 'fine',\n",
       " 'wish',\n",
       " 'option',\n",
       " 'separate',\n",
       " 'handle',\n",
       " 'awesome',\n",
       " 'say',\n",
       " 'material',\n",
       " 'good',\n",
       " 'quality',\n",
       " 'decent',\n",
       " 'way',\n",
       " 'heavy',\n",
       " 'everyday',\n",
       " 'use',\n",
       " 'reason',\n",
       " 'gave',\n",
       " '4',\n",
       " 'star',\n",
       " 'one',\n",
       " 'well',\n",
       " 'made',\n",
       " 'work',\n",
       " 'great',\n",
       " 'wooden',\n",
       " 'part',\n",
       " 'cup',\n",
       " 'couple',\n",
       " 'bought',\n",
       " 'go',\n",
       " 'old',\n",
       " 'suction',\n",
       " 'cup',\n",
       " 'also',\n",
       " 'love',\n",
       " 'removable',\n",
       " 'expected',\n",
       " 'look',\n",
       " 'great',\n",
       " 'design',\n",
       " 'make',\n",
       " 'nice',\n",
       " 'place',\n",
       " 'baby',\n",
       " 'awful',\n",
       " 'experience',\n",
       " 'everything',\n",
       " 'stuck',\n",
       " 'cooked',\n",
       " 'evenly',\n",
       " 'problem',\n",
       " 'really',\n",
       " 'great',\n",
       " 'job',\n",
       " 'keeping',\n",
       " 'suction',\n",
       " 'on',\n",
       " 'also',\n",
       " 'love',\n",
       " 'slide',\n",
       " 'sheet',\n",
       " 'color',\n",
       " 'nice',\n",
       " 'buy',\n",
       " 'size',\n",
       " 'town',\n",
       " 'save',\n",
       " 'instead',\n",
       " 'original',\n",
       " 'shipping',\n",
       " 'box',\n",
       " 'keep',\n",
       " 'moneyvery',\n",
       " 'pretty',\n",
       " 'towel',\n",
       " 'real',\n",
       " 'nice',\n",
       " 'love',\n",
       " 'feel',\n",
       " 'them',\n",
       " 'nice',\n",
       " 'feel',\n",
       " 'work',\n",
       " 'great',\n",
       " 'easy',\n",
       " 'clean',\n",
       " 'easy',\n",
       " 'clean',\n",
       " 'purchasing',\n",
       " 'morevery',\n",
       " 'pretty',\n",
       " 'alright',\n",
       " 'pricebut',\n",
       " 'little',\n",
       " 'disappointed',\n",
       " 'quality',\n",
       " 'product',\n",
       " 'great',\n",
       " 'quality',\n",
       " 'beautiful',\n",
       " 'color',\n",
       " 'one',\n",
       " 'month',\n",
       " 'love',\n",
       " 'put',\n",
       " 'paper',\n",
       " 'one',\n",
       " 'corner',\n",
       " 'cabinet',\n",
       " 'put',\n",
       " 'piece',\n",
       " 'paper',\n",
       " 'corner',\n",
       " 'great',\n",
       " 'sticker',\n",
       " 'little',\n",
       " 'small',\n",
       " 'reason',\n",
       " 'gave',\n",
       " '4',\n",
       " 'star',\n",
       " 'one',\n",
       " 'great',\n",
       " 'quality',\n",
       " 'fabric',\n",
       " 'look',\n",
       " 'great',\n",
       " 'thick',\n",
       " 'enough',\n",
       " 'hold',\n",
       " 'small',\n",
       " 'amount',\n",
       " 'coffee',\n",
       " 'perfect',\n",
       " 'exactly',\n",
       " 'need',\n",
       " 'do',\n",
       " 'keep',\n",
       " 'long',\n",
       " 'time',\n",
       " 'love',\n",
       " 'movie',\n",
       " 'time',\n",
       " 'took',\n",
       " 'finish',\n",
       " 'keep',\n",
       " 'review',\n",
       " 'next',\n",
       " 'time',\n",
       " 'seal',\n",
       " 'properly',\n",
       " 'atrocious',\n",
       " 'little',\n",
       " 'one',\n",
       " 'feel',\n",
       " 'like',\n",
       " 'break',\n",
       " 'throw',\n",
       " 'got',\n",
       " 'third',\n",
       " 'time',\n",
       " 'small',\n",
       " 'dog',\n",
       " 'son',\n",
       " 'love',\n",
       " 'throw',\n",
       " 'excellent',\n",
       " 'product',\n",
       " 'much',\n",
       " 'better',\n",
       " 'quality',\n",
       " 'one',\n",
       " 'get',\n",
       " 'walmart',\n",
       " '50',\n",
       " 'perfect',\n",
       " 'exactly',\n",
       " 'looking',\n",
       " 'for',\n",
       " 'great',\n",
       " 'purchase',\n",
       " 'cannot',\n",
       " 'beat',\n",
       " 'price',\n",
       " 'say',\n",
       " 'cheap',\n",
       " 'work',\n",
       " 'intended',\n",
       " 'nice',\n",
       " 'sturdy',\n",
       " 'like',\n",
       " 'color',\n",
       " 'choice',\n",
       " 'too',\n",
       " 'nice',\n",
       " 'bowl',\n",
       " 'fast',\n",
       " 'shipping',\n",
       " 'great',\n",
       " 'cup',\n",
       " 'last',\n",
       " 'forever',\n",
       " 'keep',\n",
       " 'thing',\n",
       " 'cool',\n",
       " 'warm',\n",
       " 'love',\n",
       " 'them',\n",
       " 'thought',\n",
       " 'would',\n",
       " 'bit',\n",
       " 'bigger',\n",
       " 'excellent',\n",
       " 'quality',\n",
       " 'product',\n",
       " 'perfect',\n",
       " 'ccozinha',\n",
       " 'fan',\n",
       " 'really',\n",
       " 'pretty',\n",
       " 'actually',\n",
       " 'use',\n",
       " 'it',\n",
       " 'super',\n",
       " 'rough',\n",
       " 'soft',\n",
       " 'wash',\n",
       " 'cloth',\n",
       " 'like',\n",
       " 'bar',\n",
       " 'towel',\n",
       " 'like',\n",
       " 'little',\n",
       " 'guy',\n",
       " 'use',\n",
       " 'often',\n",
       " 'small',\n",
       " 'perfect',\n",
       " 'size',\n",
       " 'easy',\n",
       " 'unfold',\n",
       " 'topremoves',\n",
       " 'storage',\n",
       " 'love',\n",
       " 'this',\n",
       " 'good',\n",
       " 'job',\n",
       " 'difficult',\n",
       " 'use',\n",
       " 'frame',\n",
       " 'beautifully',\n",
       " 'crafted',\n",
       " 'look',\n",
       " 'great',\n",
       " 'picture',\n",
       " 'hot',\n",
       " 'cocoa',\n",
       " 'finally',\n",
       " 'perfect',\n",
       " 'product',\n",
       " 'fabulous',\n",
       " 'bought',\n",
       " 'friend',\n",
       " 'love',\n",
       " 'it',\n",
       " 'soft',\n",
       " 'great',\n",
       " 'quality',\n",
       " 'low',\n",
       " 'price',\n",
       " 'purchased',\n",
       " 'christmas',\n",
       " 'gift',\n",
       " 'love',\n",
       " 'it',\n",
       " 'accurate',\n",
       " 'description',\n",
       " 'work',\n",
       " 'great',\n",
       " 'came',\n",
       " 'time',\n",
       " 'happy',\n",
       " 'use',\n",
       " 'duvet',\n",
       " 'cover',\n",
       " 'fluffy',\n",
       " 'perfect',\n",
       " 'fit',\n",
       " 'one',\n",
       " 'softest',\n",
       " 'blanket',\n",
       " 'ever',\n",
       " 'nice',\n",
       " 'cozy',\n",
       " 'smell',\n",
       " 'great',\n",
       " 'fine',\n",
       " 'mist',\n",
       " 'dry',\n",
       " 'quickly',\n",
       " 'favorite',\n",
       " 'exactly',\n",
       " 'expecting',\n",
       " 'perfect',\n",
       " 'curtain',\n",
       " 'bedroom',\n",
       " 'wanted',\n",
       " 'hang',\n",
       " 'pant',\n",
       " 'skirt',\n",
       " 'kind',\n",
       " 'small',\n",
       " 'looking',\n",
       " 'something',\n",
       " 'larger',\n",
       " 'little',\n",
       " 'pricey',\n",
       " 'is',\n",
       " 'work',\n",
       " 'great',\n",
       " 'charge',\n",
       " 'kept',\n",
       " 'day',\n",
       " 'long',\n",
       " 'nice',\n",
       " 'quality',\n",
       " 'frame',\n",
       " 'good',\n",
       " 'price',\n",
       " 'job',\n",
       " 'nothing',\n",
       " 'special',\n",
       " 'hard',\n",
       " 'install',\n",
       " 'item',\n",
       " 'described',\n",
       " 'arrived',\n",
       " 'timely',\n",
       " 'manner',\n",
       " 'bought',\n",
       " '2',\n",
       " 'sent',\n",
       " 'one',\n",
       " 'back',\n",
       " 'work',\n",
       " 'made',\n",
       " 'well',\n",
       " 'hold',\n",
       " 'make',\n",
       " 'brush',\n",
       " 'pencil',\n",
       " 'mascara',\n",
       " 'etc',\n",
       " 'shed',\n",
       " 'over',\n",
       " 'would',\n",
       " 'buy',\n",
       " 'ever',\n",
       " 'again',\n",
       " 'blanket',\n",
       " 'work',\n",
       " 'great',\n",
       " 'pyrex',\n",
       " 'would',\n",
       " 'expect',\n",
       " 'nothing',\n",
       " 'le',\n",
       " 'them',\n",
       " 'like',\n",
       " 'little',\n",
       " 'opener',\n",
       " 'real',\n",
       " 'easy',\n",
       " 'hand',\n",
       " 'perfect',\n",
       " 'love',\n",
       " 'everything',\n",
       " 'them',\n",
       " 'look',\n",
       " 'great',\n",
       " 'kitchen',\n",
       " 'air',\n",
       " 'tight',\n",
       " 'work',\n",
       " 'great',\n",
       " 'glad',\n",
       " 'got',\n",
       " 'cute',\n",
       " 'good',\n",
       " 'quality',\n",
       " 'fabric',\n",
       " 'zipper',\n",
       " 'worked',\n",
       " 'well',\n",
       " 'too',\n",
       " 'great',\n",
       " 'send',\n",
       " 'grandkids',\n",
       " 'halloween',\n",
       " 'treat',\n",
       " 'save',\n",
       " 'ton',\n",
       " 'using',\n",
       " 'instead',\n",
       " 'paper',\n",
       " 'towel',\n",
       " 'weak',\n",
       " 'barely',\n",
       " 'bring',\n",
       " 'air',\n",
       " 'great',\n",
       " 'set',\n",
       " 'glass',\n",
       " 'good',\n",
       " 'quality',\n",
       " 'comfortable',\n",
       " 'handle',\n",
       " 'feel',\n",
       " 'cool',\n",
       " 'touch',\n",
       " 'super',\n",
       " 'hard',\n",
       " 'cute',\n",
       " 'made',\n",
       " 'well',\n",
       " 'grand',\n",
       " 'daughter',\n",
       " 'love',\n",
       " 'this',\n",
       " 'work',\n",
       " 'expected',\n",
       " 'connecting',\n",
       " 'cctv',\n",
       " 'power',\n",
       " 'supply',\n",
       " 'camera',\n",
       " 'soft',\n",
       " 'definitely',\n",
       " 'better',\n",
       " 'quality',\n",
       " 'expecting',\n",
       " 'nice',\n",
       " 'contemporary',\n",
       " 'great',\n",
       " 'price',\n",
       " 'easy',\n",
       " 'assemble',\n",
       " 'super',\n",
       " 'cute',\n",
       " 'appears',\n",
       " 'great',\n",
       " 'quality',\n",
       " 'highly',\n",
       " 'recommend',\n",
       " 'really',\n",
       " 'cool',\n",
       " 'actually',\n",
       " 'boyfriend',\n",
       " 'loved',\n",
       " 'them',\n",
       " 'bought',\n",
       " 'gift',\n",
       " 'cousin',\n",
       " 'nice',\n",
       " 'stopped',\n",
       " 'working',\n",
       " 'one',\n",
       " 'use',\n",
       " 'still',\n",
       " 'waiting',\n",
       " 'refund',\n",
       " 'cute',\n",
       " 'reasonably',\n",
       " 'price',\n",
       " 'happy',\n",
       " 'purchase',\n",
       " 'well',\n",
       " 'received',\n",
       " 'comfortable',\n",
       " 'gave',\n",
       " 'gift',\n",
       " 'dialysis',\n",
       " 'patient',\n",
       " 'expected',\n",
       " 'poor',\n",
       " 'quality',\n",
       " 'easy',\n",
       " 'review',\n",
       " 'kid',\n",
       " 'dd',\n",
       " 'love',\n",
       " 'them',\n",
       " 'thanks',\n",
       " 'really',\n",
       " 'ruff',\n",
       " 'foot',\n",
       " 'feel',\n",
       " 'sturdy',\n",
       " 'keep',\n",
       " 'foot',\n",
       " 'chair',\n",
       " 'order',\n",
       " 'place',\n",
       " 'special',\n",
       " 'photo',\n",
       " 'wall',\n",
       " 'weve',\n",
       " 'couple',\n",
       " 'week',\n",
       " 'baby',\n",
       " 'like',\n",
       " 'it',\n",
       " 'thermal',\n",
       " 'insulation',\n",
       " 'help',\n",
       " 'keep',\n",
       " 'food',\n",
       " 'warmer',\n",
       " 'thermal',\n",
       " 'insulation',\n",
       " 'help',\n",
       " 'keep',\n",
       " 'like',\n",
       " 'it',\n",
       " 'wish',\n",
       " 'wide',\n",
       " 'opening',\n",
       " 'also',\n",
       " 'love',\n",
       " 'made',\n",
       " 'love',\n",
       " 'pyrex',\n",
       " 'quality',\n",
       " 'set',\n",
       " 'best',\n",
       " 'purchasing',\n",
       " 'future',\n",
       " 'perfect',\n",
       " 'additional',\n",
       " 'storage',\n",
       " 'convenience',\n",
       " 'problem',\n",
       " 'really',\n",
       " 'vacuum',\n",
       " 'smell',\n",
       " 'great',\n",
       " 'pretty',\n",
       " 'happy',\n",
       " 'quality',\n",
       " 'quality',\n",
       " 'productthis',\n",
       " 'turquoise',\n",
       " 'almost',\n",
       " 'neon',\n",
       " 'bright',\n",
       " 'pink',\n",
       " 'easy',\n",
       " 'hold',\n",
       " 'material',\n",
       " 'nice',\n",
       " 'thick',\n",
       " 'keep',\n",
       " 'shelf',\n",
       " 'order',\n",
       " 'work',\n",
       " 'great',\n",
       " 'chocolate',\n",
       " 'yogurt',\n",
       " 'fruit',\n",
       " 'also',\n",
       " 'love',\n",
       " 'removable',\n",
       " 'love',\n",
       " 'it',\n",
       " 'think',\n",
       " 'buy',\n",
       " 'morevery',\n",
       " 'nice',\n",
       " 'set',\n",
       " 'knife',\n",
       " 'one',\n",
       " 'nice',\n",
       " 'small',\n",
       " 'ottoman',\n",
       " 'should',\n",
       " 'big',\n",
       " 'small',\n",
       " 'look',\n",
       " 'great',\n",
       " 'kitchen',\n",
       " 'problem',\n",
       " 'kind',\n",
       " 'hard',\n",
       " 'put',\n",
       " 'bought',\n",
       " 'father',\n",
       " 'day',\n",
       " 'gift',\n",
       " 'needed',\n",
       " 'love',\n",
       " 'great',\n",
       " 'winter',\n",
       " 'month',\n",
       " 'soft',\n",
       " 'comfortable',\n",
       " 'slept',\n",
       " 'week',\n",
       " 'nice',\n",
       " 'soft',\n",
       " 'sheet',\n",
       " 'find',\n",
       " 'difficult',\n",
       " 'put',\n",
       " 'bed',\n",
       " 'warm',\n",
       " 'beautifully',\n",
       " 'made',\n",
       " 'sturdy',\n",
       " 'comfortable',\n",
       " 'chair',\n",
       " 'comfortable',\n",
       " 'functional',\n",
       " 'need',\n",
       " 'buy',\n",
       " 'two',\n",
       " 'go',\n",
       " 'wide',\n",
       " 'wooden',\n",
       " 'leg',\n",
       " 'bedding',\n",
       " 'one',\n",
       " 'nice',\n",
       " 'sturdy',\n",
       " 'use',\n",
       " 'longterm',\n",
       " 'storage',\n",
       " 'container',\n",
       " 'small',\n",
       " 'bag',\n",
       " 'good',\n",
       " 'originaltype',\n",
       " 'container',\n",
       " 'wooden',\n",
       " 'handle',\n",
       " 'smooth',\n",
       " 'solid',\n",
       " 'handle',\n",
       " 'fit',\n",
       " 'excellent',\n",
       " 'grill',\n",
       " 'look',\n",
       " 'nice',\n",
       " 'problem',\n",
       " 'really',\n",
       " 'vacuum',\n",
       " 'nice',\n",
       " 'large',\n",
       " 'sturdy',\n",
       " 'canvas',\n",
       " 'tote',\n",
       " 'lightweight',\n",
       " 'comfortable',\n",
       " 'good',\n",
       " 'quality',\n",
       " 'good',\n",
       " 'price',\n",
       " 'love',\n",
       " 'look',\n",
       " 'feel',\n",
       " 'pillow',\n",
       " 'ordered',\n",
       " 'light',\n",
       " 'blue',\n",
       " 'arrived',\n",
       " 'small',\n",
       " 'opening',\n",
       " 'yellow',\n",
       " 'purchased',\n",
       " 'gift',\n",
       " 'one',\n",
       " 'two',\n",
       " 'month',\n",
       " 'good',\n",
       " 'price',\n",
       " 'producti',\n",
       " 'month',\n",
       " 'used',\n",
       " 'every',\n",
       " 'get',\n",
       " 'shampoo',\n",
       " 'or',\n",
       " 'conditioner',\n",
       " 'want',\n",
       " 'keep',\n",
       " 'shower',\n",
       " 'minichair',\n",
       " 'real',\n",
       " 'chair',\n",
       " 'full',\n",
       " 'chair',\n",
       " 'comfortable',\n",
       " 'happy',\n",
       " 'purchase',\n",
       " 'mattress',\n",
       " 'month',\n",
       " 'one',\n",
       " 'work',\n",
       " 'great',\n",
       " 'keep',\n",
       " 'light',\n",
       " 'on',\n",
       " 'problem',\n",
       " 'kind',\n",
       " 'hard',\n",
       " 'put',\n",
       " 'bought',\n",
       " 'son',\n",
       " 'college',\n",
       " 'love',\n",
       " 'itvery',\n",
       " 'good',\n",
       " 'quality',\n",
       " 'terrible',\n",
       " 'complete',\n",
       " 'waste',\n",
       " 'money',\n",
       " 'whole',\n",
       " 'lot',\n",
       " 'say',\n",
       " 'look',\n",
       " 'nice',\n",
       " 'bedroom',\n",
       " 'material',\n",
       " 'good',\n",
       " 'large',\n",
       " 'one',\n",
       " 'easy',\n",
       " 'put',\n",
       " 'together',\n",
       " 'look',\n",
       " 'nice',\n",
       " 'finish',\n",
       " 'good',\n",
       " 'large',\n",
       " 'one',\n",
       " 'expected',\n",
       " 'made',\n",
       " 'real',\n",
       " 'difference',\n",
       " 'quality',\n",
       " 'kitchenthis',\n",
       " 'pretty',\n",
       " 'glad',\n",
       " 'got',\n",
       " 'set',\n",
       " 'great',\n",
       " 'deal',\n",
       " 'price',\n",
       " 'job',\n",
       " 'adorable',\n",
       " 'quality',\n",
       " 'make',\n",
       " 'nice',\n",
       " 'addition',\n",
       " ...]"
      ]
     },
     "execution_count": 27,
     "metadata": {},
     "output_type": "execute_result"
    }
   ],
   "source": [
    "string"
   ]
  },
  {
   "cell_type": "code",
   "execution_count": 28,
   "id": "e570663b",
   "metadata": {
    "execution": {
     "iopub.execute_input": "2023-03-27T15:55:59.896144Z",
     "iopub.status.busy": "2023-03-27T15:55:59.893663Z",
     "iopub.status.idle": "2023-03-27T15:55:59.904325Z",
     "shell.execute_reply": "2023-03-27T15:55:59.903254Z"
    },
    "papermill": {
     "duration": 0.03441,
     "end_time": "2023-03-27T15:55:59.907020",
     "exception": false,
     "start_time": "2023-03-27T15:55:59.872610",
     "status": "completed"
    },
    "tags": []
   },
   "outputs": [],
   "source": [
    "def draw_n_gram(string,i):\n",
    "    n_gram = (pd.Series(nltk.ngrams(string, i)).value_counts())[:7]\n",
    "    n_gram_df=pd.DataFrame(n_gram)\n",
    "    n_gram_df = n_gram_df.reset_index()\n",
    "    n_gram_df = n_gram_df.rename(columns={\"index\": \"word\", 0: \"count\"})\n",
    "    print(n_gram_df.head())\n",
    "    plt.figure(figsize = (10,5))\n",
    "    return sns.barplot(x='count',y='word', data=n_gram_df)"
   ]
  },
  {
   "cell_type": "code",
   "execution_count": 29,
   "id": "8752a368",
   "metadata": {
    "execution": {
     "iopub.execute_input": "2023-03-27T15:55:59.984322Z",
     "iopub.status.busy": "2023-03-27T15:55:59.983834Z",
     "iopub.status.idle": "2023-03-27T15:56:01.521815Z",
     "shell.execute_reply": "2023-03-27T15:56:01.520761Z"
    },
    "papermill": {
     "duration": 1.57675,
     "end_time": "2023-03-27T15:56:01.524131",
     "exception": false,
     "start_time": "2023-03-27T15:55:59.947381",
     "status": "completed"
    },
    "tags": []
   },
   "outputs": [
    {
     "name": "stdout",
     "output_type": "stream",
     "text": [
      "       word  count\n",
      "0   (book,)  17289\n",
      "1  (great,)  16428\n",
      "2   (love,)  15430\n",
      "3    (one,)  14553\n",
      "4   (good,)  14223\n"
     ]
    },
    {
     "data": {
      "text/plain": [
       "<AxesSubplot:xlabel='count', ylabel='word'>"
      ]
     },
     "execution_count": 29,
     "metadata": {},
     "output_type": "execute_result"
    },
    {
     "data": {
      "image/png": "[encoded data removed]",
      "text/plain": [
       "<Figure size 720x360 with 1 Axes>"
      ]
     },
     "metadata": {
      "needs_background": "light"
     },
     "output_type": "display_data"
    }
   ],
   "source": [
    "draw_n_gram(string,1)"
   ]
  },
  {
   "cell_type": "code",
   "execution_count": 30,
   "id": "329b0880",
   "metadata": {
    "execution": {
     "iopub.execute_input": "2023-03-27T15:56:01.573787Z",
     "iopub.status.busy": "2023-03-27T15:56:01.572881Z",
     "iopub.status.idle": "2023-03-27T15:56:03.692142Z",
     "shell.execute_reply": "2023-03-27T15:56:03.691095Z"
    },
    "papermill": {
     "duration": 2.146651,
     "end_time": "2023-03-27T15:56:03.694458",
     "exception": false,
     "start_time": "2023-03-27T15:56:01.547807",
     "status": "completed"
    },
    "tags": []
   },
   "outputs": [
    {
     "name": "stdout",
     "output_type": "stream",
     "text": [
      "                  word  count\n",
      "0   (would, recommend)   2997\n",
      "1           (love, it)   2303\n",
      "2  (highly, recommend)   1433\n",
      "3         (read, book)   1421\n",
      "4      (well, written)   1322\n"
     ]
    },
    {
     "data": {
      "text/plain": [
       "<AxesSubplot:xlabel='count', ylabel='word'>"
      ]
     },
     "execution_count": 30,
     "metadata": {},
     "output_type": "execute_result"
    },
    {
     "data": {
      "image/png": "[encoded data removed]",
      "text/plain": [
       "<Figure size 720x360 with 1 Axes>"
      ]
     },
     "metadata": {
      "needs_background": "light"
     },
     "output_type": "display_data"
    }
   ],
   "source": [
    "draw_n_gram(string,2)"
   ]
  },
  {
   "cell_type": "code",
   "execution_count": 31,
   "id": "4d7751c1",
   "metadata": {
    "execution": {
     "iopub.execute_input": "2023-03-27T15:56:03.743598Z",
     "iopub.status.busy": "2023-03-27T15:56:03.743165Z",
     "iopub.status.idle": "2023-03-27T15:56:06.419172Z",
     "shell.execute_reply": "2023-03-27T15:56:06.418144Z"
    },
    "papermill": {
     "duration": 2.704094,
     "end_time": "2023-03-27T15:56:06.422105",
     "exception": false,
     "start_time": "2023-03-27T15:56:03.718011",
     "status": "completed"
    },
    "tags": []
   },
   "outputs": [
    {
     "name": "stdout",
     "output_type": "stream",
     "text": [
      "                             word  count\n",
      "0    (character, well, developed)    933\n",
      "1      (would, recommend, anyone)    796\n",
      "2  (would, definitely, recommend)    600\n",
      "3      (exchange, honest, review)    534\n",
      "4             (story, well, told)    441\n"
     ]
    },
    {
     "data": {
      "text/plain": [
       "<AxesSubplot:xlabel='count', ylabel='word'>"
      ]
     },
     "execution_count": 31,
     "metadata": {},
     "output_type": "execute_result"
    },
    {
     "data": {
      "image/png": "[encoded data removed]",
      "text/plain": [
       "<Figure size 720x360 with 1 Axes>"
      ]
     },
     "metadata": {
      "needs_background": "light"
     },
     "output_type": "display_data"
    }
   ],
   "source": [
    "draw_n_gram(string,3)"
   ]
  },
  {
   "cell_type": "code",
   "execution_count": 32,
   "id": "7373ec2b",
   "metadata": {
    "execution": {
     "iopub.execute_input": "2023-03-27T15:56:06.468721Z",
     "iopub.status.busy": "2023-03-27T15:56:06.467833Z",
     "iopub.status.idle": "2023-03-27T15:56:06.476697Z",
     "shell.execute_reply": "2023-03-27T15:56:06.475590Z"
    },
    "papermill": {
     "duration": 0.033874,
     "end_time": "2023-03-27T15:56:06.478721",
     "exception": false,
     "start_time": "2023-03-27T15:56:06.444847",
     "status": "completed"
    },
    "tags": []
   },
   "outputs": [
    {
     "data": {
      "text/plain": [
       "0        love this well made sturdy comfortable love it...\n",
       "1          love it great upgrade original mine couple year\n",
       "2                  pillow saved back love look feel pillow\n",
       "3           missing information use it great product price\n",
       "4                      nice set good quality set two month\n",
       "                               ...                        \n",
       "40427    read review saying bra ran small ordered two b...\n",
       "40428    sure exactly would be little large small size ...\n",
       "40429    wear hood itself wear hood wear jacket without...\n",
       "40430    liked nothing dress reason gave 4 star ordered...\n",
       "40431    work wedding industry work long day foot outsi...\n",
       "Name: text_p, Length: 40432, dtype: object"
      ]
     },
     "execution_count": 32,
     "metadata": {},
     "output_type": "execute_result"
    }
   ],
   "source": [
    "data['text_p']"
   ]
  },
  {
   "cell_type": "code",
   "execution_count": 33,
   "id": "f744719c",
   "metadata": {
    "execution": {
     "iopub.execute_input": "2023-03-27T15:56:06.525591Z",
     "iopub.status.busy": "2023-03-27T15:56:06.524577Z",
     "iopub.status.idle": "2023-03-27T15:56:06.533219Z",
     "shell.execute_reply": "2023-03-27T15:56:06.532058Z"
    },
    "papermill": {
     "duration": 0.034605,
     "end_time": "2023-03-27T15:56:06.535262",
     "exception": false,
     "start_time": "2023-03-27T15:56:06.500657",
     "status": "completed"
    },
    "tags": []
   },
   "outputs": [
    {
     "data": {
      "text/plain": [
       "0        0\n",
       "1        0\n",
       "2        0\n",
       "3        0\n",
       "4        0\n",
       "        ..\n",
       "40427    1\n",
       "40428    0\n",
       "40429    1\n",
       "40430    0\n",
       "40431    1\n",
       "Name: label, Length: 40432, dtype: int64"
      ]
     },
     "execution_count": 33,
     "metadata": {},
     "output_type": "execute_result"
    }
   ],
   "source": [
    "data['label']"
   ]
  },
  {
   "cell_type": "code",
   "execution_count": 34,
   "id": "6280c04d",
   "metadata": {
    "execution": {
     "iopub.execute_input": "2023-03-27T15:56:06.583314Z",
     "iopub.status.busy": "2023-03-27T15:56:06.582305Z",
     "iopub.status.idle": "2023-03-27T15:56:06.594163Z",
     "shell.execute_reply": "2023-03-27T15:56:06.593203Z"
    },
    "papermill": {
     "duration": 0.038388,
     "end_time": "2023-03-27T15:56:06.596321",
     "exception": false,
     "start_time": "2023-03-27T15:56:06.557933",
     "status": "completed"
    },
    "tags": []
   },
   "outputs": [],
   "source": [
    "X_train, X_test, y_train, y_test = train_test_split(data['text_p'], data['label'], test_size=0.2,random_state=42)"
   ]
  },
  {
   "cell_type": "code",
   "execution_count": 35,
   "id": "fee26a7f",
   "metadata": {
    "execution": {
     "iopub.execute_input": "2023-03-27T15:56:06.642429Z",
     "iopub.status.busy": "2023-03-27T15:56:06.642080Z",
     "iopub.status.idle": "2023-03-27T15:56:06.648836Z",
     "shell.execute_reply": "2023-03-27T15:56:06.647888Z"
    },
    "papermill": {
     "duration": 0.032139,
     "end_time": "2023-03-27T15:56:06.650901",
     "exception": false,
     "start_time": "2023-03-27T15:56:06.618762",
     "status": "completed"
    },
    "tags": []
   },
   "outputs": [
    {
     "data": {
      "text/plain": [
       "[(32345,), (8087,), (32345,), (8087,)]"
      ]
     },
     "execution_count": 35,
     "metadata": {},
     "output_type": "execute_result"
    }
   ],
   "source": [
    "[i.shape for i in [X_train, X_test, y_train, y_test] ]"
   ]
  },
  {
   "cell_type": "code",
   "execution_count": 36,
   "id": "66d530ba",
   "metadata": {
    "execution": {
     "iopub.execute_input": "2023-03-27T15:56:06.698469Z",
     "iopub.status.busy": "2023-03-27T15:56:06.696863Z",
     "iopub.status.idle": "2023-03-27T15:56:17.913654Z",
     "shell.execute_reply": "2023-03-27T15:56:17.912539Z"
    },
    "papermill": {
     "duration": 11.242764,
     "end_time": "2023-03-27T15:56:17.916258",
     "exception": false,
     "start_time": "2023-03-27T15:56:06.673494",
     "status": "completed"
    },
    "tags": []
   },
   "outputs": [],
   "source": [
    "word_vectorizer = TfidfVectorizer(\n",
    "    sublinear_tf=True,\n",
    "    strip_accents='unicode',\n",
    "    analyzer='word',\n",
    "    token_pattern=r'\\w{1,}',\n",
    "    stop_words='english',\n",
    "    ngram_range=(1, 3),\n",
    "    max_features=10000\n",
    ")\n",
    "\n",
    "word_vectorizer.fit(data['text_p'])\n",
    "\n",
    "tfidf_train = word_vectorizer.transform(X_train)\n",
    "tfidf_test = word_vectorizer.transform(X_test)"
   ]
  },
  {
   "cell_type": "code",
   "execution_count": 37,
   "id": "96ac300f",
   "metadata": {
    "execution": {
     "iopub.execute_input": "2023-03-27T15:56:17.964353Z",
     "iopub.status.busy": "2023-03-27T15:56:17.963450Z",
     "iopub.status.idle": "2023-03-27T15:56:17.969905Z",
     "shell.execute_reply": "2023-03-27T15:56:17.968328Z"
    },
    "papermill": {
     "duration": 0.033003,
     "end_time": "2023-03-27T15:56:17.972578",
     "exception": false,
     "start_time": "2023-03-27T15:56:17.939575",
     "status": "completed"
    },
    "tags": []
   },
   "outputs": [
    {
     "name": "stdout",
     "output_type": "stream",
     "text": [
      "Shape of tfidf_train: (32345, 10000)\n",
      "Shape of tfidf_test: (8087, 10000)\n"
     ]
    }
   ],
   "source": [
    "print('Shape of tfidf_train:',tfidf_train.shape)\n",
    "print('Shape of tfidf_test:',tfidf_test.shape)"
   ]
  },
  {
   "cell_type": "code",
   "execution_count": 38,
   "id": "a04c1aab",
   "metadata": {
    "execution": {
     "iopub.execute_input": "2023-03-27T15:56:18.019061Z",
     "iopub.status.busy": "2023-03-27T15:56:18.018207Z",
     "iopub.status.idle": "2023-03-27T15:56:30.525143Z",
     "shell.execute_reply": "2023-03-27T15:56:30.524054Z"
    },
    "papermill": {
     "duration": 12.532376,
     "end_time": "2023-03-27T15:56:30.527666",
     "exception": false,
     "start_time": "2023-03-27T15:56:17.995290",
     "status": "completed"
    },
    "tags": []
   },
   "outputs": [],
   "source": [
    "cv=CountVectorizer(analyzer = 'word', token_pattern = r'\\w{1,}',ngram_range=(1,3),max_features=10000)\n",
    "cv.fit(data['text_p'])\n",
    "cv_train=cv.transform(X_train)\n",
    "cv_test=cv.transform(X_test)"
   ]
  },
  {
   "cell_type": "code",
   "execution_count": 39,
   "id": "0fe72442",
   "metadata": {
    "execution": {
     "iopub.execute_input": "2023-03-27T15:56:30.576315Z",
     "iopub.status.busy": "2023-03-27T15:56:30.574507Z",
     "iopub.status.idle": "2023-03-27T15:56:30.581164Z",
     "shell.execute_reply": "2023-03-27T15:56:30.579652Z"
    },
    "papermill": {
     "duration": 0.032873,
     "end_time": "2023-03-27T15:56:30.583808",
     "exception": false,
     "start_time": "2023-03-27T15:56:30.550935",
     "status": "completed"
    },
    "tags": []
   },
   "outputs": [
    {
     "name": "stdout",
     "output_type": "stream",
     "text": [
      "Shape of cv_train: (32345, 10000)\n",
      "Shape of cv_test: (8087, 10000)\n"
     ]
    }
   ],
   "source": [
    "print('Shape of cv_train:',cv_train.shape)\n",
    "print('Shape of cv_test:',cv_test.shape)"
   ]
  },
  {
   "cell_type": "code",
   "execution_count": 40,
   "id": "6d6bbc9c",
   "metadata": {
    "execution": {
     "iopub.execute_input": "2023-03-27T15:56:30.631156Z",
     "iopub.status.busy": "2023-03-27T15:56:30.630849Z",
     "iopub.status.idle": "2023-03-27T15:56:32.142242Z",
     "shell.execute_reply": "2023-03-27T15:56:32.141312Z"
    },
    "papermill": {
     "duration": 1.537149,
     "end_time": "2023-03-27T15:56:32.144766",
     "exception": false,
     "start_time": "2023-03-27T15:56:30.607617",
     "status": "completed"
    },
    "tags": []
   },
   "outputs": [
    {
     "data": {
      "image/png": "[encoded data removed]",
      "text/plain": [
       "<Figure size 288x288 with 2 Axes>"
      ]
     },
     "metadata": {
      "needs_background": "light"
     },
     "output_type": "display_data"
    },
    {
     "name": "stdout",
     "output_type": "stream",
     "text": [
      "\n",
      "Accuracy:  0.88\n",
      "\n",
      "F1 Score:  0.88\n",
      "\n",
      "Report:               precision    recall  f1-score   support\n",
      "\n",
      "           0       0.89      0.86      0.87      4016\n",
      "           1       0.87      0.89      0.88      4071\n",
      "\n",
      "    accuracy                           0.88      8087\n",
      "   macro avg       0.88      0.88      0.88      8087\n",
      "weighted avg       0.88      0.88      0.88      8087\n",
      "\n"
     ]
    }
   ],
   "source": [
    "# Logistic Regression with TF-IDF\n",
    "classifier = LogisticRegression(penalty='l2',C=0.5, solver = 'newton-cg')\n",
    "classifier.fit(tfidf_train, y_train)\n",
    "metrics(classifier,tfidf_test,y_test)"
   ]
  },
  {
   "cell_type": "code",
   "execution_count": 41,
   "id": "3d6b6eb4",
   "metadata": {
    "execution": {
     "iopub.execute_input": "2023-03-27T15:56:32.221772Z",
     "iopub.status.busy": "2023-03-27T15:56:32.221368Z",
     "iopub.status.idle": "2023-03-27T15:56:32.227538Z",
     "shell.execute_reply": "2023-03-27T15:56:32.226674Z"
    },
    "papermill": {
     "duration": 0.051806,
     "end_time": "2023-03-27T15:56:32.231377",
     "exception": false,
     "start_time": "2023-03-27T15:56:32.179571",
     "status": "completed"
    },
    "tags": []
   },
   "outputs": [],
   "source": [
    "from sklearn.naive_bayes import MultinomialNB"
   ]
  },
  {
   "cell_type": "code",
   "execution_count": 42,
   "id": "1adbf2e0",
   "metadata": {
    "execution": {
     "iopub.execute_input": "2023-03-27T15:56:32.303586Z",
     "iopub.status.busy": "2023-03-27T15:56:32.303182Z",
     "iopub.status.idle": "2023-03-27T15:56:32.617033Z",
     "shell.execute_reply": "2023-03-27T15:56:32.616119Z"
    },
    "papermill": {
     "duration": 0.353959,
     "end_time": "2023-03-27T15:56:32.619860",
     "exception": false,
     "start_time": "2023-03-27T15:56:32.265901",
     "status": "completed"
    },
    "tags": []
   },
   "outputs": [
    {
     "data": {
      "image/png": "[encoded data removed]",
      "text/plain": [
       "<Figure size 288x288 with 2 Axes>"
      ]
     },
     "metadata": {
      "needs_background": "light"
     },
     "output_type": "display_data"
    },
    {
     "name": "stdout",
     "output_type": "stream",
     "text": [
      "\n",
      "Accuracy:  0.86\n",
      "\n",
      "F1 Score:  0.87\n",
      "\n",
      "Report:               precision    recall  f1-score   support\n",
      "\n",
      "           0       0.90      0.81      0.85      4016\n",
      "           1       0.83      0.91      0.87      4071\n",
      "\n",
      "    accuracy                           0.86      8087\n",
      "   macro avg       0.86      0.86      0.86      8087\n",
      "weighted avg       0.86      0.86      0.86      8087\n",
      "\n"
     ]
    }
   ],
   "source": [
    "#Naive Bayes with TF-IDF\n",
    "model= MultinomialNB()\n",
    "\n",
    "model.fit(tfidf_train, y_train)\n",
    "metrics(model,tfidf_test,y_test)"
   ]
  },
  {
   "cell_type": "code",
   "execution_count": 43,
   "id": "6c7c4393",
   "metadata": {
    "execution": {
     "iopub.execute_input": "2023-03-27T15:56:32.698700Z",
     "iopub.status.busy": "2023-03-27T15:56:32.698288Z",
     "iopub.status.idle": "2023-03-27T15:56:33.025284Z",
     "shell.execute_reply": "2023-03-27T15:56:33.024215Z"
    },
    "papermill": {
     "duration": 0.368924,
     "end_time": "2023-03-27T15:56:33.027904",
     "exception": false,
     "start_time": "2023-03-27T15:56:32.658980",
     "status": "completed"
    },
    "tags": []
   },
   "outputs": [
    {
     "data": {
      "image/png": "[encoded data removed]",
      "text/plain": [
       "<Figure size 288x288 with 2 Axes>"
      ]
     },
     "metadata": {
      "needs_background": "light"
     },
     "output_type": "display_data"
    },
    {
     "name": "stdout",
     "output_type": "stream",
     "text": [
      "\n",
      "Accuracy:  0.85\n",
      "\n",
      "F1 Score:  0.86\n",
      "\n",
      "Report:               precision    recall  f1-score   support\n",
      "\n",
      "           0       0.87      0.82      0.85      4016\n",
      "           1       0.83      0.88      0.86      4071\n",
      "\n",
      "    accuracy                           0.85      8087\n",
      "   macro avg       0.85      0.85      0.85      8087\n",
      "weighted avg       0.85      0.85      0.85      8087\n",
      "\n"
     ]
    }
   ],
   "source": [
    "#Naive Bayes with Count Vectorizer\n",
    "modela= MultinomialNB()\n",
    "\n",
    "modela.fit(cv_train, y_train)\n",
    "metrics(modela,cv_test,y_test)"
   ]
  },
  {
   "cell_type": "code",
   "execution_count": 44,
   "id": "77c46a7f",
   "metadata": {
    "execution": {
     "iopub.execute_input": "2023-03-27T15:56:33.078440Z",
     "iopub.status.busy": "2023-03-27T15:56:33.076965Z",
     "iopub.status.idle": "2023-03-27T15:57:03.288364Z",
     "shell.execute_reply": "2023-03-27T15:57:03.287294Z"
    },
    "papermill": {
     "duration": 30.279222,
     "end_time": "2023-03-27T15:57:03.332208",
     "exception": false,
     "start_time": "2023-03-27T15:56:33.052986",
     "status": "completed"
    },
    "tags": []
   },
   "outputs": [
    {
     "data": {
      "image/png": "[encoded data removed]",
      "text/plain": [
       "<Figure size 288x288 with 2 Axes>"
      ]
     },
     "metadata": {
      "needs_background": "light"
     },
     "output_type": "display_data"
    },
    {
     "name": "stdout",
     "output_type": "stream",
     "text": [
      "\n",
      "Accuracy:  0.83\n",
      "\n",
      "F1 Score:  0.84\n",
      "\n",
      "Report:               precision    recall  f1-score   support\n",
      "\n",
      "           0       0.86      0.78      0.82      4016\n",
      "           1       0.80      0.87      0.84      4071\n",
      "\n",
      "    accuracy                           0.83      8087\n",
      "   macro avg       0.83      0.83      0.83      8087\n",
      "weighted avg       0.83      0.83      0.83      8087\n",
      "\n"
     ]
    }
   ],
   "source": [
    "#Default XGBoost Model with TF_IDF\n",
    "model = XGBClassifier() \n",
    "model.fit(tfidf_train, y_train)\n",
    "\n",
    "metrics(model,tfidf_test,y_test)"
   ]
  },
  {
   "cell_type": "code",
   "execution_count": 45,
   "id": "bd07b9a2",
   "metadata": {
    "execution": {
     "iopub.execute_input": "2023-03-27T15:57:03.415601Z",
     "iopub.status.busy": "2023-03-27T15:57:03.415125Z",
     "iopub.status.idle": "2023-03-27T15:57:13.151581Z",
     "shell.execute_reply": "2023-03-27T15:57:13.150601Z"
    },
    "papermill": {
     "duration": 9.780922,
     "end_time": "2023-03-27T15:57:13.154815",
     "exception": false,
     "start_time": "2023-03-27T15:57:03.373893",
     "status": "completed"
    },
    "tags": []
   },
   "outputs": [
    {
     "data": {
      "image/png": "[encoded data removed]",
      "text/plain": [
       "<Figure size 288x288 with 2 Axes>"
      ]
     },
     "metadata": {
      "needs_background": "light"
     },
     "output_type": "display_data"
    },
    {
     "name": "stdout",
     "output_type": "stream",
     "text": [
      "\n",
      "Accuracy:  0.85\n",
      "\n",
      "F1 Score:  0.85\n",
      "\n",
      "Report:               precision    recall  f1-score   support\n",
      "\n",
      "           0       0.87      0.81      0.84      4016\n",
      "           1       0.83      0.89      0.85      4071\n",
      "\n",
      "    accuracy                           0.85      8087\n",
      "   macro avg       0.85      0.85      0.85      8087\n",
      "weighted avg       0.85      0.85      0.85      8087\n",
      "\n"
     ]
    }
   ],
   "source": [
    "#Default XGBoost Model with Count Vectorizer\n",
    "modelcv = XGBClassifier() \n",
    "modelcv.fit(cv_train, y_train)\n",
    "\n",
    "metrics(modelcv,cv_test,y_test)\n"
   ]
  },
  {
   "cell_type": "code",
   "execution_count": 46,
   "id": "67a75cb8",
   "metadata": {
    "execution": {
     "iopub.execute_input": "2023-03-27T15:57:13.209578Z",
     "iopub.status.busy": "2023-03-27T15:57:13.208556Z",
     "iopub.status.idle": "2023-03-27T15:57:13.621960Z",
     "shell.execute_reply": "2023-03-27T15:57:13.620350Z"
    },
    "papermill": {
     "duration": 0.442502,
     "end_time": "2023-03-27T15:57:13.624424",
     "exception": false,
     "start_time": "2023-03-27T15:57:13.181922",
     "status": "completed"
    },
    "tags": []
   },
   "outputs": [
    {
     "data": {
      "image/png": "[encoded data removed]",
      "text/plain": [
       "<Figure size 288x288 with 2 Axes>"
      ]
     },
     "metadata": {
      "needs_background": "light"
     },
     "output_type": "display_data"
    },
    {
     "name": "stdout",
     "output_type": "stream",
     "text": [
      "\n",
      "Accuracy:  0.89\n",
      "\n",
      "F1 Score:  0.89\n",
      "\n",
      "Report:               precision    recall  f1-score   support\n",
      "\n",
      "           0       0.89      0.88      0.88      4016\n",
      "           1       0.88      0.89      0.89      4071\n",
      "\n",
      "    accuracy                           0.89      8087\n",
      "   macro avg       0.89      0.89      0.89      8087\n",
      "weighted avg       0.89      0.89      0.89      8087\n",
      "\n"
     ]
    }
   ],
   "source": [
    "#SVM with TF-IDF\n",
    "from sklearn.svm import LinearSVC\n",
    "\n",
    "linear_svc = LinearSVC(penalty='l2')\n",
    "linear_svc.fit(tfidf_train, y_train)\n",
    "metrics(linear_svc,tfidf_test,y_test)"
   ]
  },
  {
   "cell_type": "code",
   "execution_count": 47,
   "id": "7e041101",
   "metadata": {
    "execution": {
     "iopub.execute_input": "2023-03-27T15:57:13.677124Z",
     "iopub.status.busy": "2023-03-27T15:57:13.675287Z",
     "iopub.status.idle": "2023-03-27T15:57:14.345349Z",
     "shell.execute_reply": "2023-03-27T15:57:14.344329Z"
    },
    "papermill": {
     "duration": 0.699424,
     "end_time": "2023-03-27T15:57:14.348695",
     "exception": false,
     "start_time": "2023-03-27T15:57:13.649271",
     "status": "completed"
    },
    "tags": []
   },
   "outputs": [
    {
     "data": {
      "image/png": "[encoded data removed]",
      "text/plain": [
       "<Figure size 288x288 with 2 Axes>"
      ]
     },
     "metadata": {
      "needs_background": "light"
     },
     "output_type": "display_data"
    },
    {
     "name": "stdout",
     "output_type": "stream",
     "text": [
      "\n",
      "Accuracy:  0.9\n",
      "\n",
      "F1 Score:  0.9\n",
      "\n",
      "Report:               precision    recall  f1-score   support\n",
      "\n",
      "           0       0.91      0.89      0.90      4016\n",
      "           1       0.89      0.91      0.90      4071\n",
      "\n",
      "    accuracy                           0.90      8087\n",
      "   macro avg       0.90      0.90      0.90      8087\n",
      "weighted avg       0.90      0.90      0.90      8087\n",
      "\n"
     ]
    }
   ],
   "source": [
    "#SVM with Count Vectorizer\n",
    "linear_svc1 = LinearSVC(C=0.1, random_state=20000)\n",
    "linear_svc1.fit(cv_train, y_train)\n",
    "\n",
    "metrics(linear_svc1,cv_test,y_test)"
   ]
  },
  {
   "cell_type": "code",
   "execution_count": 48,
   "id": "e52708c6",
   "metadata": {
    "execution": {
     "iopub.execute_input": "2023-03-27T15:57:14.401209Z",
     "iopub.status.busy": "2023-03-27T15:57:14.400728Z",
     "iopub.status.idle": "2023-03-27T15:57:14.534852Z",
     "shell.execute_reply": "2023-03-27T15:57:14.533947Z"
    },
    "papermill": {
     "duration": 0.162302,
     "end_time": "2023-03-27T15:57:14.537135",
     "exception": false,
     "start_time": "2023-03-27T15:57:14.374833",
     "status": "completed"
    },
    "tags": []
   },
   "outputs": [],
   "source": [
    "from sklearn.neighbors import KNeighborsClassifier\n",
    "from sklearn.tree import DecisionTreeClassifier\n",
    "from sklearn.tree import ExtraTreeClassifier\n",
    "from sklearn.linear_model import RidgeClassifier\n",
    "from sklearn.linear_model import SGDClassifier\n",
    "from sklearn.ensemble import RandomForestClassifier\n",
    "from sklearn.ensemble import AdaBoostClassifier\n",
    "from sklearn.ensemble import BaggingClassifier\n",
    "from sklearn.naive_bayes import BernoulliNB\n",
    "from sklearn.naive_bayes import MultinomialNB"
   ]
  },
  {
   "cell_type": "code",
   "execution_count": 49,
   "id": "0d180dc0",
   "metadata": {
    "execution": {
     "iopub.execute_input": "2023-03-27T15:57:14.589493Z",
     "iopub.status.busy": "2023-03-27T15:57:14.588697Z",
     "iopub.status.idle": "2023-03-27T15:57:14.899249Z",
     "shell.execute_reply": "2023-03-27T15:57:14.898252Z"
    },
    "papermill": {
     "duration": 0.340518,
     "end_time": "2023-03-27T15:57:14.903112",
     "exception": false,
     "start_time": "2023-03-27T15:57:14.562594",
     "status": "completed"
    },
    "tags": []
   },
   "outputs": [
    {
     "data": {
      "image/png": "[encoded data removed]",
      "text/plain": [
       "<Figure size 288x288 with 2 Axes>"
      ]
     },
     "metadata": {
      "needs_background": "light"
     },
     "output_type": "display_data"
    },
    {
     "name": "stdout",
     "output_type": "stream",
     "text": [
      "\n",
      "Accuracy:  0.88\n",
      "\n",
      "F1 Score:  0.89\n",
      "\n",
      "Report:               precision    recall  f1-score   support\n",
      "\n",
      "           0       0.90      0.86      0.88      4016\n",
      "           1       0.87      0.91      0.89      4071\n",
      "\n",
      "    accuracy                           0.88      8087\n",
      "   macro avg       0.88      0.88      0.88      8087\n",
      "weighted avg       0.88      0.88      0.88      8087\n",
      "\n"
     ]
    }
   ],
   "source": [
    "#Default SGD Model with TF_IDF\n",
    "model = SGDClassifier() \n",
    "model.fit(tfidf_train, y_train)\n",
    "\n",
    "metrics(model,tfidf_test,y_test)"
   ]
  },
  {
   "cell_type": "code",
   "execution_count": 50,
   "id": "70791c15",
   "metadata": {
    "execution": {
     "iopub.execute_input": "2023-03-27T15:57:14.956367Z",
     "iopub.status.busy": "2023-03-27T15:57:14.956016Z",
     "iopub.status.idle": "2023-03-27T15:57:15.332993Z",
     "shell.execute_reply": "2023-03-27T15:57:15.331371Z"
    },
    "papermill": {
     "duration": 0.405488,
     "end_time": "2023-03-27T15:57:15.335177",
     "exception": false,
     "start_time": "2023-03-27T15:57:14.929689",
     "status": "completed"
    },
    "tags": []
   },
   "outputs": [
    {
     "data": {
      "image/png": "[encoded data removed]",
      "text/plain": [
       "<Figure size 288x288 with 2 Axes>"
      ]
     },
     "metadata": {
      "needs_background": "light"
     },
     "output_type": "display_data"
    },
    {
     "name": "stdout",
     "output_type": "stream",
     "text": [
      "\n",
      "Accuracy:  0.9\n",
      "\n",
      "F1 Score:  0.9\n",
      "\n",
      "Report:               precision    recall  f1-score   support\n",
      "\n",
      "           0       0.91      0.88      0.89      4016\n",
      "           1       0.89      0.91      0.90      4071\n",
      "\n",
      "    accuracy                           0.90      8087\n",
      "   macro avg       0.90      0.90      0.90      8087\n",
      "weighted avg       0.90      0.90      0.90      8087\n",
      "\n"
     ]
    }
   ],
   "source": [
    "#Default SGD Model with Count Vectorizer\n",
    "modelcv = SGDClassifier() \n",
    "modelcv.fit(cv_train, y_train)\n",
    "\n",
    "metrics(modelcv,cv_test,y_test)\n"
   ]
  },
  {
   "cell_type": "code",
   "execution_count": null,
   "id": "8b597701",
   "metadata": {
    "papermill": {
     "duration": 0.025331,
     "end_time": "2023-03-27T15:57:15.386828",
     "exception": false,
     "start_time": "2023-03-27T15:57:15.361497",
     "status": "completed"
    },
    "tags": []
   },
   "outputs": [],
   "source": []
  },
  {
   "cell_type": "code",
   "execution_count": null,
   "id": "f913974c",
   "metadata": {
    "papermill": {
     "duration": 0.025257,
     "end_time": "2023-03-27T15:57:15.437988",
     "exception": false,
     "start_time": "2023-03-27T15:57:15.412731",
     "status": "completed"
    },
    "tags": []
   },
   "outputs": [],
   "source": []
  },
  {
   "cell_type": "code",
   "execution_count": 51,
   "id": "0a496834",
   "metadata": {
    "execution": {
     "iopub.execute_input": "2023-03-27T15:57:15.491536Z",
     "iopub.status.busy": "2023-03-27T15:57:15.491154Z",
     "iopub.status.idle": "2023-03-27T15:57:15.495728Z",
     "shell.execute_reply": "2023-03-27T15:57:15.494743Z"
    },
    "papermill": {
     "duration": 0.033792,
     "end_time": "2023-03-27T15:57:15.497838",
     "exception": false,
     "start_time": "2023-03-27T15:57:15.464046",
     "status": "completed"
    },
    "tags": []
   },
   "outputs": [],
   "source": [
    "X=data['text_p']\n",
    "y=data['label']"
   ]
  },
  {
   "cell_type": "code",
   "execution_count": 52,
   "id": "b94acfc4",
   "metadata": {
    "execution": {
     "iopub.execute_input": "2023-03-27T15:57:15.550408Z",
     "iopub.status.busy": "2023-03-27T15:57:15.549667Z",
     "iopub.status.idle": "2023-03-27T15:57:15.560992Z",
     "shell.execute_reply": "2023-03-27T15:57:15.560073Z"
    },
    "papermill": {
     "duration": 0.039845,
     "end_time": "2023-03-27T15:57:15.563099",
     "exception": false,
     "start_time": "2023-03-27T15:57:15.523254",
     "status": "completed"
    },
    "tags": []
   },
   "outputs": [],
   "source": [
    "X_train, X_test, y_train, y_test = train_test_split(X,y, test_size=0.2,random_state=42)"
   ]
  },
  {
   "cell_type": "code",
   "execution_count": 53,
   "id": "fe4b1e57",
   "metadata": {
    "execution": {
     "iopub.execute_input": "2023-03-27T15:57:15.618516Z",
     "iopub.status.busy": "2023-03-27T15:57:15.617020Z",
     "iopub.status.idle": "2023-03-27T15:57:15.623686Z",
     "shell.execute_reply": "2023-03-27T15:57:15.622778Z"
    },
    "papermill": {
     "duration": 0.035876,
     "end_time": "2023-03-27T15:57:15.625836",
     "exception": false,
     "start_time": "2023-03-27T15:57:15.589960",
     "status": "completed"
    },
    "tags": []
   },
   "outputs": [
    {
     "data": {
      "text/plain": [
       "(32345,)"
      ]
     },
     "execution_count": 53,
     "metadata": {},
     "output_type": "execute_result"
    }
   ],
   "source": [
    "X_train.shape"
   ]
  },
  {
   "cell_type": "code",
   "execution_count": 54,
   "id": "b4e9a7f0",
   "metadata": {
    "execution": {
     "iopub.execute_input": "2023-03-27T15:57:15.679844Z",
     "iopub.status.busy": "2023-03-27T15:57:15.679060Z",
     "iopub.status.idle": "2023-03-27T15:57:15.685340Z",
     "shell.execute_reply": "2023-03-27T15:57:15.684358Z"
    },
    "papermill": {
     "duration": 0.035435,
     "end_time": "2023-03-27T15:57:15.687398",
     "exception": false,
     "start_time": "2023-03-27T15:57:15.651963",
     "status": "completed"
    },
    "tags": []
   },
   "outputs": [
    {
     "data": {
      "text/plain": [
       "(32345,)"
      ]
     },
     "execution_count": 54,
     "metadata": {},
     "output_type": "execute_result"
    }
   ],
   "source": [
    "y_train.shape"
   ]
  },
  {
   "cell_type": "code",
   "execution_count": 55,
   "id": "c212a3eb",
   "metadata": {
    "execution": {
     "iopub.execute_input": "2023-03-27T15:57:15.741295Z",
     "iopub.status.busy": "2023-03-27T15:57:15.741005Z",
     "iopub.status.idle": "2023-03-27T15:57:15.746637Z",
     "shell.execute_reply": "2023-03-27T15:57:15.745720Z"
    },
    "papermill": {
     "duration": 0.034581,
     "end_time": "2023-03-27T15:57:15.748542",
     "exception": false,
     "start_time": "2023-03-27T15:57:15.713961",
     "status": "completed"
    },
    "tags": []
   },
   "outputs": [
    {
     "data": {
      "text/plain": [
       "(8087,)"
      ]
     },
     "execution_count": 55,
     "metadata": {},
     "output_type": "execute_result"
    }
   ],
   "source": [
    "y_test.shape"
   ]
  },
  {
   "cell_type": "code",
   "execution_count": 56,
   "id": "40c0cb4d",
   "metadata": {
    "execution": {
     "iopub.execute_input": "2023-03-27T15:57:15.802998Z",
     "iopub.status.busy": "2023-03-27T15:57:15.802255Z",
     "iopub.status.idle": "2023-03-27T15:57:15.808495Z",
     "shell.execute_reply": "2023-03-27T15:57:15.807541Z"
    },
    "papermill": {
     "duration": 0.035251,
     "end_time": "2023-03-27T15:57:15.810489",
     "exception": false,
     "start_time": "2023-03-27T15:57:15.775238",
     "status": "completed"
    },
    "tags": []
   },
   "outputs": [
    {
     "data": {
      "text/plain": [
       "(32345,)"
      ]
     },
     "execution_count": 56,
     "metadata": {},
     "output_type": "execute_result"
    }
   ],
   "source": [
    "y_train.shape"
   ]
  },
  {
   "cell_type": "code",
   "execution_count": 57,
   "id": "e1d9ef9b",
   "metadata": {
    "execution": {
     "iopub.execute_input": "2023-03-27T15:57:15.864372Z",
     "iopub.status.busy": "2023-03-27T15:57:15.863941Z",
     "iopub.status.idle": "2023-03-27T15:57:15.877841Z",
     "shell.execute_reply": "2023-03-27T15:57:15.877024Z"
    },
    "papermill": {
     "duration": 0.043177,
     "end_time": "2023-03-27T15:57:15.879860",
     "exception": false,
     "start_time": "2023-03-27T15:57:15.836683",
     "status": "completed"
    },
    "tags": []
   },
   "outputs": [],
   "source": [
    "review_len=[len(review) for review in data['text_p']]"
   ]
  },
  {
   "cell_type": "code",
   "execution_count": 58,
   "id": "d601bb09",
   "metadata": {
    "execution": {
     "iopub.execute_input": "2023-03-27T15:57:15.933910Z",
     "iopub.status.busy": "2023-03-27T15:57:15.933109Z",
     "iopub.status.idle": "2023-03-27T15:57:44.817277Z",
     "shell.execute_reply": "2023-03-27T15:57:44.815900Z"
    },
    "papermill": {
     "duration": 28.914135,
     "end_time": "2023-03-27T15:57:44.820006",
     "exception": false,
     "start_time": "2023-03-27T15:57:15.905871",
     "status": "completed"
    },
    "tags": []
   },
   "outputs": [
    {
     "name": "stdout",
     "output_type": "stream",
     "text": [
      "VOCAB_SIZE          = 25000\n",
      "Max index of a word = 1592\n"
     ]
    }
   ],
   "source": [
    "# Since vocabulary size is restricted to VOCAB_SIZE, no word index should be greater than VOCAB_SIZE\n",
    "VOCAB_SIZE=25000\n",
    "\n",
    "max_index = max ( [max(review_len) for review in array] )\n",
    "\n",
    "print(\"VOCAB_SIZE          =\", VOCAB_SIZE)\n",
    "print(\"Max index of a word =\", max_index)"
   ]
  },
  {
   "cell_type": "code",
   "execution_count": 59,
   "id": "9c6e0632",
   "metadata": {
    "execution": {
     "iopub.execute_input": "2023-03-27T15:57:44.877242Z",
     "iopub.status.busy": "2023-03-27T15:57:44.876037Z",
     "iopub.status.idle": "2023-03-27T15:57:44.881911Z",
     "shell.execute_reply": "2023-03-27T15:57:44.880842Z"
    },
    "papermill": {
     "duration": 0.035881,
     "end_time": "2023-03-27T15:57:44.884044",
     "exception": false,
     "start_time": "2023-03-27T15:57:44.848163",
     "status": "completed"
    },
    "tags": []
   },
   "outputs": [],
   "source": [
    "X1=array\n",
    "y1=data['label']"
   ]
  },
  {
   "cell_type": "code",
   "execution_count": 60,
   "id": "a91ee038",
   "metadata": {
    "execution": {
     "iopub.execute_input": "2023-03-27T15:57:44.938067Z",
     "iopub.status.busy": "2023-03-27T15:57:44.937760Z",
     "iopub.status.idle": "2023-03-27T15:57:44.945476Z",
     "shell.execute_reply": "2023-03-27T15:57:44.944443Z"
    },
    "papermill": {
     "duration": 0.036566,
     "end_time": "2023-03-27T15:57:44.947475",
     "exception": false,
     "start_time": "2023-03-27T15:57:44.910909",
     "status": "completed"
    },
    "tags": []
   },
   "outputs": [
    {
     "data": {
      "text/plain": [
       "0        0\n",
       "1        0\n",
       "2        0\n",
       "3        0\n",
       "4        0\n",
       "        ..\n",
       "40427    1\n",
       "40428    0\n",
       "40429    1\n",
       "40430    0\n",
       "40431    1\n",
       "Name: label, Length: 40432, dtype: int64"
      ]
     },
     "execution_count": 60,
     "metadata": {},
     "output_type": "execute_result"
    }
   ],
   "source": [
    "y1"
   ]
  },
  {
   "cell_type": "code",
   "execution_count": 61,
   "id": "3edf2f39",
   "metadata": {
    "execution": {
     "iopub.execute_input": "2023-03-27T15:57:45.001713Z",
     "iopub.status.busy": "2023-03-27T15:57:45.000949Z",
     "iopub.status.idle": "2023-03-27T15:57:45.005550Z",
     "shell.execute_reply": "2023-03-27T15:57:45.004748Z"
    },
    "papermill": {
     "duration": 0.03345,
     "end_time": "2023-03-27T15:57:45.007508",
     "exception": false,
     "start_time": "2023-03-27T15:57:44.974058",
     "status": "completed"
    },
    "tags": []
   },
   "outputs": [],
   "source": [
    "y2=np.array(y)"
   ]
  },
  {
   "cell_type": "code",
   "execution_count": 62,
   "id": "583ebafb",
   "metadata": {
    "execution": {
     "iopub.execute_input": "2023-03-27T15:57:45.062147Z",
     "iopub.status.busy": "2023-03-27T15:57:45.061496Z",
     "iopub.status.idle": "2023-03-27T15:57:45.067448Z",
     "shell.execute_reply": "2023-03-27T15:57:45.066500Z"
    },
    "papermill": {
     "duration": 0.035923,
     "end_time": "2023-03-27T15:57:45.069505",
     "exception": false,
     "start_time": "2023-03-27T15:57:45.033582",
     "status": "completed"
    },
    "tags": []
   },
   "outputs": [
    {
     "data": {
      "text/plain": [
       "array([0, 0, 0, ..., 1, 0, 1])"
      ]
     },
     "execution_count": 62,
     "metadata": {},
     "output_type": "execute_result"
    }
   ],
   "source": [
    "y2"
   ]
  },
  {
   "cell_type": "code",
   "execution_count": 63,
   "id": "5537f04c",
   "metadata": {
    "execution": {
     "iopub.execute_input": "2023-03-27T15:57:45.123145Z",
     "iopub.status.busy": "2023-03-27T15:57:45.122537Z",
     "iopub.status.idle": "2023-03-27T15:57:45.131527Z",
     "shell.execute_reply": "2023-03-27T15:57:45.130707Z"
    },
    "papermill": {
     "duration": 0.038105,
     "end_time": "2023-03-27T15:57:45.133597",
     "exception": false,
     "start_time": "2023-03-27T15:57:45.095492",
     "status": "completed"
    },
    "tags": []
   },
   "outputs": [],
   "source": [
    "X_train, X_test, y_train, y_test = train_test_split(X1,y2, test_size=0.2,random_state=42)"
   ]
  },
  {
   "cell_type": "code",
   "execution_count": 64,
   "id": "97a4e876",
   "metadata": {
    "execution": {
     "iopub.execute_input": "2023-03-27T15:57:45.188860Z",
     "iopub.status.busy": "2023-03-27T15:57:45.188029Z",
     "iopub.status.idle": "2023-03-27T15:57:45.207135Z",
     "shell.execute_reply": "2023-03-27T15:57:45.206336Z"
    },
    "papermill": {
     "duration": 0.049119,
     "end_time": "2023-03-27T15:57:45.209133",
     "exception": false,
     "start_time": "2023-03-27T15:57:45.160014",
     "status": "completed"
    },
    "tags": []
   },
   "outputs": [],
   "source": [
    "max_train_length = max (len(review) for review in X_train )\n",
    "max_test_length = max (len(review) for review in X_test)"
   ]
  },
  {
   "cell_type": "code",
   "execution_count": 65,
   "id": "a60ae575",
   "metadata": {
    "execution": {
     "iopub.execute_input": "2023-03-27T15:57:45.266068Z",
     "iopub.status.busy": "2023-03-27T15:57:45.265280Z",
     "iopub.status.idle": "2023-03-27T15:57:45.271584Z",
     "shell.execute_reply": "2023-03-27T15:57:45.270150Z"
    },
    "papermill": {
     "duration": 0.037301,
     "end_time": "2023-03-27T15:57:45.274248",
     "exception": false,
     "start_time": "2023-03-27T15:57:45.236947",
     "status": "completed"
    },
    "tags": []
   },
   "outputs": [
    {
     "name": "stdout",
     "output_type": "stream",
     "text": [
      "Maximum length of a review in dataset: 240\n"
     ]
    }
   ],
   "source": [
    "max_length = max(max_train_length, max_test_length)\n",
    "print(\"Maximum length of a review in dataset:\", max_length)"
   ]
  },
  {
   "cell_type": "code",
   "execution_count": 66,
   "id": "de9b271d",
   "metadata": {
    "execution": {
     "iopub.execute_input": "2023-03-27T15:57:45.331337Z",
     "iopub.status.busy": "2023-03-27T15:57:45.330429Z",
     "iopub.status.idle": "2023-03-27T15:57:45.459312Z",
     "shell.execute_reply": "2023-03-27T15:57:45.457997Z"
    },
    "papermill": {
     "duration": 0.159609,
     "end_time": "2023-03-27T15:57:45.462087",
     "exception": false,
     "start_time": "2023-03-27T15:57:45.302478",
     "status": "completed"
    },
    "tags": []
   },
   "outputs": [
    {
     "name": "stdout",
     "output_type": "stream",
     "text": [
      "Padding the reviews...\n",
      "Shape of train_data = (32345, 240)\n",
      "Shape of test_data  = (8087, 240)\n"
     ]
    }
   ],
   "source": [
    "from keras_preprocessing.sequence import pad_sequences\n",
    "\n",
    "# Pad each review in the dataset till their length = max_length\n",
    "print(\"Padding the reviews...\")\n",
    "X_train = pad_sequences (X_train, maxlen=max_length)\n",
    "X_test = pad_sequences (X_test, maxlen=max_length)\n",
    "\n",
    "print(\"Shape of train_data =\", X_train.shape)\n",
    "print(\"Shape of test_data  =\", X_test.shape)"
   ]
  },
  {
   "cell_type": "code",
   "execution_count": 67,
   "id": "db1d1334",
   "metadata": {
    "execution": {
     "iopub.execute_input": "2023-03-27T15:57:45.520728Z",
     "iopub.status.busy": "2023-03-27T15:57:45.519774Z",
     "iopub.status.idle": "2023-03-27T15:57:57.979998Z",
     "shell.execute_reply": "2023-03-27T15:57:57.978926Z"
    },
    "papermill": {
     "duration": 12.491717,
     "end_time": "2023-03-27T15:57:57.983198",
     "exception": false,
     "start_time": "2023-03-27T15:57:45.491481",
     "status": "completed"
    },
    "tags": []
   },
   "outputs": [
    {
     "name": "stdout",
     "output_type": "stream",
     "text": [
      "Model: \"sequential\"\n",
      "_________________________________________________________________\n",
      "Layer (type)                 Output Shape              Param #   \n",
      "=================================================================\n",
      "embedding (Embedding)        (None, 240, 128)          6400000   \n",
      "_________________________________________________________________\n",
      "conv1d (Conv1D)              (None, 238, 128)          49280     \n",
      "_________________________________________________________________\n",
      "max_pooling1d (MaxPooling1D) (None, 34, 128)           0         \n",
      "_________________________________________________________________\n",
      "global_max_pooling1d (Global (None, 128)               0         \n",
      "_________________________________________________________________\n",
      "dense (Dense)                (None, 32)                4128      \n",
      "_________________________________________________________________\n",
      "dense_1 (Dense)              (None, 1)                 33        \n",
      "=================================================================\n",
      "Total params: 6,453,441\n",
      "Trainable params: 6,453,441\n",
      "Non-trainable params: 0\n",
      "_________________________________________________________________\n"
     ]
    }
   ],
   "source": [
    "from keras.models import Sequential\n",
    "from keras.layers import Embedding, Conv1D, MaxPooling1D, GlobalMaxPooling1D, Dense, Dropout, Flatten, GlobalAveragePooling1D\n",
    "from keras.regularizers import l2\n",
    "\n",
    "model = Sequential()\n",
    "model.add(Embedding(input_dim = 50000,\n",
    "                    output_dim = 128,\n",
    "                    input_length = max_length))\n",
    "model.add(Conv1D(filters = 128,\n",
    "                 kernel_size = 3,\n",
    "                 strides = 1,\n",
    "                 padding = 'valid',\n",
    "                 activation = 'relu',\n",
    "                ))\n",
    "model.add(MaxPooling1D(pool_size = 7))\n",
    "model.add(GlobalMaxPooling1D())\n",
    "model.add(Dense(units = 32,\n",
    "                activation = 'relu'))\n",
    "model.add(Dense(units = 1,\n",
    "                activation = 'sigmoid'))\n",
    "\n",
    "model.summary()"
   ]
  },
  {
   "cell_type": "code",
   "execution_count": 68,
   "id": "39128040",
   "metadata": {
    "execution": {
     "iopub.execute_input": "2023-03-27T15:57:58.040329Z",
     "iopub.status.busy": "2023-03-27T15:57:58.039955Z",
     "iopub.status.idle": "2023-03-27T15:57:58.052136Z",
     "shell.execute_reply": "2023-03-27T15:57:58.051230Z"
    },
    "papermill": {
     "duration": 0.043584,
     "end_time": "2023-03-27T15:57:58.054148",
     "exception": false,
     "start_time": "2023-03-27T15:57:58.010564",
     "status": "completed"
    },
    "tags": []
   },
   "outputs": [],
   "source": [
    "model.compile(optimizer = 'adam',\n",
    "              loss = 'binary_crossentropy',\n",
    "              metrics = ['acc'])"
   ]
  },
  {
   "cell_type": "code",
   "execution_count": 69,
   "id": "aed6ca0b",
   "metadata": {
    "execution": {
     "iopub.execute_input": "2023-03-27T15:57:58.112151Z",
     "iopub.status.busy": "2023-03-27T15:57:58.111265Z",
     "iopub.status.idle": "2023-03-27T15:57:58.119002Z",
     "shell.execute_reply": "2023-03-27T15:57:58.118133Z"
    },
    "papermill": {
     "duration": 0.038783,
     "end_time": "2023-03-27T15:57:58.121119",
     "exception": false,
     "start_time": "2023-03-27T15:57:58.082336",
     "status": "completed"
    },
    "tags": []
   },
   "outputs": [],
   "source": [
    "from keras.callbacks import ModelCheckpoint, EarlyStopping, LearningRateScheduler, ReduceLROnPlateau, TerminateOnNaN\n",
    "\n",
    "callback_list = [\n",
    "                 ModelCheckpoint(\n",
    "                     filepath = './best_CNNmodel.hdf5',\n",
    "                     monitor = 'val_acc',\n",
    "                     verbose = 1,\n",
    "                     save_best_only = True,\n",
    "                     save_weights_only = False,\n",
    "                     mode = 'max',\n",
    "                     period = 1\n",
    "                 ),\n",
    "\n",
    "                 EarlyStopping(\n",
    "                    monitor = 'val_acc',\n",
    "                    patience = 20,\n",
    "                    verbose = 1,\n",
    "                    mode = 'max',\n",
    "                    baseline = 0.5,\n",
    "                    restore_best_weights = True\n",
    "                 ),\n",
    "\n",
    "                 ReduceLROnPlateau(\n",
    "                     monitor = 'val_loss',\n",
    "                     factor = 0.2,\n",
    "                     patience = 5,\n",
    "                     verbose = 1,\n",
    "                     mode = 'min',\n",
    "                     cooldown = 1,\n",
    "                     min_lr = 0\n",
    "                 ),\n",
    "\n",
    "                 TerminateOnNaN()\n",
    "]"
   ]
  },
  {
   "cell_type": "code",
   "execution_count": 70,
   "id": "8495bafe",
   "metadata": {
    "execution": {
     "iopub.execute_input": "2023-03-27T15:57:58.177576Z",
     "iopub.status.busy": "2023-03-27T15:57:58.177272Z",
     "iopub.status.idle": "2023-03-27T16:01:50.018215Z",
     "shell.execute_reply": "2023-03-27T16:01:50.017070Z"
    },
    "papermill": {
     "duration": 231.871503,
     "end_time": "2023-03-27T16:01:50.020419",
     "exception": false,
     "start_time": "2023-03-27T15:57:58.148916",
     "status": "completed"
    },
    "tags": []
   },
   "outputs": [
    {
     "name": "stdout",
     "output_type": "stream",
     "text": [
      "Epoch 1/100\n",
      "991/991 [==============================] - 18s 8ms/step - loss: 0.3340 - acc: 0.8514 - val_loss: 0.2465 - val_acc: 0.9011\n",
      "\n",
      "Epoch 00001: val_acc improved from -inf to 0.90108, saving model to ./best_CNNmodel.hdf5\n",
      "Epoch 2/100\n",
      "991/991 [==============================] - 8s 8ms/step - loss: 0.1266 - acc: 0.9519 - val_loss: 0.2333 - val_acc: 0.9057\n",
      "\n",
      "Epoch 00002: val_acc improved from 0.90108 to 0.90572, saving model to ./best_CNNmodel.hdf5\n",
      "Epoch 3/100\n",
      "991/991 [==============================] - 8s 8ms/step - loss: 0.0376 - acc: 0.9875 - val_loss: 0.2884 - val_acc: 0.8995\n",
      "\n",
      "Epoch 00003: val_acc did not improve from 0.90572\n",
      "Epoch 4/100\n",
      "991/991 [==============================] - 9s 9ms/step - loss: 0.0130 - acc: 0.9957 - val_loss: 0.3351 - val_acc: 0.8995\n",
      "\n",
      "Epoch 00004: val_acc did not improve from 0.90572\n",
      "Epoch 5/100\n",
      "991/991 [==============================] - 8s 8ms/step - loss: 0.0061 - acc: 0.9984 - val_loss: 0.4241 - val_acc: 0.9042\n",
      "\n",
      "Epoch 00005: val_acc did not improve from 0.90572\n",
      "Epoch 6/100\n",
      "991/991 [==============================] - 8s 8ms/step - loss: 0.0081 - acc: 0.9973 - val_loss: 0.5287 - val_acc: 0.8964\n",
      "\n",
      "Epoch 00006: val_acc did not improve from 0.90572\n",
      "Epoch 7/100\n",
      "991/991 [==============================] - 8s 8ms/step - loss: 0.0150 - acc: 0.9947 - val_loss: 0.4573 - val_acc: 0.9088\n",
      "\n",
      "Epoch 00007: val_acc improved from 0.90572 to 0.90881, saving model to ./best_CNNmodel.hdf5\n",
      "\n",
      "Epoch 00007: ReduceLROnPlateau reducing learning rate to 0.00020000000949949026.\n",
      "Epoch 8/100\n",
      "991/991 [==============================] - 8s 9ms/step - loss: 0.0040 - acc: 0.9985 - val_loss: 0.4779 - val_acc: 0.8934\n",
      "\n",
      "Epoch 00008: val_acc did not improve from 0.90881\n",
      "Epoch 9/100\n",
      "991/991 [==============================] - 8s 8ms/step - loss: 4.0159e-04 - acc: 0.9999 - val_loss: 0.4767 - val_acc: 0.8949\n",
      "\n",
      "Epoch 00009: val_acc did not improve from 0.90881\n",
      "Epoch 10/100\n",
      "991/991 [==============================] - 8s 8ms/step - loss: 2.9026e-04 - acc: 0.9999 - val_loss: 0.4904 - val_acc: 0.8934\n",
      "\n",
      "Epoch 00010: val_acc did not improve from 0.90881\n",
      "Epoch 11/100\n",
      "991/991 [==============================] - 8s 8ms/step - loss: 2.3146e-04 - acc: 0.9999 - val_loss: 0.4958 - val_acc: 0.8934\n",
      "\n",
      "Epoch 00011: val_acc did not improve from 0.90881\n",
      "Epoch 12/100\n",
      "991/991 [==============================] - 8s 8ms/step - loss: 1.8485e-04 - acc: 1.0000 - val_loss: 0.5131 - val_acc: 0.8964\n",
      "\n",
      "Epoch 00012: val_acc did not improve from 0.90881\n",
      "\n",
      "Epoch 00012: ReduceLROnPlateau reducing learning rate to 4.0000001899898055e-05.\n",
      "Epoch 13/100\n",
      "991/991 [==============================] - 8s 8ms/step - loss: 1.5310e-04 - acc: 1.0000 - val_loss: 0.5135 - val_acc: 0.8964\n",
      "\n",
      "Epoch 00013: val_acc did not improve from 0.90881\n",
      "Epoch 14/100\n",
      "991/991 [==============================] - 8s 8ms/step - loss: 1.4536e-04 - acc: 1.0000 - val_loss: 0.5183 - val_acc: 0.8949\n",
      "\n",
      "Epoch 00014: val_acc did not improve from 0.90881\n",
      "Epoch 15/100\n",
      "991/991 [==============================] - 8s 8ms/step - loss: 1.3572e-04 - acc: 1.0000 - val_loss: 0.5226 - val_acc: 0.8949\n",
      "\n",
      "Epoch 00015: val_acc did not improve from 0.90881\n",
      "Epoch 16/100\n",
      "991/991 [==============================] - 8s 8ms/step - loss: 1.2429e-04 - acc: 1.0000 - val_loss: 0.5319 - val_acc: 0.8949\n",
      "\n",
      "Epoch 00016: val_acc did not improve from 0.90881\n",
      "Epoch 17/100\n",
      "991/991 [==============================] - 8s 8ms/step - loss: 1.1280e-04 - acc: 1.0000 - val_loss: 0.5408 - val_acc: 0.8964\n",
      "\n",
      "Epoch 00017: val_acc did not improve from 0.90881\n",
      "\n",
      "Epoch 00017: ReduceLROnPlateau reducing learning rate to 8.000000525498762e-06.\n",
      "Epoch 18/100\n",
      "991/991 [==============================] - 8s 8ms/step - loss: 1.0400e-04 - acc: 1.0000 - val_loss: 0.5453 - val_acc: 0.8964\n",
      "\n",
      "Epoch 00018: val_acc did not improve from 0.90881\n",
      "Epoch 19/100\n",
      "991/991 [==============================] - 8s 8ms/step - loss: 1.0178e-04 - acc: 1.0000 - val_loss: 0.5485 - val_acc: 0.8980\n",
      "\n",
      "Epoch 00019: val_acc did not improve from 0.90881\n",
      "Epoch 20/100\n",
      "991/991 [==============================] - 8s 8ms/step - loss: 9.9205e-05 - acc: 1.0000 - val_loss: 0.5514 - val_acc: 0.8964\n",
      "\n",
      "Epoch 00020: val_acc did not improve from 0.90881\n",
      "Epoch 21/100\n",
      "991/991 [==============================] - 8s 8ms/step - loss: 9.6384e-05 - acc: 1.0000 - val_loss: 0.5577 - val_acc: 0.8995\n",
      "\n",
      "Epoch 00021: val_acc did not improve from 0.90881\n",
      "Epoch 22/100\n",
      "991/991 [==============================] - 8s 8ms/step - loss: 9.3631e-05 - acc: 1.0000 - val_loss: 0.5624 - val_acc: 0.8995\n",
      "\n",
      "Epoch 00022: val_acc did not improve from 0.90881\n",
      "\n",
      "Epoch 00022: ReduceLROnPlateau reducing learning rate to 1.6000001778593287e-06.\n",
      "Epoch 23/100\n",
      "991/991 [==============================] - 8s 9ms/step - loss: 9.1426e-05 - acc: 1.0000 - val_loss: 0.5639 - val_acc: 0.8995\n",
      "\n",
      "Epoch 00023: val_acc did not improve from 0.90881\n",
      "Epoch 24/100\n",
      "991/991 [==============================] - 8s 8ms/step - loss: 9.0897e-05 - acc: 1.0000 - val_loss: 0.5653 - val_acc: 0.8995\n",
      "\n",
      "Epoch 00024: val_acc did not improve from 0.90881\n",
      "Epoch 25/100\n",
      "991/991 [==============================] - 8s 8ms/step - loss: 9.0352e-05 - acc: 1.0000 - val_loss: 0.5671 - val_acc: 0.8995\n",
      "\n",
      "Epoch 00025: val_acc did not improve from 0.90881\n",
      "Epoch 26/100\n",
      "991/991 [==============================] - 8s 8ms/step - loss: 8.9807e-05 - acc: 1.0000 - val_loss: 0.5681 - val_acc: 0.9011\n",
      "\n",
      "Epoch 00026: val_acc did not improve from 0.90881\n",
      "Epoch 27/100\n",
      "991/991 [==============================] - 8s 9ms/step - loss: 8.9274e-05 - acc: 1.0000 - val_loss: 0.5702 - val_acc: 0.8995\n",
      "\n",
      "Epoch 00027: val_acc did not improve from 0.90881\n",
      "Restoring model weights from the end of the best epoch.\n",
      "\n",
      "Epoch 00027: ReduceLROnPlateau reducing learning rate to 3.200000264769187e-07.\n",
      "Epoch 00027: early stopping\n"
     ]
    }
   ],
   "source": [
    "history = model.fit(X_train,y_train,epochs = 100,batch_size = 32,verbose = 1,callbacks = callback_list,validation_split = 0.02,shuffle = True)"
   ]
  },
  {
   "cell_type": "code",
   "execution_count": 71,
   "id": "9cb69df7",
   "metadata": {
    "execution": {
     "iopub.execute_input": "2023-03-27T16:01:50.504670Z",
     "iopub.status.busy": "2023-03-27T16:01:50.504317Z",
     "iopub.status.idle": "2023-03-27T16:01:50.510176Z",
     "shell.execute_reply": "2023-03-27T16:01:50.509082Z"
    },
    "papermill": {
     "duration": 0.257195,
     "end_time": "2023-03-27T16:01:50.513992",
     "exception": false,
     "start_time": "2023-03-27T16:01:50.256797",
     "status": "completed"
    },
    "tags": []
   },
   "outputs": [
    {
     "name": "stdout",
     "output_type": "stream",
     "text": [
      "Best Validation Accuracy = 90.88099002838135\n",
      "Best Training Accuracy = 100.0\n"
     ]
    }
   ],
   "source": [
    "print(\"Best Validation Accuracy =\", max(history.history['val_acc'])*100)\n",
    "print(\"Best Training Accuracy =\", max(history.history['acc'])*100)"
   ]
  },
  {
   "cell_type": "code",
   "execution_count": 72,
   "id": "f3df44b2",
   "metadata": {
    "execution": {
     "iopub.execute_input": "2023-03-27T16:01:50.986793Z",
     "iopub.status.busy": "2023-03-27T16:01:50.986437Z",
     "iopub.status.idle": "2023-03-27T16:02:20.990167Z",
     "shell.execute_reply": "2023-03-27T16:02:20.989251Z"
    },
    "papermill": {
     "duration": 30.523242,
     "end_time": "2023-03-27T16:02:21.273003",
     "exception": false,
     "start_time": "2023-03-27T16:01:50.749761",
     "status": "completed"
    },
    "tags": []
   },
   "outputs": [
    {
     "data": {
      "image/png": "[encoded data removed]",
      "text/plain": [
       "<Figure size 432x288 with 1 Axes>"
      ]
     },
     "metadata": {
      "needs_background": "light"
     },
     "output_type": "display_data"
    }
   ],
   "source": [
    "import matplotlib.pyplot as plt\n",
    "\n",
    "train_acc = history.history['acc']\n",
    "val_acc = history.history['val_acc']\n",
    "\n",
    "epochs = range(1, len(train_acc) + 1)\n",
    "\n",
    "plt.plot(epochs, train_acc, 'r', label='Training accuracy')\n",
    "plt.plot(epochs, val_acc, 'b', label='Validation accuracy')\n",
    "plt.title('Training & Validation accuracy')\n",
    "plt.xlabel('Epochs')\n",
    "plt.ylabel('Accuracy')\n",
    "plt.legend()\n",
    "\n",
    "plt.show()"
   ]
  },
  {
   "cell_type": "code",
   "execution_count": 73,
   "id": "96f24c97",
   "metadata": {
    "execution": {
     "iopub.execute_input": "2023-03-27T16:02:21.739635Z",
     "iopub.status.busy": "2023-03-27T16:02:21.739282Z",
     "iopub.status.idle": "2023-03-27T16:02:21.954748Z",
     "shell.execute_reply": "2023-03-27T16:02:21.953777Z"
    },
    "papermill": {
     "duration": 0.451461,
     "end_time": "2023-03-27T16:02:21.957218",
     "exception": false,
     "start_time": "2023-03-27T16:02:21.505757",
     "status": "completed"
    },
    "tags": []
   },
   "outputs": [
    {
     "data": {
      "image/png": "[encoded data removed]",
      "text/plain": [
       "<Figure size 432x288 with 1 Axes>"
      ]
     },
     "metadata": {
      "needs_background": "light"
     },
     "output_type": "display_data"
    }
   ],
   "source": [
    "train_loss = history.history['loss']\n",
    "val_loss = history.history['val_loss']\n",
    "\n",
    "plt.plot(epochs, train_loss, 'r', label=\"Training loss\")\n",
    "plt.plot(epochs, val_loss, 'b', label='Validation loss')\n",
    "plt.title('Training & Validation loss')\n",
    "plt.xlabel('Epochs')\n",
    "plt.ylabel('Loss')\n",
    "plt.legend()\n",
    "\n",
    "plt.show()"
   ]
  },
  {
   "cell_type": "code",
   "execution_count": 74,
   "id": "b86bd9c2",
   "metadata": {
    "execution": {
     "iopub.execute_input": "2023-03-27T16:02:22.462364Z",
     "iopub.status.busy": "2023-03-27T16:02:22.461978Z",
     "iopub.status.idle": "2023-03-27T16:02:23.770669Z",
     "shell.execute_reply": "2023-03-27T16:02:23.769608Z"
    },
    "papermill": {
     "duration": 1.555518,
     "end_time": "2023-03-27T16:02:23.773239",
     "exception": false,
     "start_time": "2023-03-27T16:02:22.217721",
     "status": "completed"
    },
    "tags": []
   },
   "outputs": [
    {
     "name": "stdout",
     "output_type": "stream",
     "text": [
      "253/253 [==============================] - 1s 3ms/step - loss: 0.5546 - acc: 0.8902\n"
     ]
    }
   ],
   "source": [
    "test_metrics = model.evaluate(X_test, y_test)"
   ]
  },
  {
   "cell_type": "code",
   "execution_count": 75,
   "id": "f4f3a462",
   "metadata": {
    "execution": {
     "iopub.execute_input": "2023-03-27T16:02:24.294214Z",
     "iopub.status.busy": "2023-03-27T16:02:24.293849Z",
     "iopub.status.idle": "2023-03-27T16:02:24.299632Z",
     "shell.execute_reply": "2023-03-27T16:02:24.298563Z"
    },
    "papermill": {
     "duration": 0.292912,
     "end_time": "2023-03-27T16:02:24.303486",
     "exception": false,
     "start_time": "2023-03-27T16:02:24.010574",
     "status": "completed"
    },
    "tags": []
   },
   "outputs": [
    {
     "name": "stdout",
     "output_type": "stream",
     "text": [
      "Test Accuracy : 0.8901941180229187\n",
      "Test Accuracy : 0.5546355247497559\n"
     ]
    }
   ],
   "source": [
    "test_accuracy = test_metrics[1]\n",
    "test_loss = test_metrics[0]\n",
    "\n",
    "print(\"Test Accuracy :\", test_accuracy)\n",
    "print(\"Test Accuracy :\", test_loss)"
   ]
  },
  {
   "cell_type": "code",
   "execution_count": 76,
   "id": "1cf66b04",
   "metadata": {
    "execution": {
     "iopub.execute_input": "2023-03-27T16:02:24.785954Z",
     "iopub.status.busy": "2023-03-27T16:02:24.783792Z",
     "iopub.status.idle": "2023-03-27T16:02:25.202239Z",
     "shell.execute_reply": "2023-03-27T16:02:25.200522Z"
    },
    "papermill": {
     "duration": 0.662687,
     "end_time": "2023-03-27T16:02:25.204744",
     "exception": false,
     "start_time": "2023-03-27T16:02:24.542057",
     "status": "completed"
    },
    "tags": []
   },
   "outputs": [
    {
     "name": "stdout",
     "output_type": "stream",
     "text": [
      "[[3551  465]\n",
      " [ 423 3648]]\n"
     ]
    }
   ],
   "source": [
    "import numpy as np\n",
    "from sklearn.metrics import confusion_matrix\n",
    "\n",
    "# Assuming you have your test data in X_test and your true labels in y_test\n",
    "# and that your model is already trained and saved as 'model'\n",
    "\n",
    "# Generate predicted values using the model\n",
    "y_pred = model.predict(X_test)\n",
    "\n",
    "# Convert predicted values to binary 0/1 predictions\n",
    "y_pred = np.round(y_pred)\n",
    "\n",
    "# Generate confusion matrix\n",
    "cm = confusion_matrix(y_test, y_pred)\n",
    "\n",
    "print(cm)"
   ]
  },
  {
   "cell_type": "code",
   "execution_count": 77,
   "id": "301c77ae",
   "metadata": {
    "execution": {
     "iopub.execute_input": "2023-03-27T16:02:25.695811Z",
     "iopub.status.busy": "2023-03-27T16:02:25.695052Z",
     "iopub.status.idle": "2023-03-27T16:02:26.310715Z",
     "shell.execute_reply": "2023-03-27T16:02:26.309726Z"
    },
    "papermill": {
     "duration": 0.860501,
     "end_time": "2023-03-27T16:02:26.312950",
     "exception": false,
     "start_time": "2023-03-27T16:02:25.452449",
     "status": "completed"
    },
    "tags": []
   },
   "outputs": [
    {
     "name": "stdout",
     "output_type": "stream",
     "text": [
      "              precision    recall  f1-score   support\n",
      "\n",
      "           0       0.89      0.88      0.89      4016\n",
      "           1       0.89      0.90      0.89      4071\n",
      "\n",
      "    accuracy                           0.89      8087\n",
      "   macro avg       0.89      0.89      0.89      8087\n",
      "weighted avg       0.89      0.89      0.89      8087\n",
      "\n",
      "Precision: 0.886943836615609\n",
      "Recall: 0.8960943257184967\n",
      "Accuracy: 0.8901941387411896\n"
     ]
    },
    {
     "data": {
      "image/png": "[encoded data removed]",
      "text/plain": [
       "<Figure size 432x288 with 2 Axes>"
      ]
     },
     "metadata": {
      "needs_background": "light"
     },
     "output_type": "display_data"
    }
   ],
   "source": [
    "import numpy as np\n",
    "import matplotlib.pyplot as plt\n",
    "from sklearn.metrics import classification_report, confusion_matrix\n",
    "\n",
    "# Assuming you have your test data in X_test and your true labels in y_test\n",
    "# and that your model is already trained and saved as 'model'\n",
    "\n",
    "# Generate predicted values using the model\n",
    "y_pred = model.predict(X_test)\n",
    "\n",
    "# Convert predicted values to binary 0/1 predictions\n",
    "y_pred = np.round(y_pred)\n",
    "\n",
    "# Generate classification report and confusion matrix\n",
    "class_report = classification_report(y_test, y_pred)\n",
    "cm = confusion_matrix(y_test, y_pred)\n",
    "\n",
    "# Calculate precision, recall, and accuracy values from the confusion matrix\n",
    "tn, fp, fn, tp = cm.ravel()\n",
    "precision = tp / (tp + fp)\n",
    "recall = tp / (tp + fn)\n",
    "accuracy = (tp + tn) / (tp + tn + fp + fn)\n",
    "\n",
    "# Print classification report and precision/recall/accuracy values\n",
    "print(class_report)\n",
    "print(\"Precision:\", precision)\n",
    "print(\"Recall:\", recall)\n",
    "print(\"Accuracy:\", accuracy)\n",
    "\n",
    "# Plot confusion matrix\n",
    "#plt.imshow(cm, cmap=plt.cm.Blues)\n",
    "sns.heatmap(cm,annot=True,cmap='coolwarm',xticklabels=[0,1],fmt='d',annot_kws={\"fontsize\":19})\n",
    "plt.title(\"Confusion Matrix\")\n",
    "#plt.colorbar()\n",
    "plt.xlabel(\"Predicted Label\")\n",
    "plt.ylabel(\"True Label\")\n",
    "plt.xticks([0, 1], labels=[\"Negative\", \"Positive\"])\n",
    "plt.yticks([0, 1], labels=[\"Negative\", \"Positive\"])\n",
    "plt.show()\n"
   ]
  },
  {
   "cell_type": "code",
   "execution_count": 78,
   "id": "dc270761",
   "metadata": {
    "execution": {
     "iopub.execute_input": "2023-03-27T16:02:26.802352Z",
     "iopub.status.busy": "2023-03-27T16:02:26.801962Z",
     "iopub.status.idle": "2023-03-27T16:02:27.086307Z",
     "shell.execute_reply": "2023-03-27T16:02:27.085329Z"
    },
    "papermill": {
     "duration": 0.525372,
     "end_time": "2023-03-27T16:02:27.088639",
     "exception": false,
     "start_time": "2023-03-27T16:02:26.563267",
     "status": "completed"
    },
    "tags": []
   },
   "outputs": [],
   "source": [
    "pred_prob1 = model.predict(X_test)"
   ]
  },
  {
   "cell_type": "code",
   "execution_count": 79,
   "id": "ed308dce",
   "metadata": {
    "execution": {
     "iopub.execute_input": "2023-03-27T16:02:27.604343Z",
     "iopub.status.busy": "2023-03-27T16:02:27.603977Z",
     "iopub.status.idle": "2023-03-27T16:02:27.610704Z",
     "shell.execute_reply": "2023-03-27T16:02:27.609806Z"
    },
    "papermill": {
     "duration": 0.245302,
     "end_time": "2023-03-27T16:02:27.612923",
     "exception": false,
     "start_time": "2023-03-27T16:02:27.367621",
     "status": "completed"
    },
    "tags": []
   },
   "outputs": [
    {
     "data": {
      "text/plain": [
       "array([[2.0730724e-09],\n",
       "       [7.2981329e-13],\n",
       "       [9.9999690e-01],\n",
       "       ...,\n",
       "       [2.5707518e-08],\n",
       "       [9.9999988e-01],\n",
       "       [9.9991119e-01]], dtype=float32)"
      ]
     },
     "execution_count": 79,
     "metadata": {},
     "output_type": "execute_result"
    }
   ],
   "source": [
    "pred_prob1"
   ]
  },
  {
   "cell_type": "code",
   "execution_count": 80,
   "id": "cab07a49",
   "metadata": {
    "execution": {
     "iopub.execute_input": "2023-03-27T16:02:28.093782Z",
     "iopub.status.busy": "2023-03-27T16:02:28.091732Z",
     "iopub.status.idle": "2023-03-27T16:02:28.102727Z",
     "shell.execute_reply": "2023-03-27T16:02:28.101686Z"
    },
    "papermill": {
     "duration": 0.25104,
     "end_time": "2023-03-27T16:02:28.105089",
     "exception": false,
     "start_time": "2023-03-27T16:02:27.854049",
     "status": "completed"
    },
    "tags": []
   },
   "outputs": [],
   "source": [
    "from sklearn.metrics import roc_curve\n",
    "\n",
    "# roc curve for models\n",
    "fpr1, tpr1, thresh1 = roc_curve(y_test, pred_prob1, pos_label=1)\n",
    "\n",
    "# roc curve for tpr = fpr \n",
    "random_probs = [0 for i in range(len(y_test))]\n",
    "p_fpr, p_tpr, _ = roc_curve(y_test, random_probs, pos_label=1)\n"
   ]
  },
  {
   "cell_type": "code",
   "execution_count": 81,
   "id": "17f7391b",
   "metadata": {
    "execution": {
     "iopub.execute_input": "2023-03-27T16:02:28.647405Z",
     "iopub.status.busy": "2023-03-27T16:02:28.647026Z",
     "iopub.status.idle": "2023-03-27T16:02:28.657773Z",
     "shell.execute_reply": "2023-03-27T16:02:28.655988Z"
    },
    "papermill": {
     "duration": 0.301447,
     "end_time": "2023-03-27T16:02:28.660520",
     "exception": false,
     "start_time": "2023-03-27T16:02:28.359073",
     "status": "completed"
    },
    "tags": []
   },
   "outputs": [
    {
     "name": "stdout",
     "output_type": "stream",
     "text": [
      "0.9584609853389195\n"
     ]
    }
   ],
   "source": [
    "from sklearn.metrics import roc_auc_score\n",
    "\n",
    "# auc scores\n",
    "auc_score1 = roc_auc_score(y_test, pred_prob1)\n",
    "\n",
    "\n",
    "print(auc_score1)"
   ]
  },
  {
   "cell_type": "code",
   "execution_count": 82,
   "id": "d04053ec",
   "metadata": {
    "execution": {
     "iopub.execute_input": "2023-03-27T16:02:29.149326Z",
     "iopub.status.busy": "2023-03-27T16:02:29.148917Z",
     "iopub.status.idle": "2023-03-27T16:02:29.927151Z",
     "shell.execute_reply": "2023-03-27T16:02:29.926223Z"
    },
    "papermill": {
     "duration": 1.033232,
     "end_time": "2023-03-27T16:02:29.930393",
     "exception": false,
     "start_time": "2023-03-27T16:02:28.897161",
     "status": "completed"
    },
    "tags": []
   },
   "outputs": [
    {
     "data": {
      "image/png": "[encoded data removed]",
      "text/plain": [
       "<Figure size 576x396 with 1 Axes>"
      ]
     },
     "metadata": {},
     "output_type": "display_data"
    }
   ],
   "source": [
    "# matplotlib\n",
    "import matplotlib.pyplot as plt\n",
    "plt.style.use('seaborn')\n",
    "\n",
    "# plot roc curves\n",
    "plt.plot(fpr1, tpr1,color='orange', label='CNN')\n",
    "plt.plot(p_fpr, p_tpr, color='blue')\n",
    "# title\n",
    "plt.title('ROC curve')\n",
    "# x label\n",
    "plt.xlabel('False Positive Rate')\n",
    "# y label\n",
    "plt.ylabel('True Positive rate')\n",
    "\n",
    "plt.legend(loc='best')\n",
    "plt.savefig('ROC',dpi=300)\n",
    "plt.show();"
   ]
  },
  {
   "cell_type": "code",
   "execution_count": null,
   "id": "850204d4",
   "metadata": {
    "papermill": {
     "duration": 0.267356,
     "end_time": "2023-03-27T16:02:30.449228",
     "exception": false,
     "start_time": "2023-03-27T16:02:30.181872",
     "status": "completed"
    },
    "tags": []
   },
   "outputs": [],
   "source": []
  },
  {
   "cell_type": "code",
   "execution_count": null,
   "id": "430f244e",
   "metadata": {
    "papermill": {
     "duration": 0.238103,
     "end_time": "2023-03-27T16:02:30.925468",
     "exception": false,
     "start_time": "2023-03-27T16:02:30.687365",
     "status": "completed"
    },
    "tags": []
   },
   "outputs": [],
   "source": []
  },
  {
   "cell_type": "code",
   "execution_count": null,
   "id": "f92434b1",
   "metadata": {
    "papermill": {
     "duration": 0.234471,
     "end_time": "2023-03-27T16:02:31.439102",
     "exception": false,
     "start_time": "2023-03-27T16:02:31.204631",
     "status": "completed"
    },
    "tags": []
   },
   "outputs": [],
   "source": []
  },
  {
   "cell_type": "code",
   "execution_count": null,
   "id": "b5c28274",
   "metadata": {
    "papermill": {
     "duration": 0.242135,
     "end_time": "2023-03-27T16:02:31.925697",
     "exception": false,
     "start_time": "2023-03-27T16:02:31.683562",
     "status": "completed"
    },
    "tags": []
   },
   "outputs": [],
   "source": []
  },
  {
   "cell_type": "markdown",
   "id": "0376f5f0",
   "metadata": {
    "papermill": {
     "duration": 0.236854,
     "end_time": "2023-03-27T16:02:32.407952",
     "exception": false,
     "start_time": "2023-03-27T16:02:32.171098",
     "status": "completed"
    },
    "tags": []
   },
   "source": [
    "**LSTM**"
   ]
  },
  {
   "cell_type": "code",
   "execution_count": 83,
   "id": "1663b500",
   "metadata": {
    "execution": {
     "iopub.execute_input": "2023-03-27T16:02:32.927322Z",
     "iopub.status.busy": "2023-03-27T16:02:32.926954Z",
     "iopub.status.idle": "2023-03-27T16:02:33.185318Z",
     "shell.execute_reply": "2023-03-27T16:02:33.183725Z"
    },
    "papermill": {
     "duration": 0.499288,
     "end_time": "2023-03-27T16:02:33.187793",
     "exception": false,
     "start_time": "2023-03-27T16:02:32.688505",
     "status": "completed"
    },
    "tags": []
   },
   "outputs": [
    {
     "name": "stdout",
     "output_type": "stream",
     "text": [
      "Model: \"sequential_1\"\n",
      "_________________________________________________________________\n",
      "Layer (type)                 Output Shape              Param #   \n",
      "=================================================================\n",
      "embedding_1 (Embedding)      (None, 240, 32)           1600000   \n",
      "_________________________________________________________________\n",
      "lstm (LSTM)                  (None, 128)               82432     \n",
      "_________________________________________________________________\n",
      "dense_2 (Dense)              (None, 64)                8256      \n",
      "_________________________________________________________________\n",
      "dropout (Dropout)            (None, 64)                0         \n",
      "_________________________________________________________________\n",
      "dense_3 (Dense)              (None, 32)                2080      \n",
      "_________________________________________________________________\n",
      "dense_4 (Dense)              (None, 1)                 33        \n",
      "=================================================================\n",
      "Total params: 1,692,801\n",
      "Trainable params: 1,692,801\n",
      "Non-trainable params: 0\n",
      "_________________________________________________________________\n"
     ]
    }
   ],
   "source": [
    "from keras.models import Sequential\n",
    "from keras.layers import LSTM, Embedding, Dense, Dropout\n",
    "from keras.regularizers import l2\n",
    "\n",
    "model = Sequential()\n",
    "model.add(Embedding(input_dim=50000, \n",
    "                    output_dim=32,\n",
    "                    input_length=max_length))\n",
    "model.add(LSTM(units=128, \n",
    "               activation = 'tanh', \n",
    "               recurrent_activation = 'sigmoid', \n",
    "               dropout = 0.0, \n",
    "               recurrent_dropout = 0.0, \n",
    "               return_sequences = False,\n",
    "            #    kernel_regularizer = l2(0.01),\n",
    "            #    recurrent_regularizer = l2(0.01),\n",
    "            #    bias_regularizer = l2(0.01)\n",
    "            ))\n",
    "model.add(Dense(units = 64,\n",
    "                activation = 'relu'))\n",
    "model.add(Dropout(0.3))\n",
    "model.add(Dense(units = 32,\n",
    "                activation = 'relu'))\n",
    "model.add(Dense(units = 1, \n",
    "                activation = 'sigmoid'))\n",
    "\n",
    "model.summary()"
   ]
  },
  {
   "cell_type": "code",
   "execution_count": 84,
   "id": "589b8f49",
   "metadata": {
    "execution": {
     "iopub.execute_input": "2023-03-27T16:02:33.674290Z",
     "iopub.status.busy": "2023-03-27T16:02:33.673890Z",
     "iopub.status.idle": "2023-03-27T16:02:33.684343Z",
     "shell.execute_reply": "2023-03-27T16:02:33.683508Z"
    },
    "papermill": {
     "duration": 0.256238,
     "end_time": "2023-03-27T16:02:33.686407",
     "exception": false,
     "start_time": "2023-03-27T16:02:33.430169",
     "status": "completed"
    },
    "tags": []
   },
   "outputs": [],
   "source": [
    "model.compile(optimizer = 'adam', \n",
    "              loss = 'binary_crossentropy', \n",
    "              metrics = ['acc'])"
   ]
  },
  {
   "cell_type": "code",
   "execution_count": 85,
   "id": "f4a9f350",
   "metadata": {
    "execution": {
     "iopub.execute_input": "2023-03-27T16:02:34.168805Z",
     "iopub.status.busy": "2023-03-27T16:02:34.168454Z",
     "iopub.status.idle": "2023-03-27T16:02:34.175562Z",
     "shell.execute_reply": "2023-03-27T16:02:34.174523Z"
    },
    "papermill": {
     "duration": 0.252304,
     "end_time": "2023-03-27T16:02:34.177742",
     "exception": false,
     "start_time": "2023-03-27T16:02:33.925438",
     "status": "completed"
    },
    "tags": []
   },
   "outputs": [],
   "source": [
    "from keras.callbacks import ModelCheckpoint, EarlyStopping, LearningRateScheduler, ReduceLROnPlateau, TerminateOnNaN\n",
    "\n",
    "callback_list = [\n",
    "                 ModelCheckpoint(\n",
    "                     filepath = './best_LSTMmodel_2.hdf5',\n",
    "                     monitor = 'val_acc',\n",
    "                     verbose = 1,\n",
    "                     save_best_only = True,\n",
    "                     save_weights_only = False,\n",
    "                     mode = 'max',\n",
    "                     period = 1\n",
    "                 ),\n",
    "                 \n",
    "                 EarlyStopping(\n",
    "                    monitor = 'val_acc',\n",
    "                    patience = 20,\n",
    "                    verbose = 1,\n",
    "                    mode = 'max',\n",
    "                    baseline = 0.5,\n",
    "                    restore_best_weights = True\n",
    "                 ),\n",
    "\n",
    "                 ReduceLROnPlateau(\n",
    "                     monitor = 'val_loss',\n",
    "                     factor = 0.2,\n",
    "                     patience = 5,\n",
    "                     verbose = 1,\n",
    "                     mode = 'min',\n",
    "                     cooldown = 1,\n",
    "                     min_lr = 0,\n",
    "                 ),\n",
    "\n",
    "                 TerminateOnNaN()\n",
    "]"
   ]
  },
  {
   "cell_type": "code",
   "execution_count": 86,
   "id": "5999b5f8",
   "metadata": {
    "execution": {
     "iopub.execute_input": "2023-03-27T16:02:34.716021Z",
     "iopub.status.busy": "2023-03-27T16:02:34.715638Z",
     "iopub.status.idle": "2023-03-27T16:05:45.898113Z",
     "shell.execute_reply": "2023-03-27T16:05:45.897149Z"
    },
    "papermill": {
     "duration": 191.431659,
     "end_time": "2023-03-27T16:05:45.900098",
     "exception": false,
     "start_time": "2023-03-27T16:02:34.468439",
     "status": "completed"
    },
    "tags": []
   },
   "outputs": [
    {
     "name": "stdout",
     "output_type": "stream",
     "text": [
      "Epoch 1/100\n",
      "503/503 [==============================] - 11s 17ms/step - loss: 0.3610 - acc: 0.8324 - val_loss: 0.2330 - val_acc: 0.8916\n",
      "\n",
      "Epoch 00001: val_acc improved from -inf to 0.89157, saving model to ./best_LSTMmodel_2.hdf5\n",
      "Epoch 2/100\n",
      "503/503 [==============================] - 9s 18ms/step - loss: 0.1913 - acc: 0.9221 - val_loss: 0.1436 - val_acc: 0.9458\n",
      "\n",
      "Epoch 00002: val_acc improved from 0.89157 to 0.94578, saving model to ./best_LSTMmodel_2.hdf5\n",
      "Epoch 3/100\n",
      "503/503 [==============================] - 9s 17ms/step - loss: 0.1376 - acc: 0.9460 - val_loss: 0.1575 - val_acc: 0.9277\n",
      "\n",
      "Epoch 00003: val_acc did not improve from 0.94578\n",
      "Epoch 4/100\n",
      "503/503 [==============================] - 8s 17ms/step - loss: 0.1008 - acc: 0.9611 - val_loss: 0.1765 - val_acc: 0.9096\n",
      "\n",
      "Epoch 00004: val_acc did not improve from 0.94578\n",
      "Epoch 5/100\n",
      "503/503 [==============================] - 8s 17ms/step - loss: 0.0697 - acc: 0.9746 - val_loss: 0.1703 - val_acc: 0.9458\n",
      "\n",
      "Epoch 00005: val_acc did not improve from 0.94578\n",
      "Epoch 6/100\n",
      "503/503 [==============================] - 9s 18ms/step - loss: 0.0509 - acc: 0.9814 - val_loss: 0.2942 - val_acc: 0.8976\n",
      "\n",
      "Epoch 00006: val_acc did not improve from 0.94578\n",
      "Epoch 7/100\n",
      "503/503 [==============================] - 9s 17ms/step - loss: 0.0433 - acc: 0.9851 - val_loss: 0.4382 - val_acc: 0.8855\n",
      "\n",
      "Epoch 00007: val_acc did not improve from 0.94578\n",
      "\n",
      "Epoch 00007: ReduceLROnPlateau reducing learning rate to 0.00020000000949949026.\n",
      "Epoch 8/100\n",
      "503/503 [==============================] - 8s 16ms/step - loss: 0.0266 - acc: 0.9919 - val_loss: 0.3296 - val_acc: 0.8916\n",
      "\n",
      "Epoch 00008: val_acc did not improve from 0.94578\n",
      "Epoch 9/100\n",
      "503/503 [==============================] - 9s 18ms/step - loss: 0.0155 - acc: 0.9952 - val_loss: 0.3789 - val_acc: 0.8916\n",
      "\n",
      "Epoch 00009: val_acc did not improve from 0.94578\n",
      "Epoch 10/100\n",
      "503/503 [==============================] - 9s 17ms/step - loss: 0.0126 - acc: 0.9966 - val_loss: 0.4613 - val_acc: 0.8735\n",
      "\n",
      "Epoch 00010: val_acc did not improve from 0.94578\n",
      "Epoch 11/100\n",
      "503/503 [==============================] - 9s 17ms/step - loss: 0.0105 - acc: 0.9972 - val_loss: 0.4418 - val_acc: 0.9036\n",
      "\n",
      "Epoch 00011: val_acc did not improve from 0.94578\n",
      "Epoch 12/100\n",
      "503/503 [==============================] - 8s 16ms/step - loss: 0.0094 - acc: 0.9975 - val_loss: 0.5452 - val_acc: 0.8916\n",
      "\n",
      "Epoch 00012: val_acc did not improve from 0.94578\n",
      "\n",
      "Epoch 00012: ReduceLROnPlateau reducing learning rate to 4.0000001899898055e-05.\n",
      "Epoch 13/100\n",
      "503/503 [==============================] - 9s 17ms/step - loss: 0.0082 - acc: 0.9979 - val_loss: 0.5638 - val_acc: 0.8795\n",
      "\n",
      "Epoch 00013: val_acc did not improve from 0.94578\n",
      "Epoch 14/100\n",
      "503/503 [==============================] - 9s 17ms/step - loss: 0.0064 - acc: 0.9985 - val_loss: 0.6119 - val_acc: 0.8795\n",
      "\n",
      "Epoch 00014: val_acc did not improve from 0.94578\n",
      "Epoch 15/100\n",
      "503/503 [==============================] - 8s 17ms/step - loss: 0.0058 - acc: 0.9986 - val_loss: 0.6328 - val_acc: 0.8855\n",
      "\n",
      "Epoch 00015: val_acc did not improve from 0.94578\n",
      "Epoch 16/100\n",
      "503/503 [==============================] - 8s 17ms/step - loss: 0.0053 - acc: 0.9986 - val_loss: 0.6712 - val_acc: 0.8675\n",
      "\n",
      "Epoch 00016: val_acc did not improve from 0.94578\n",
      "Epoch 17/100\n",
      "503/503 [==============================] - 9s 18ms/step - loss: 0.0051 - acc: 0.9987 - val_loss: 0.6298 - val_acc: 0.8855\n",
      "\n",
      "Epoch 00017: val_acc did not improve from 0.94578\n",
      "\n",
      "Epoch 00017: ReduceLROnPlateau reducing learning rate to 8.000000525498762e-06.\n",
      "Epoch 18/100\n",
      "503/503 [==============================] - 9s 17ms/step - loss: 0.0044 - acc: 0.9989 - val_loss: 0.6435 - val_acc: 0.8855\n",
      "\n",
      "Epoch 00018: val_acc did not improve from 0.94578\n",
      "Epoch 19/100\n",
      "503/503 [==============================] - 8s 16ms/step - loss: 0.0044 - acc: 0.9991 - val_loss: 0.6551 - val_acc: 0.8855\n",
      "\n",
      "Epoch 00019: val_acc did not improve from 0.94578\n",
      "Epoch 20/100\n",
      "503/503 [==============================] - 9s 18ms/step - loss: 0.0043 - acc: 0.9991 - val_loss: 0.6686 - val_acc: 0.8855\n",
      "\n",
      "Epoch 00020: val_acc did not improve from 0.94578\n",
      "Epoch 21/100\n",
      "503/503 [==============================] - 9s 17ms/step - loss: 0.0042 - acc: 0.9990 - val_loss: 0.6797 - val_acc: 0.8795\n",
      "\n",
      "Epoch 00021: val_acc did not improve from 0.94578\n",
      "Epoch 22/100\n",
      "503/503 [==============================] - 8s 17ms/step - loss: 0.0041 - acc: 0.9991 - val_loss: 0.6917 - val_acc: 0.8795\n",
      "\n",
      "Epoch 00022: val_acc did not improve from 0.94578\n",
      "Restoring model weights from the end of the best epoch.\n",
      "\n",
      "Epoch 00022: ReduceLROnPlateau reducing learning rate to 1.6000001778593287e-06.\n",
      "Epoch 00022: early stopping\n"
     ]
    }
   ],
   "source": [
    "history = model.fit(X_train,\n",
    "                    y_train,\n",
    "                    batch_size = 64,\n",
    "                    epochs = 100,\n",
    "                    verbose = 1,\n",
    "                    callbacks = callback_list,\n",
    "                    validation_split = 0.00512,\n",
    "                    shuffle = True)"
   ]
  },
  {
   "cell_type": "code",
   "execution_count": 87,
   "id": "087701a4",
   "metadata": {
    "execution": {
     "iopub.execute_input": "2023-03-27T16:05:46.764341Z",
     "iopub.status.busy": "2023-03-27T16:05:46.763928Z",
     "iopub.status.idle": "2023-03-27T16:05:46.770234Z",
     "shell.execute_reply": "2023-03-27T16:05:46.769238Z"
    },
    "papermill": {
     "duration": 0.412954,
     "end_time": "2023-03-27T16:05:46.773065",
     "exception": false,
     "start_time": "2023-03-27T16:05:46.360111",
     "status": "completed"
    },
    "tags": []
   },
   "outputs": [
    {
     "name": "stdout",
     "output_type": "stream",
     "text": [
      "Best Validation Accuracy = 94.57831382751465\n",
      "Best Training Accuracy   = 99.91298913955688\n"
     ]
    }
   ],
   "source": [
    "print(\"Best Validation Accuracy =\", max(history.history['val_acc'])*100)\n",
    "print(\"Best Training Accuracy   =\", max(history.history['acc'])*100)"
   ]
  },
  {
   "cell_type": "code",
   "execution_count": 88,
   "id": "207f007f",
   "metadata": {
    "execution": {
     "iopub.execute_input": "2023-03-27T16:05:47.756252Z",
     "iopub.status.busy": "2023-03-27T16:05:47.755689Z",
     "iopub.status.idle": "2023-03-27T16:05:58.259268Z",
     "shell.execute_reply": "2023-03-27T16:05:58.258153Z"
    },
    "papermill": {
     "duration": 11.093931,
     "end_time": "2023-03-27T16:05:58.261679",
     "exception": false,
     "start_time": "2023-03-27T16:05:47.167748",
     "status": "completed"
    },
    "tags": []
   },
   "outputs": [
    {
     "data": {
      "image/png": "[encoded data removed]",
      "text/plain": [
       "<Figure size 576x396 with 1 Axes>"
      ]
     },
     "metadata": {},
     "output_type": "display_data"
    }
   ],
   "source": [
    "import matplotlib.pyplot as plt\n",
    "\n",
    "train_acc = history.history['acc']\n",
    "val_acc = history.history['val_acc']\n",
    "\n",
    "epochs = range(1, len(train_acc) + 1)\n",
    "\n",
    "plt.plot(epochs, train_acc, 'bo', label='Training accuracy')\n",
    "plt.plot(epochs, val_acc, 'b', label='Validation accuracy')\n",
    "plt.title('Training & Validation accuracy')\n",
    "plt.xlabel('Epochs')\n",
    "plt.ylabel('Accuracy')\n",
    "plt.legend()\n",
    "\n",
    "plt.show()"
   ]
  },
  {
   "cell_type": "code",
   "execution_count": 89,
   "id": "2447b3df",
   "metadata": {
    "execution": {
     "iopub.execute_input": "2023-03-27T16:05:59.391252Z",
     "iopub.status.busy": "2023-03-27T16:05:59.390857Z",
     "iopub.status.idle": "2023-03-27T16:05:59.710244Z",
     "shell.execute_reply": "2023-03-27T16:05:59.709239Z"
    },
    "papermill": {
     "duration": 0.747208,
     "end_time": "2023-03-27T16:05:59.713338",
     "exception": false,
     "start_time": "2023-03-27T16:05:58.966130",
     "status": "completed"
    },
    "tags": []
   },
   "outputs": [
    {
     "data": {
      "image/png": "[encoded data removed]",
      "text/plain": [
       "<Figure size 576x396 with 1 Axes>"
      ]
     },
     "metadata": {},
     "output_type": "display_data"
    }
   ],
   "source": [
    "train_loss = history.history['loss']\n",
    "val_loss = history.history['val_loss']\n",
    "\n",
    "plt.plot(epochs, train_loss, 'bo', label=\"Training loss\")\n",
    "plt.plot(epochs, val_loss, 'b', label='Validation loss')\n",
    "plt.title('Training & Validation loss')\n",
    "plt.xlabel('Epochs')\n",
    "plt.ylabel('Loss')\n",
    "plt.legend()\n",
    "\n",
    "plt.show()"
   ]
  },
  {
   "cell_type": "code",
   "execution_count": 90,
   "id": "4d9fa287",
   "metadata": {
    "execution": {
     "iopub.execute_input": "2023-03-27T16:06:00.995143Z",
     "iopub.status.busy": "2023-03-27T16:06:00.994774Z",
     "iopub.status.idle": "2023-03-27T16:06:02.814171Z",
     "shell.execute_reply": "2023-03-27T16:06:02.812827Z"
    },
    "papermill": {
     "duration": 2.466452,
     "end_time": "2023-03-27T16:06:02.817299",
     "exception": false,
     "start_time": "2023-03-27T16:06:00.350847",
     "status": "completed"
    },
    "tags": []
   },
   "outputs": [
    {
     "name": "stdout",
     "output_type": "stream",
     "text": [
      "253/253 [==============================] - 2s 7ms/step - loss: 0.2290 - acc: 0.9090\n"
     ]
    }
   ],
   "source": [
    "test_metrics = model.evaluate(X_test, y_test)"
   ]
  },
  {
   "cell_type": "code",
   "execution_count": 91,
   "id": "333d25fe",
   "metadata": {
    "execution": {
     "iopub.execute_input": "2023-03-27T16:06:03.710449Z",
     "iopub.status.busy": "2023-03-27T16:06:03.709303Z",
     "iopub.status.idle": "2023-03-27T16:06:03.716717Z",
     "shell.execute_reply": "2023-03-27T16:06:03.715489Z"
    },
    "papermill": {
     "duration": 0.462282,
     "end_time": "2023-03-27T16:06:03.720354",
     "exception": false,
     "start_time": "2023-03-27T16:06:03.258072",
     "status": "completed"
    },
    "tags": []
   },
   "outputs": [
    {
     "name": "stdout",
     "output_type": "stream",
     "text": [
      "Test Accuracy : 0.9089897274971008\n",
      "Test Accuracy : 0.22900784015655518\n"
     ]
    }
   ],
   "source": [
    "test_accuracy = test_metrics[1] \n",
    "test_loss = test_metrics[0]\n",
    "print(\"Test Accuracy :\", test_accuracy)\n",
    "print(\"Test Accuracy :\", test_loss)"
   ]
  },
  {
   "cell_type": "code",
   "execution_count": 92,
   "id": "ac23eb1b",
   "metadata": {
    "execution": {
     "iopub.execute_input": "2023-03-27T16:06:04.644236Z",
     "iopub.status.busy": "2023-03-27T16:06:04.643843Z",
     "iopub.status.idle": "2023-03-27T16:06:06.353815Z",
     "shell.execute_reply": "2023-03-27T16:06:06.351897Z"
    },
    "papermill": {
     "duration": 2.196284,
     "end_time": "2023-03-27T16:06:06.356955",
     "exception": false,
     "start_time": "2023-03-27T16:06:04.160671",
     "status": "completed"
    },
    "tags": []
   },
   "outputs": [
    {
     "name": "stdout",
     "output_type": "stream",
     "text": [
      "[[3617  399]\n",
      " [ 337 3734]]\n"
     ]
    }
   ],
   "source": [
    "import numpy as np\n",
    "from sklearn.metrics import confusion_matrix\n",
    "\n",
    "# Assuming you have your test data in X_test and your true labels in y_test\n",
    "# and that your model is already trained and saved as 'model'\n",
    "\n",
    "# Generate predicted values using the model\n",
    "y_pred = model.predict(X_test)\n",
    "\n",
    "# Convert predicted values to binary 0/1 predictions\n",
    "y_pred = np.round(y_pred)\n",
    "\n",
    "# Generate confusion matrix\n",
    "cm = confusion_matrix(y_test, y_pred)\n",
    "\n",
    "print(cm)"
   ]
  },
  {
   "cell_type": "code",
   "execution_count": 93,
   "id": "a6074e76",
   "metadata": {
    "execution": {
     "iopub.execute_input": "2023-03-27T16:06:07.190890Z",
     "iopub.status.busy": "2023-03-27T16:06:07.190516Z",
     "iopub.status.idle": "2023-03-27T16:06:08.842698Z",
     "shell.execute_reply": "2023-03-27T16:06:08.841789Z"
    },
    "papermill": {
     "duration": 2.060722,
     "end_time": "2023-03-27T16:06:08.844781",
     "exception": false,
     "start_time": "2023-03-27T16:06:06.784059",
     "status": "completed"
    },
    "tags": []
   },
   "outputs": [
    {
     "name": "stdout",
     "output_type": "stream",
     "text": [
      "              precision    recall  f1-score   support\n",
      "\n",
      "           0       0.91      0.90      0.91      4016\n",
      "           1       0.90      0.92      0.91      4071\n",
      "\n",
      "    accuracy                           0.91      8087\n",
      "   macro avg       0.91      0.91      0.91      8087\n",
      "weighted avg       0.91      0.91      0.91      8087\n",
      "\n",
      "Precision: 0.9034599564481006\n",
      "Recall: 0.9172193564234832\n",
      "Accuracy: 0.9089897366143193\n"
     ]
    },
    {
     "data": {
      "image/png": "[encoded data removed]",
      "text/plain": [
       "<Figure size 576x396 with 2 Axes>"
      ]
     },
     "metadata": {},
     "output_type": "display_data"
    }
   ],
   "source": [
    "import numpy as np\n",
    "import matplotlib.pyplot as plt\n",
    "from sklearn.metrics import classification_report, confusion_matrix\n",
    "\n",
    "# Assuming you have your test data in X_test and your true labels in y_test\n",
    "# and that your model is already trained and saved as 'model'\n",
    "\n",
    "# Generate predicted values using the model\n",
    "y_pred = model.predict(X_test)\n",
    "\n",
    "# Convert predicted values to binary 0/1 predictions\n",
    "y_pred = np.round(y_pred)\n",
    "\n",
    "# Generate classification report and confusion matrix\n",
    "class_report = classification_report(y_test, y_pred)\n",
    "cm = confusion_matrix(y_test, y_pred)\n",
    "\n",
    "# Calculate precision, recall, and accuracy values from the confusion matrix\n",
    "tn, fp, fn, tp = cm.ravel()\n",
    "precision = tp / (tp + fp)\n",
    "recall = tp / (tp + fn)\n",
    "accuracy = (tp + tn) / (tp + tn + fp + fn)\n",
    "\n",
    "# Print classification report and precision/recall/accuracy values\n",
    "print(class_report)\n",
    "print(\"Precision:\", precision)\n",
    "print(\"Recall:\", recall)\n",
    "print(\"Accuracy:\", accuracy)\n",
    "\n",
    "# Plot confusion matrix\n",
    "#plt.imshow(cm, cmap=plt.cm.Blues)\n",
    "sns.heatmap(cm,annot=True,cmap='coolwarm',xticklabels=[0,1],fmt='d',annot_kws={\"fontsize\":19})\n",
    "plt.title(\"Confusion Matrix\")\n",
    "#plt.colorbar()\n",
    "plt.xlabel(\"Predicted Label\")\n",
    "plt.ylabel(\"True Label\")\n",
    "plt.xticks([0, 1], labels=[\"Negative\", \"Positive\"])\n",
    "plt.yticks([0, 1], labels=[\"Negative\", \"Positive\"])\n",
    "plt.show()"
   ]
  },
  {
   "cell_type": "code",
   "execution_count": 94,
   "id": "921dbbf6",
   "metadata": {
    "execution": {
     "iopub.execute_input": "2023-03-27T16:06:09.925668Z",
     "iopub.status.busy": "2023-03-27T16:06:09.925313Z",
     "iopub.status.idle": "2023-03-27T16:06:11.290839Z",
     "shell.execute_reply": "2023-03-27T16:06:11.289878Z"
    },
    "papermill": {
     "duration": 1.993848,
     "end_time": "2023-03-27T16:06:11.293466",
     "exception": false,
     "start_time": "2023-03-27T16:06:09.299618",
     "status": "completed"
    },
    "tags": []
   },
   "outputs": [],
   "source": [
    "pred_prob2 = model.predict(X_test)"
   ]
  },
  {
   "cell_type": "code",
   "execution_count": 95,
   "id": "6e6d83d1",
   "metadata": {
    "execution": {
     "iopub.execute_input": "2023-03-27T16:06:12.120053Z",
     "iopub.status.busy": "2023-03-27T16:06:12.119668Z",
     "iopub.status.idle": "2023-03-27T16:06:12.127547Z",
     "shell.execute_reply": "2023-03-27T16:06:12.126396Z"
    },
    "papermill": {
     "duration": 0.419629,
     "end_time": "2023-03-27T16:06:12.130128",
     "exception": false,
     "start_time": "2023-03-27T16:06:11.710499",
     "status": "completed"
    },
    "tags": []
   },
   "outputs": [
    {
     "data": {
      "text/plain": [
       "array([[1.2031935e-05],\n",
       "       [2.4839630e-04],\n",
       "       [9.9781692e-01],\n",
       "       ...,\n",
       "       [5.4361854e-02],\n",
       "       [9.8730403e-01],\n",
       "       [9.9639112e-01]], dtype=float32)"
      ]
     },
     "execution_count": 95,
     "metadata": {},
     "output_type": "execute_result"
    }
   ],
   "source": [
    "pred_prob2"
   ]
  },
  {
   "cell_type": "code",
   "execution_count": 96,
   "id": "e566b0f3",
   "metadata": {
    "execution": {
     "iopub.execute_input": "2023-03-27T16:06:12.997712Z",
     "iopub.status.busy": "2023-03-27T16:06:12.997355Z",
     "iopub.status.idle": "2023-03-27T16:06:13.007394Z",
     "shell.execute_reply": "2023-03-27T16:06:13.006461Z"
    },
    "papermill": {
     "duration": 0.419352,
     "end_time": "2023-03-27T16:06:13.009635",
     "exception": false,
     "start_time": "2023-03-27T16:06:12.590283",
     "status": "completed"
    },
    "tags": []
   },
   "outputs": [],
   "source": [
    "from sklearn.metrics import roc_curve\n",
    "\n",
    "# roc curve for models\n",
    "fpr1, tpr1, thresh1 = roc_curve(y_test, pred_prob2, pos_label=1)\n",
    "\n",
    "# roc curve for tpr = fpr \n",
    "random_probs = [0 for i in range(len(y_test))]\n",
    "p_fpr, p_tpr, _ = roc_curve(y_test, random_probs, pos_label=1)"
   ]
  },
  {
   "cell_type": "code",
   "execution_count": 97,
   "id": "93805867",
   "metadata": {
    "execution": {
     "iopub.execute_input": "2023-03-27T16:06:13.860801Z",
     "iopub.status.busy": "2023-03-27T16:06:13.860452Z",
     "iopub.status.idle": "2023-03-27T16:06:13.870518Z",
     "shell.execute_reply": "2023-03-27T16:06:13.869478Z"
    },
    "papermill": {
     "duration": 0.463955,
     "end_time": "2023-03-27T16:06:13.873766",
     "exception": false,
     "start_time": "2023-03-27T16:06:13.409811",
     "status": "completed"
    },
    "tags": []
   },
   "outputs": [
    {
     "name": "stdout",
     "output_type": "stream",
     "text": [
      "0.9692915882527371\n"
     ]
    }
   ],
   "source": [
    "from sklearn.metrics import roc_auc_score\n",
    "\n",
    "# auc scores\n",
    "auc_score2 = roc_auc_score(y_test, pred_prob2)\n",
    "\n",
    "\n",
    "print(auc_score2)"
   ]
  },
  {
   "cell_type": "code",
   "execution_count": 98,
   "id": "91e75d65",
   "metadata": {
    "execution": {
     "iopub.execute_input": "2023-03-27T16:06:14.688336Z",
     "iopub.status.busy": "2023-03-27T16:06:14.687541Z",
     "iopub.status.idle": "2023-03-27T16:06:15.329001Z",
     "shell.execute_reply": "2023-03-27T16:06:15.328309Z"
    },
    "papermill": {
     "duration": 1.054064,
     "end_time": "2023-03-27T16:06:15.331105",
     "exception": false,
     "start_time": "2023-03-27T16:06:14.277041",
     "status": "completed"
    },
    "tags": []
   },
   "outputs": [
    {
     "data": {
      "image/png": "[encoded data removed]",
      "text/plain": [
       "<Figure size 576x396 with 1 Axes>"
      ]
     },
     "metadata": {},
     "output_type": "display_data"
    }
   ],
   "source": [
    "# matplotlib\n",
    "import matplotlib.pyplot as plt\n",
    "plt.style.use('seaborn')\n",
    "\n",
    "# plot roc curves\n",
    "plt.plot(fpr1, tpr1,color='orange', label='LSTM')\n",
    "plt.plot(p_fpr, p_tpr, color='blue')\n",
    "# title\n",
    "plt.title('ROC curve')\n",
    "# x label\n",
    "plt.xlabel('False Positive Rate')\n",
    "# y label\n",
    "plt.ylabel('True Positive rate')\n",
    "\n",
    "plt.legend(loc='best')\n",
    "plt.savefig('ROC',dpi=300)\n",
    "plt.show();"
   ]
  },
  {
   "cell_type": "code",
   "execution_count": null,
   "id": "daf7a836",
   "metadata": {
    "papermill": {
     "duration": 0.450047,
     "end_time": "2023-03-27T16:06:16.185079",
     "exception": false,
     "start_time": "2023-03-27T16:06:15.735032",
     "status": "completed"
    },
    "tags": []
   },
   "outputs": [],
   "source": []
  },
  {
   "cell_type": "code",
   "execution_count": null,
   "id": "ca268c7f",
   "metadata": {
    "papermill": {
     "duration": 0.407377,
     "end_time": "2023-03-27T16:06:16.994725",
     "exception": false,
     "start_time": "2023-03-27T16:06:16.587348",
     "status": "completed"
    },
    "tags": []
   },
   "outputs": [],
   "source": []
  },
  {
   "cell_type": "markdown",
   "id": "6c8bbb4e",
   "metadata": {
    "papermill": {
     "duration": 0.409395,
     "end_time": "2023-03-27T16:06:17.858804",
     "exception": false,
     "start_time": "2023-03-27T16:06:17.449409",
     "status": "completed"
    },
    "tags": []
   },
   "source": [
    "**CNN_LSTM**"
   ]
  },
  {
   "cell_type": "code",
   "execution_count": null,
   "id": "3d1ada33",
   "metadata": {
    "papermill": {
     "duration": 0.404165,
     "end_time": "2023-03-27T16:06:18.671471",
     "exception": false,
     "start_time": "2023-03-27T16:06:18.267306",
     "status": "completed"
    },
    "tags": []
   },
   "outputs": [],
   "source": []
  },
  {
   "cell_type": "code",
   "execution_count": 99,
   "id": "0ce6cfad",
   "metadata": {
    "execution": {
     "iopub.execute_input": "2023-03-27T16:06:19.547633Z",
     "iopub.status.busy": "2023-03-27T16:06:19.547265Z",
     "iopub.status.idle": "2023-03-27T16:06:19.551895Z",
     "shell.execute_reply": "2023-03-27T16:06:19.550905Z"
    },
    "papermill": {
     "duration": 0.408809,
     "end_time": "2023-03-27T16:06:19.554087",
     "exception": false,
     "start_time": "2023-03-27T16:06:19.145278",
     "status": "completed"
    },
    "tags": []
   },
   "outputs": [],
   "source": [
    "##from keras.models import Sequential\n",
    "#from keras.layers import Dense, Dropout, Flatten\n",
    "#from keras.layers import Conv2D, MaxPooling2D, TimeDistributed\n",
    "#from keras.layers import LSTM\n",
    "\n",
    "# Define the model\n",
    "#model = Sequential()\n",
    "\n",
    "# Add a convolutional layer\n",
    "#model.add(TimeDistributed(Conv2D(32, kernel_size=(3, 3),\n",
    "#                 activation='relu'), input_shape=(None, 100, 100, 3)))\n",
    "#model.add(TimeDistributed(MaxPooling2D(pool_size=(2, 2))))\n",
    "#model.add(TimeDistributed(Flatten()))\n",
    "\n",
    "# Add an LSTM layer\n",
    "#model.add(LSTM(64))\n",
    "\n",
    "# Add a fully connected layer\n",
    "#model.add(Dense(128, activation='relu'))\n",
    "#model.add(Dropout(0.5))\n",
    "#model.add(Dense(1, activation='sigmoid'))\n",
    "##model.summary()"
   ]
  },
  {
   "cell_type": "code",
   "execution_count": null,
   "id": "cfee561d",
   "metadata": {
    "papermill": {
     "duration": 0.517076,
     "end_time": "2023-03-27T16:06:20.474287",
     "exception": false,
     "start_time": "2023-03-27T16:06:19.957211",
     "status": "completed"
    },
    "tags": []
   },
   "outputs": [],
   "source": []
  },
  {
   "cell_type": "code",
   "execution_count": 100,
   "id": "442f468a",
   "metadata": {
    "execution": {
     "iopub.execute_input": "2023-03-27T16:06:21.441590Z",
     "iopub.status.busy": "2023-03-27T16:06:21.441186Z",
     "iopub.status.idle": "2023-03-27T16:06:22.105470Z",
     "shell.execute_reply": "2023-03-27T16:06:22.102977Z"
    },
    "papermill": {
     "duration": 1.072156,
     "end_time": "2023-03-27T16:06:22.108598",
     "exception": false,
     "start_time": "2023-03-27T16:06:21.036442",
     "status": "completed"
    },
    "tags": []
   },
   "outputs": [
    {
     "name": "stdout",
     "output_type": "stream",
     "text": [
      "Model: \"sequential_2\"\n",
      "_________________________________________________________________\n",
      "Layer (type)                 Output Shape              Param #   \n",
      "=================================================================\n",
      "embedding_2 (Embedding)      (None, 240, 32)           1600000   \n",
      "_________________________________________________________________\n",
      "conv1d_1 (Conv1D)            (None, 238, 64)           6208      \n",
      "_________________________________________________________________\n",
      "max_pooling1d_1 (MaxPooling1 (None, 119, 64)           0         \n",
      "_________________________________________________________________\n",
      "dropout_1 (Dropout)          (None, 119, 64)           0         \n",
      "_________________________________________________________________\n",
      "lstm_1 (LSTM)                (None, 128)               98816     \n",
      "_________________________________________________________________\n",
      "dense_5 (Dense)              (None, 1)                 129       \n",
      "=================================================================\n",
      "Total params: 1,705,153\n",
      "Trainable params: 1,705,153\n",
      "Non-trainable params: 0\n",
      "_________________________________________________________________\n"
     ]
    }
   ],
   "source": [
    "from keras.models import Sequential\n",
    "from keras.layers import LSTM, Embedding, Dense, Dropout, Conv1D, MaxPooling1D, Flatten\n",
    "\n",
    "model = Sequential()\n",
    "model.add(Embedding(input_dim=50000, \n",
    "                    output_dim=32,\n",
    "                    input_length=max_length))\n",
    "model.add(Conv1D(filters=64, kernel_size=3, activation='relu'))\n",
    "model.add(MaxPooling1D(pool_size=2))\n",
    "model.add(Dropout(0.25))\n",
    "model.add(LSTM(units=128, dropout=0.2, recurrent_dropout=0.2))\n",
    "model.add(Dense(units=1, activation='sigmoid'))\n",
    "\n",
    "model.summary()"
   ]
  },
  {
   "cell_type": "code",
   "execution_count": 101,
   "id": "020c4477",
   "metadata": {
    "execution": {
     "iopub.execute_input": "2023-03-27T16:06:22.983677Z",
     "iopub.status.busy": "2023-03-27T16:06:22.983290Z",
     "iopub.status.idle": "2023-03-27T16:06:22.993051Z",
     "shell.execute_reply": "2023-03-27T16:06:22.992124Z"
    },
    "papermill": {
     "duration": 0.475018,
     "end_time": "2023-03-27T16:06:22.995026",
     "exception": false,
     "start_time": "2023-03-27T16:06:22.520008",
     "status": "completed"
    },
    "tags": []
   },
   "outputs": [],
   "source": [
    "# Compile the model\n",
    "model.compile(loss='binary_crossentropy',\n",
    "              optimizer='adam',\n",
    "              metrics=['accuracy'])"
   ]
  },
  {
   "cell_type": "code",
   "execution_count": 102,
   "id": "b5ce7e27",
   "metadata": {
    "execution": {
     "iopub.execute_input": "2023-03-27T16:06:23.811026Z",
     "iopub.status.busy": "2023-03-27T16:06:23.809792Z",
     "iopub.status.idle": "2023-03-27T16:06:23.818269Z",
     "shell.execute_reply": "2023-03-27T16:06:23.817400Z"
    },
    "papermill": {
     "duration": 0.411623,
     "end_time": "2023-03-27T16:06:23.820252",
     "exception": false,
     "start_time": "2023-03-27T16:06:23.408629",
     "status": "completed"
    },
    "tags": []
   },
   "outputs": [],
   "source": [
    "from keras.callbacks import ModelCheckpoint, EarlyStopping, LearningRateScheduler, ReduceLROnPlateau, TerminateOnNaN\n",
    "\n",
    "callback_list = [\n",
    "                 ModelCheckpoint(\n",
    "                     filepath = './best_CNN_LSTMmodel.hdf5',\n",
    "                     monitor = 'val_accuracy',\n",
    "                     verbose = 1,\n",
    "                     save_best_only = True,\n",
    "                     save_weights_only = False,\n",
    "                     mode = 'max',\n",
    "                     period = 1\n",
    "                 ),\n",
    "                 \n",
    "                 EarlyStopping(\n",
    "                    monitor = 'val_accuracy',\n",
    "                    patience = 20,\n",
    "                    verbose = 1,\n",
    "                    mode = 'max',\n",
    "                    baseline = 0.5,\n",
    "                    restore_best_weights = True\n",
    "                 ),\n",
    "\n",
    "                 ReduceLROnPlateau(\n",
    "                     monitor = 'val_loss',\n",
    "                     factor = 0.2,\n",
    "                     patience = 5,\n",
    "                     verbose = 1,\n",
    "                     mode = 'min',\n",
    "                     cooldown = 1,\n",
    "                     min_lr = 0,\n",
    "                 ),\n",
    "\n",
    "                 TerminateOnNaN()\n",
    "]"
   ]
  },
  {
   "cell_type": "code",
   "execution_count": 103,
   "id": "a2299e12",
   "metadata": {
    "execution": {
     "iopub.execute_input": "2023-03-27T16:06:24.664844Z",
     "iopub.status.busy": "2023-03-27T16:06:24.663772Z",
     "iopub.status.idle": "2023-03-27T16:54:48.843103Z",
     "shell.execute_reply": "2023-03-27T16:54:48.842039Z"
    },
    "papermill": {
     "duration": 2904.582394,
     "end_time": "2023-03-27T16:54:48.845672",
     "exception": false,
     "start_time": "2023-03-27T16:06:24.263278",
     "status": "completed"
    },
    "tags": []
   },
   "outputs": [
    {
     "name": "stdout",
     "output_type": "stream",
     "text": [
      "Epoch 1/10\n",
      "503/503 [==============================] - 289s 570ms/step - loss: 0.3442 - accuracy: 0.8347 - val_loss: 0.2248 - val_accuracy: 0.8855\n",
      "\n",
      "Epoch 00001: val_accuracy improved from -inf to 0.88554, saving model to ./best_CNN_LSTMmodel.hdf5\n",
      "Epoch 2/10\n",
      "503/503 [==============================] - 286s 569ms/step - loss: 0.1799 - accuracy: 0.9266 - val_loss: 0.2038 - val_accuracy: 0.9217\n",
      "\n",
      "Epoch 00002: val_accuracy improved from 0.88554 to 0.92169, saving model to ./best_CNN_LSTMmodel.hdf5\n",
      "Epoch 3/10\n",
      "503/503 [==============================] - 285s 566ms/step - loss: 0.1189 - accuracy: 0.9525 - val_loss: 0.1920 - val_accuracy: 0.9337\n",
      "\n",
      "Epoch 00003: val_accuracy improved from 0.92169 to 0.93373, saving model to ./best_CNN_LSTMmodel.hdf5\n",
      "Epoch 4/10\n",
      "503/503 [==============================] - 283s 564ms/step - loss: 0.0862 - accuracy: 0.9658 - val_loss: 0.2315 - val_accuracy: 0.9277\n",
      "\n",
      "Epoch 00004: val_accuracy did not improve from 0.93373\n",
      "Epoch 5/10\n",
      "503/503 [==============================] - 286s 569ms/step - loss: 0.0637 - accuracy: 0.9751 - val_loss: 0.2327 - val_accuracy: 0.9398\n",
      "\n",
      "Epoch 00005: val_accuracy improved from 0.93373 to 0.93976, saving model to ./best_CNN_LSTMmodel.hdf5\n",
      "Epoch 6/10\n",
      "503/503 [==============================] - 281s 558ms/step - loss: 0.0469 - accuracy: 0.9817 - val_loss: 0.2167 - val_accuracy: 0.9337\n",
      "\n",
      "Epoch 00006: val_accuracy did not improve from 0.93976\n",
      "Epoch 7/10\n",
      "503/503 [==============================] - 281s 559ms/step - loss: 0.0386 - accuracy: 0.9859 - val_loss: 0.2838 - val_accuracy: 0.9157\n",
      "\n",
      "Epoch 00007: val_accuracy did not improve from 0.93976\n",
      "Epoch 8/10\n",
      "503/503 [==============================] - 287s 571ms/step - loss: 0.0315 - accuracy: 0.9874 - val_loss: 0.3174 - val_accuracy: 0.9036\n",
      "\n",
      "Epoch 00008: val_accuracy did not improve from 0.93976\n",
      "\n",
      "Epoch 00008: ReduceLROnPlateau reducing learning rate to 0.00020000000949949026.\n",
      "Epoch 9/10\n",
      "503/503 [==============================] - 289s 575ms/step - loss: 0.0192 - accuracy: 0.9933 - val_loss: 0.3698 - val_accuracy: 0.8916\n",
      "\n",
      "Epoch 00009: val_accuracy did not improve from 0.93976\n",
      "Epoch 10/10\n",
      "503/503 [==============================] - 289s 574ms/step - loss: 0.0137 - accuracy: 0.9952 - val_loss: 0.3799 - val_accuracy: 0.8976\n",
      "\n",
      "Epoch 00010: val_accuracy did not improve from 0.93976\n"
     ]
    }
   ],
   "source": [
    "history = model.fit(X_train,\n",
    "                    y_train,\n",
    "                    batch_size = 64,\n",
    "                    epochs = 10,\n",
    "                    verbose = 1,\n",
    "                    callbacks = callback_list,\n",
    "                    validation_split = 0.00512,\n",
    "                    shuffle = True)"
   ]
  },
  {
   "cell_type": "code",
   "execution_count": 104,
   "id": "84fb1790",
   "metadata": {
    "execution": {
     "iopub.execute_input": "2023-03-27T16:54:50.263263Z",
     "iopub.status.busy": "2023-03-27T16:54:50.262875Z",
     "iopub.status.idle": "2023-03-27T16:54:50.268983Z",
     "shell.execute_reply": "2023-03-27T16:54:50.267976Z"
    },
    "papermill": {
     "duration": 0.682969,
     "end_time": "2023-03-27T16:54:50.271807",
     "exception": false,
     "start_time": "2023-03-27T16:54:49.588838",
     "status": "completed"
    },
    "tags": []
   },
   "outputs": [
    {
     "name": "stdout",
     "output_type": "stream",
     "text": [
      "Best Validation Accuracy = 93.97590160369873\n",
      "Best Training Accuracy   = 99.51521158218384\n"
     ]
    }
   ],
   "source": [
    "print(\"Best Validation Accuracy =\", max(history.history['val_accuracy'])*100)\n",
    "print(\"Best Training Accuracy   =\", max(history.history['accuracy'])*100)"
   ]
  },
  {
   "cell_type": "code",
   "execution_count": 105,
   "id": "4962a0d9",
   "metadata": {
    "execution": {
     "iopub.execute_input": "2023-03-27T16:54:51.693731Z",
     "iopub.status.busy": "2023-03-27T16:54:51.693377Z",
     "iopub.status.idle": "2023-03-27T16:54:51.918085Z",
     "shell.execute_reply": "2023-03-27T16:54:51.917112Z"
    },
    "papermill": {
     "duration": 0.908275,
     "end_time": "2023-03-27T16:54:51.920233",
     "exception": false,
     "start_time": "2023-03-27T16:54:51.011958",
     "status": "completed"
    },
    "tags": []
   },
   "outputs": [
    {
     "data": {
      "image/png": "[encoded data removed]",
      "text/plain": [
       "<Figure size 576x396 with 1 Axes>"
      ]
     },
     "metadata": {},
     "output_type": "display_data"
    }
   ],
   "source": [
    "import matplotlib.pyplot as plt\n",
    "\n",
    "train_acc = history.history['accuracy']\n",
    "val_acc = history.history['val_accuracy']\n",
    "\n",
    "epochs = range(1, len(train_acc) + 1)\n",
    "\n",
    "plt.plot(epochs, train_acc, 'bo', label='Training accuracy')\n",
    "plt.plot(epochs, val_acc, 'b', label='Validation accuracy')\n",
    "plt.title('Training & Validation accuracy')\n",
    "plt.xlabel('Epochs')\n",
    "plt.ylabel('Accuracy')\n",
    "plt.legend()\n",
    "\n",
    "plt.show()"
   ]
  },
  {
   "cell_type": "code",
   "execution_count": 106,
   "id": "4d691f24",
   "metadata": {
    "execution": {
     "iopub.execute_input": "2023-03-27T16:54:53.572900Z",
     "iopub.status.busy": "2023-03-27T16:54:53.572518Z",
     "iopub.status.idle": "2023-03-27T16:54:53.797040Z",
     "shell.execute_reply": "2023-03-27T16:54:53.796088Z"
    },
    "papermill": {
     "duration": 1.134936,
     "end_time": "2023-03-27T16:54:53.799250",
     "exception": false,
     "start_time": "2023-03-27T16:54:52.664314",
     "status": "completed"
    },
    "tags": []
   },
   "outputs": [
    {
     "data": {
      "image/png": "[encoded data removed]",
      "text/plain": [
       "<Figure size 576x396 with 1 Axes>"
      ]
     },
     "metadata": {},
     "output_type": "display_data"
    }
   ],
   "source": [
    "train_loss = history.history['loss']\n",
    "val_loss = history.history['val_loss']\n",
    "\n",
    "plt.plot(epochs, train_loss, 'bo', label=\"Training loss\")\n",
    "plt.plot(epochs, val_loss, 'b', label='Validation loss')\n",
    "plt.title('Training & Validation loss')\n",
    "plt.xlabel('Epochs')\n",
    "plt.ylabel('Loss')\n",
    "plt.legend()\n",
    "\n",
    "plt.show()"
   ]
  },
  {
   "cell_type": "code",
   "execution_count": 107,
   "id": "9ddcee5d",
   "metadata": {
    "execution": {
     "iopub.execute_input": "2023-03-27T16:54:55.162708Z",
     "iopub.status.busy": "2023-03-27T16:54:55.160869Z",
     "iopub.status.idle": "2023-03-27T16:55:03.310112Z",
     "shell.execute_reply": "2023-03-27T16:55:03.308546Z"
    },
    "papermill": {
     "duration": 8.835764,
     "end_time": "2023-03-27T16:55:03.312393",
     "exception": false,
     "start_time": "2023-03-27T16:54:54.476629",
     "status": "completed"
    },
    "tags": []
   },
   "outputs": [
    {
     "name": "stdout",
     "output_type": "stream",
     "text": [
      "253/253 [==============================] - 8s 32ms/step - loss: 0.5405 - accuracy: 0.8975\n"
     ]
    }
   ],
   "source": [
    "test_metrics = model.evaluate(X_test, y_test)"
   ]
  },
  {
   "cell_type": "code",
   "execution_count": 108,
   "id": "7a5088b1",
   "metadata": {
    "execution": {
     "iopub.execute_input": "2023-03-27T16:55:04.988277Z",
     "iopub.status.busy": "2023-03-27T16:55:04.987896Z",
     "iopub.status.idle": "2023-03-27T16:55:04.993670Z",
     "shell.execute_reply": "2023-03-27T16:55:04.992714Z"
    },
    "papermill": {
     "duration": 0.815525,
     "end_time": "2023-03-27T16:55:04.996420",
     "exception": false,
     "start_time": "2023-03-27T16:55:04.180895",
     "status": "completed"
    },
    "tags": []
   },
   "outputs": [
    {
     "name": "stdout",
     "output_type": "stream",
     "text": [
      "Test Accuracy : 0.8974897861480713\n",
      "Test Accuracy : 0.5404596328735352\n"
     ]
    }
   ],
   "source": [
    "test_accuracy = test_metrics[1] \n",
    "test_loss = test_metrics[0]\n",
    "print(\"Test Accuracy :\", test_accuracy)\n",
    "print(\"Test Accuracy :\", test_loss)"
   ]
  },
  {
   "cell_type": "code",
   "execution_count": 109,
   "id": "bae5c258",
   "metadata": {
    "execution": {
     "iopub.execute_input": "2023-03-27T16:55:06.394266Z",
     "iopub.status.busy": "2023-03-27T16:55:06.393889Z",
     "iopub.status.idle": "2023-03-27T16:55:14.222594Z",
     "shell.execute_reply": "2023-03-27T16:55:14.220995Z"
    },
    "papermill": {
     "duration": 8.508373,
     "end_time": "2023-03-27T16:55:14.225079",
     "exception": false,
     "start_time": "2023-03-27T16:55:05.716706",
     "status": "completed"
    },
    "tags": []
   },
   "outputs": [
    {
     "name": "stdout",
     "output_type": "stream",
     "text": [
      "[[3656  360]\n",
      " [ 469 3602]]\n"
     ]
    }
   ],
   "source": [
    "import numpy as np\n",
    "from sklearn.metrics import confusion_matrix\n",
    "\n",
    "# Assuming you have your test data in X_test and your true labels in y_test\n",
    "# and that your model is already trained and saved as 'model'\n",
    "\n",
    "# Generate predicted values using the model\n",
    "y_pred = model.predict(X_test)\n",
    "\n",
    "# Convert predicted values to binary 0/1 predictions\n",
    "y_pred = np.round(y_pred)\n",
    "\n",
    "# Generate confusion matrix\n",
    "cm = confusion_matrix(y_test, y_pred)\n",
    "\n",
    "print(cm)"
   ]
  },
  {
   "cell_type": "code",
   "execution_count": 110,
   "id": "bee188f4",
   "metadata": {
    "execution": {
     "iopub.execute_input": "2023-03-27T16:55:15.873402Z",
     "iopub.status.busy": "2023-03-27T16:55:15.872864Z",
     "iopub.status.idle": "2023-03-27T16:55:23.341087Z",
     "shell.execute_reply": "2023-03-27T16:55:23.340165Z"
    },
    "papermill": {
     "duration": 8.32672,
     "end_time": "2023-03-27T16:55:23.343313",
     "exception": false,
     "start_time": "2023-03-27T16:55:15.016593",
     "status": "completed"
    },
    "tags": []
   },
   "outputs": [
    {
     "name": "stdout",
     "output_type": "stream",
     "text": [
      "              precision    recall  f1-score   support\n",
      "\n",
      "           0       0.89      0.91      0.90      4016\n",
      "           1       0.91      0.88      0.90      4071\n",
      "\n",
      "    accuracy                           0.90      8087\n",
      "   macro avg       0.90      0.90      0.90      8087\n",
      "weighted avg       0.90      0.90      0.90      8087\n",
      "\n",
      "Precision: 0.9091367995961636\n",
      "Recall: 0.8847948906902481\n",
      "Accuracy: 0.8974897984419439\n"
     ]
    },
    {
     "data": {
      "image/png": "[encoded data removed]",
      "text/plain": [
       "<Figure size 576x396 with 2 Axes>"
      ]
     },
     "metadata": {},
     "output_type": "display_data"
    }
   ],
   "source": [
    "import numpy as np\n",
    "import matplotlib.pyplot as plt\n",
    "from sklearn.metrics import classification_report, confusion_matrix\n",
    "\n",
    "# Assuming you have your test data in X_test and your true labels in y_test\n",
    "# and that your model is already trained and saved as 'model'\n",
    "\n",
    "# Generate predicted values using the model\n",
    "y_pred = model.predict(X_test)\n",
    "\n",
    "# Convert predicted values to binary 0/1 predictions\n",
    "y_pred = np.round(y_pred)\n",
    "\n",
    "# Generate classification report and confusion matrix\n",
    "class_report = classification_report(y_test, y_pred)\n",
    "cm = confusion_matrix(y_test, y_pred)\n",
    "\n",
    "# Calculate precision, recall, and accuracy values from the confusion matrix\n",
    "tn, fp, fn, tp = cm.ravel()\n",
    "precision = tp / (tp + fp)\n",
    "recall = tp / (tp + fn)\n",
    "accuracy = (tp + tn) / (tp + tn + fp + fn)\n",
    "\n",
    "# Print classification report and precision/recall/accuracy values\n",
    "print(class_report)\n",
    "print(\"Precision:\", precision)\n",
    "print(\"Recall:\", recall)\n",
    "print(\"Accuracy:\", accuracy)\n",
    "\n",
    "# Plot confusion matrix\n",
    "#plt.imshow(cm, cmap=plt.cm.Blues)\n",
    "sns.heatmap(cm,annot=True,cmap='coolwarm',xticklabels=[0,1],fmt='d',annot_kws={\"fontsize\":19})\n",
    "plt.title(\"Confusion Matrix\")\n",
    "#plt.colorbar()\n",
    "plt.xlabel(\"Predicted Label\")\n",
    "plt.ylabel(\"True Label\")\n",
    "plt.xticks([0, 1], labels=[\"Negative\", \"Positive\"])\n",
    "plt.yticks([0, 1], labels=[\"Negative\", \"Positive\"])\n",
    "plt.show()"
   ]
  },
  {
   "cell_type": "code",
   "execution_count": null,
   "id": "d7343147",
   "metadata": {
    "papermill": {
     "duration": 0.739032,
     "end_time": "2023-03-27T16:55:24.823948",
     "exception": false,
     "start_time": "2023-03-27T16:55:24.084916",
     "status": "completed"
    },
    "tags": []
   },
   "outputs": [],
   "source": []
  },
  {
   "cell_type": "code",
   "execution_count": null,
   "id": "80bcd8da",
   "metadata": {
    "papermill": {
     "duration": 0.822239,
     "end_time": "2023-03-27T16:55:26.342619",
     "exception": false,
     "start_time": "2023-03-27T16:55:25.520380",
     "status": "completed"
    },
    "tags": []
   },
   "outputs": [],
   "source": []
  }
 ],
 "metadata": {
  "kernelspec": {
   "display_name": "Python 3",
   "language": "python",
   "name": "python3"
  },
  "language_info": {
   "codemirror_mode": {
    "name": "ipython",
    "version": 3
   },
   "file_extension": ".py",
   "mimetype": "text/x-python",
   "name": "python",
   "nbconvert_exporter": "python",
   "pygments_lexer": "ipython3",
   "version": "3.7.12"
  },
  "papermill": {
   "default_parameters": {},
   "duration": 3597.721408,
   "end_time": "2023-03-27T16:55:30.877523",
   "environment_variables": {},
   "exception": null,
   "input_path": "__notebook__.ipynb",
   "output_path": "__notebook__.ipynb",
   "parameters": {},
   "start_time": "2023-03-27T15:55:33.156115",
   "version": "2.3.4"
  }
 },
 "nbformat": 4,
 "nbformat_minor": 5
}
